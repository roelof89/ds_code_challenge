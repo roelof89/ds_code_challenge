{
 "cells": [
  {
   "cell_type": "markdown",
   "metadata": {},
   "source": [
    "# 4 Predictive Analytic tasks: Anomaly\n",
    "Perform anomaly detection for requests per department per day in the first 6 months\n"
   ]
  },
  {
   "cell_type": "code",
   "execution_count": 1,
   "metadata": {},
   "outputs": [],
   "source": [
    "import sqldf\n",
    "import pandas as pd\n",
    "import helper.functions as hf\n",
    "from datetime import datetime\n",
    "import plotly.express as px"
   ]
  },
  {
   "cell_type": "code",
   "execution_count": 3,
   "metadata": {},
   "outputs": [],
   "source": [
    "# load data\n",
    "col_types = {\n",
    "    'notification_number':str,\n",
    "    'reference_number':str\n",
    "    }\n",
    "date_cols = ['creation_timestamp','completion_timestamp']\n",
    "df = pd.read_csv('data/raw/sr_hex.csv', parse_dates=date_cols,dtype=col_types)\n",
    "df['date'] = pd.to_datetime(df['creation_timestamp'].dt.date, format='%Y-%m-%d')"
   ]
  },
  {
   "cell_type": "code",
   "execution_count": 4,
   "metadata": {},
   "outputs": [],
   "source": [
    "query = '''\n",
    "select department,\n",
    "       date,\n",
    "       count(distinct notification_number) req\n",
    "from df\n",
    "group by department, date\n",
    "having date < '2020-07-01' and department is not null\n",
    "order by department, date\n",
    "'''\n",
    "\n",
    "df_test = sqldf.run(query)"
   ]
  },
  {
   "cell_type": "code",
   "execution_count": 5,
   "metadata": {},
   "outputs": [
    {
     "data": {
      "application/vnd.plotly.v1+json": {
       "config": {
        "plotlyServerURL": "https://plot.ly"
       },
       "data": [
        {
         "alignmentgroup": "True",
         "hovertemplate": "department=%{x}<br>req=%{y}<extra></extra>",
         "legendgroup": "",
         "marker": {
          "color": "#636efa"
         },
         "name": "",
         "notched": false,
         "offsetgroup": "",
         "orientation": "v",
         "showlegend": false,
         "type": "box",
         "x": [
          "Bulk Services",
          "Bulk Services",
          "Bulk Services",
          "Bulk Services",
          "Bulk Services",
          "City Health",
          "City Health",
          "City Health",
          "City Health",
          "City Health",
          "City Health",
          "City Health",
          "City Health",
          "City Health",
          "City Health",
          "City Health",
          "City Health",
          "City Health",
          "City Health",
          "City Health",
          "City Health",
          "City Health",
          "City Health",
          "City Health",
          "City Health",
          "City Health",
          "City Health",
          "City Health",
          "City Health",
          "City Health",
          "City Health",
          "City Health",
          "City Health",
          "City Health",
          "City Health",
          "City Health",
          "City Health",
          "City Health",
          "City Health",
          "City Health",
          "City Health",
          "City Health",
          "City Health",
          "City Health",
          "City Health",
          "City Health",
          "City Health",
          "City Health",
          "City Health",
          "City Health",
          "City Health",
          "City Health",
          "City Health",
          "City Health",
          "City Health",
          "City Health",
          "City Health",
          "City Health",
          "City Health",
          "City Health",
          "City Health",
          "City Health",
          "City Health",
          "City Health",
          "City Health",
          "City Health",
          "City Health",
          "City Health",
          "City Health",
          "City Health",
          "City Health",
          "City Health",
          "City Health",
          "City Health",
          "City Health",
          "City Health",
          "City Health",
          "City Health",
          "City Health",
          "City Health",
          "City Health",
          "City Health",
          "City Health",
          "City Health",
          "City Health",
          "City Health",
          "City Health",
          "City Health",
          "City Health",
          "City Health",
          "City Health",
          "City Health",
          "City Health",
          "City Health",
          "City Health",
          "City Health",
          "City Health",
          "City Health",
          "City Health",
          "City Health",
          "City Health",
          "City Health",
          "City Health",
          "City Health",
          "City Health",
          "City Health",
          "City Health",
          "City Health",
          "City Health",
          "City Health",
          "City Health",
          "City Health",
          "City Health",
          "City Health",
          "City Health",
          "City Health",
          "City Health",
          "City Health",
          "City Health",
          "City Health",
          "City Health",
          "City Health",
          "City Health",
          "City Health",
          "City Health",
          "City Health",
          "City Health",
          "City Health",
          "City Health",
          "City Health",
          "City Health",
          "City Health",
          "City Health",
          "City Health",
          "City Health",
          "City Health",
          "City Health",
          "City Health",
          "City Health",
          "City Health",
          "City Health",
          "City Health",
          "City Health",
          "City Health",
          "City Health",
          "City Health",
          "City Health",
          "City Health",
          "City Health",
          "City Health",
          "City Health",
          "City Health",
          "City Health",
          "City Health",
          "City Health",
          "City Health",
          "City Health",
          "City Health",
          "City Health",
          "City Health",
          "City Health",
          "City Health",
          "City Health",
          "City Health",
          "City Health",
          "City Health",
          "City Health",
          "City Health",
          "City Health",
          "City Health",
          "City Health",
          "City Health",
          "City Health",
          "City Health",
          "City Health",
          "City Health",
          "City Health",
          "Commercial Services",
          "Commercial Services",
          "Commercial Services",
          "Commercial Services",
          "Commercial Services",
          "Commercial Services",
          "Commercial Services",
          "Commercial Services",
          "Commercial Services",
          "Commercial Services",
          "Commercial Services",
          "Commercial Services",
          "Commercial Services",
          "Commercial Services",
          "Commercial Services",
          "Commercial Services",
          "Commercial Services",
          "Commercial Services",
          "Commercial Services",
          "Commercial Services",
          "Commercial Services",
          "Commercial Services",
          "Commercial Services",
          "Commercial Services",
          "Commercial Services",
          "Commercial Services",
          "Commercial Services",
          "Commercial Services",
          "Commercial Services",
          "Commercial Services",
          "Commercial Services",
          "Commercial Services",
          "Commercial Services",
          "Commercial Services",
          "Commercial Services",
          "Commercial Services",
          "Commercial Services",
          "Commercial Services",
          "Commercial Services",
          "Commercial Services",
          "Commercial Services",
          "Commercial Services",
          "Commercial Services",
          "Commercial Services",
          "Commercial Services",
          "Commercial Services",
          "Commercial Services",
          "Commercial Services",
          "Commercial Services",
          "Commercial Services",
          "Commercial Services",
          "Commercial Services",
          "Commercial Services",
          "Commercial Services",
          "Commercial Services",
          "Commercial Services",
          "Commercial Services",
          "Commercial Services",
          "Commercial Services",
          "Commercial Services",
          "Commercial Services",
          "Commercial Services",
          "Commercial Services",
          "Commercial Services",
          "Commercial Services",
          "Commercial Services",
          "Commercial Services",
          "Commercial Services",
          "Commercial Services",
          "Commercial Services",
          "Commercial Services",
          "Commercial Services",
          "Commercial Services",
          "Commercial Services",
          "Commercial Services",
          "Commercial Services",
          "Commercial Services",
          "Commercial Services",
          "Commercial Services",
          "Commercial Services",
          "Commercial Services",
          "Commercial Services",
          "Commercial Services",
          "Commercial Services",
          "Commercial Services",
          "Commercial Services",
          "Commercial Services",
          "Commercial Services",
          "Commercial Services",
          "Commercial Services",
          "Commercial Services",
          "Commercial Services",
          "Commercial Services",
          "Commercial Services",
          "Commercial Services",
          "Commercial Services",
          "Commercial Services",
          "Commercial Services",
          "Commercial Services",
          "Commercial Services",
          "Commercial Services",
          "Commercial Services",
          "Commercial Services",
          "Commercial Services",
          "Commercial Services",
          "Commercial Services",
          "Commercial Services",
          "Commercial Services",
          "Commercial Services",
          "Commercial Services",
          "Commercial Services",
          "Commercial Services",
          "Commercial Services",
          "Commercial Services",
          "Commercial Services",
          "Commercial Services",
          "Commercial Services",
          "Commercial Services",
          "Commercial Services",
          "Commercial Services",
          "Commercial Services",
          "Commercial Services",
          "Commercial Services",
          "Commercial Services",
          "Commercial Services",
          "Commercial Services",
          "Commercial Services",
          "Commercial Services",
          "Commercial Services",
          "Commercial Services",
          "Commercial Services",
          "Commercial Services",
          "Commercial Services",
          "Commercial Services",
          "Commercial Services",
          "Commercial Services",
          "Commercial Services",
          "Commercial Services",
          "Commercial Services",
          "Commercial Services",
          "Commercial Services",
          "Commercial Services",
          "Commercial Services",
          "Commercial Services",
          "Commercial Services",
          "Commercial Services",
          "Commercial Services",
          "Commercial Services",
          "Commercial Services",
          "Commercial Services",
          "Commercial Services",
          "Commercial Services",
          "Commercial Services",
          "Commercial Services",
          "Commercial Services",
          "Commercial Services",
          "Commercial Services",
          "Commercial Services",
          "Commercial Services",
          "Commercial Services",
          "Commercial Services",
          "Commercial Services",
          "Commercial Services",
          "Commercial Services",
          "Commercial Services",
          "Commercial Services",
          "Commercial Services",
          "Commercial Services",
          "Commercial Services",
          "Commercial Services",
          "Commercial Services",
          "Commercial Services",
          "Commercial Services",
          "Commercial Services",
          "Commercial Services",
          "Commercial Services",
          "Commercial Services",
          "Commercial Services",
          "Commercial Services",
          "Commercial Services",
          "Commercial Services",
          "Commercial Services",
          "Customer Relations",
          "Customer Relations",
          "Customer Relations",
          "Customer Relations",
          "Customer Relations",
          "Customer Relations",
          "Customer Relations",
          "Customer Relations",
          "Customer Relations",
          "Customer Relations",
          "Customer Relations",
          "Customer Relations",
          "Customer Relations",
          "Customer Relations",
          "Customer Relations",
          "Customer Relations",
          "Customer Relations",
          "Customer Relations",
          "Customer Relations",
          "Customer Relations",
          "Customer Relations",
          "Customer Relations",
          "Customer Relations",
          "Customer Relations",
          "Customer Relations",
          "Customer Relations",
          "Customer Relations",
          "Customer Relations",
          "Customer Relations",
          "Customer Relations",
          "Customer Relations",
          "Customer Relations",
          "Customer Relations",
          "Customer Relations",
          "Customer Relations",
          "Customer Relations",
          "Customer Relations",
          "Customer Relations",
          "Customer Relations",
          "Customer Relations",
          "Customer Relations",
          "Customer Relations",
          "Customer Relations",
          "Customer Relations",
          "Customer Relations",
          "Customer Relations",
          "Customer Relations",
          "Customer Relations",
          "Customer Relations",
          "Customer Relations",
          "Customer Relations",
          "Customer Relations",
          "Customer Relations",
          "Customer Relations",
          "Customer Relations",
          "Customer Relations",
          "Customer Relations",
          "Customer Relations",
          "Customer Relations",
          "Customer Relations",
          "Customer Relations",
          "Customer Relations",
          "Customer Relations",
          "Customer Relations",
          "Customer Relations",
          "Customer Relations",
          "Customer Relations",
          "Customer Relations",
          "Customer Relations",
          "Customer Relations",
          "Customer Relations",
          "Customer Relations",
          "Customer Relations",
          "Customer Relations",
          "Customer Relations",
          "Customer Relations",
          "Customer Relations",
          "Customer Relations",
          "Customer Relations",
          "Customer Relations",
          "Customer Relations",
          "Customer Relations",
          "Customer Relations",
          "Customer Relations",
          "Customer Relations",
          "Customer Relations",
          "Customer Relations",
          "Customer Relations",
          "Customer Relations",
          "Customer Relations",
          "Customer Relations",
          "Customer Relations",
          "Customer Relations",
          "Customer Relations",
          "Customer Relations",
          "Customer Relations",
          "Customer Relations",
          "Customer Relations",
          "Customer Relations",
          "Customer Relations",
          "Customer Relations",
          "Customer Relations",
          "Customer Relations",
          "Customer Relations",
          "Customer Relations",
          "Customer Relations",
          "Customer Relations",
          "Customer Relations",
          "Customer Relations",
          "Customer Relations",
          "Customer Relations",
          "Customer Relations",
          "Customer Relations",
          "Customer Relations",
          "Customer Relations",
          "Customer Relations",
          "Customer Relations",
          "Customer Relations",
          "Customer Relations",
          "Customer Relations",
          "Customer Relations",
          "Customer Relations",
          "Customer Relations",
          "Customer Relations",
          "Customer Relations",
          "Customer Relations",
          "Customer Relations",
          "Customer Relations",
          "Customer Relations",
          "Customer Relations",
          "Customer Relations",
          "Customer Relations",
          "Customer Relations",
          "Customer Relations",
          "Customer Relations",
          "Customer Relations",
          "Customer Relations",
          "Customer Relations",
          "Customer Relations",
          "Customer Relations",
          "Customer Relations",
          "Customer Relations",
          "Customer Relations",
          "Customer Relations",
          "Customer Relations",
          "Customer Relations",
          "Customer Relations",
          "Customer Relations",
          "Customer Relations",
          "Customer Relations",
          "Customer Relations",
          "Customer Relations",
          "Customer Relations",
          "Customer Relations",
          "Customer Relations",
          "Customer Relations",
          "Customer Relations",
          "Customer Relations",
          "Distribution Services",
          "Distribution Services",
          "Distribution Services",
          "Distribution Services",
          "Distribution Services",
          "Distribution Services",
          "Distribution Services",
          "Distribution Services",
          "Distribution Services",
          "Distribution Services",
          "Distribution Services",
          "Distribution Services",
          "Distribution Services",
          "Distribution Services",
          "Distribution Services",
          "Distribution Services",
          "Distribution Services",
          "Distribution Services",
          "Distribution Services",
          "Distribution Services",
          "Distribution Services",
          "Distribution Services",
          "Distribution Services",
          "Distribution Services",
          "Distribution Services",
          "Distribution Services",
          "Distribution Services",
          "Distribution Services",
          "Distribution Services",
          "Distribution Services",
          "Distribution Services",
          "Distribution Services",
          "Distribution Services",
          "Distribution Services",
          "Distribution Services",
          "Distribution Services",
          "Distribution Services",
          "Distribution Services",
          "Distribution Services",
          "Distribution Services",
          "Distribution Services",
          "Distribution Services",
          "Distribution Services",
          "Distribution Services",
          "Distribution Services",
          "Distribution Services",
          "Distribution Services",
          "Distribution Services",
          "Distribution Services",
          "Distribution Services",
          "Distribution Services",
          "Distribution Services",
          "Distribution Services",
          "Distribution Services",
          "Distribution Services",
          "Distribution Services",
          "Distribution Services",
          "Distribution Services",
          "Distribution Services",
          "Distribution Services",
          "Distribution Services",
          "Distribution Services",
          "Distribution Services",
          "Distribution Services",
          "Distribution Services",
          "Distribution Services",
          "Distribution Services",
          "Distribution Services",
          "Distribution Services",
          "Distribution Services",
          "Distribution Services",
          "Distribution Services",
          "Distribution Services",
          "Distribution Services",
          "Distribution Services",
          "Distribution Services",
          "Distribution Services",
          "Distribution Services",
          "Distribution Services",
          "Distribution Services",
          "Distribution Services",
          "Distribution Services",
          "Distribution Services",
          "Distribution Services",
          "Distribution Services",
          "Distribution Services",
          "Distribution Services",
          "Distribution Services",
          "Distribution Services",
          "Distribution Services",
          "Distribution Services",
          "Distribution Services",
          "Distribution Services",
          "Distribution Services",
          "Distribution Services",
          "Distribution Services",
          "Distribution Services",
          "Distribution Services",
          "Distribution Services",
          "Distribution Services",
          "Distribution Services",
          "Distribution Services",
          "Distribution Services",
          "Distribution Services",
          "Distribution Services",
          "Distribution Services",
          "Distribution Services",
          "Distribution Services",
          "Distribution Services",
          "Distribution Services",
          "Distribution Services",
          "Distribution Services",
          "Distribution Services",
          "Distribution Services",
          "Distribution Services",
          "Distribution Services",
          "Distribution Services",
          "Distribution Services",
          "Distribution Services",
          "Distribution Services",
          "Distribution Services",
          "Distribution Services",
          "Distribution Services",
          "Distribution Services",
          "Distribution Services",
          "Distribution Services",
          "Distribution Services",
          "Distribution Services",
          "Distribution Services",
          "Distribution Services",
          "Distribution Services",
          "Distribution Services",
          "Distribution Services",
          "Distribution Services",
          "Distribution Services",
          "Distribution Services",
          "Distribution Services",
          "Distribution Services",
          "Distribution Services",
          "Distribution Services",
          "Distribution Services",
          "Distribution Services",
          "Distribution Services",
          "Distribution Services",
          "Distribution Services",
          "Distribution Services",
          "Distribution Services",
          "Distribution Services",
          "Distribution Services",
          "Distribution Services",
          "Distribution Services",
          "Distribution Services",
          "Distribution Services",
          "Distribution Services",
          "Distribution Services",
          "Distribution Services",
          "Distribution Services",
          "Distribution Services",
          "Distribution Services",
          "Distribution Services",
          "Distribution Services",
          "Distribution Services",
          "Distribution Services",
          "Distribution Services",
          "Distribution Services",
          "Distribution Services",
          "Distribution Services",
          "Distribution Services",
          "Distribution Services",
          "Distribution Services",
          "Distribution Services",
          "Distribution Services",
          "Distribution Services",
          "Distribution Services",
          "Distribution Services",
          "Distribution Services",
          "Distribution Services",
          "Distribution Services",
          "Distribution Services",
          "Distribution Services",
          "Distribution Services",
          "Distribution Services",
          "Electricity Generation and Distribution",
          "Electricity Generation and Distribution",
          "Electricity Generation and Distribution",
          "Electricity Generation and Distribution",
          "Electricity Generation and Distribution",
          "Electricity Generation and Distribution",
          "Electricity Generation and Distribution",
          "Electricity Generation and Distribution",
          "Electricity Generation and Distribution",
          "Electricity Generation and Distribution",
          "Electricity Generation and Distribution",
          "Electricity Generation and Distribution",
          "Electricity Generation and Distribution",
          "Electricity Generation and Distribution",
          "Electricity Generation and Distribution",
          "Electricity Generation and Distribution",
          "Electricity Generation and Distribution",
          "Electricity Generation and Distribution",
          "Electricity Generation and Distribution",
          "Electricity Generation and Distribution",
          "Electricity Generation and Distribution",
          "Electricity Generation and Distribution",
          "Electricity Generation and Distribution",
          "Electricity Generation and Distribution",
          "Electricity Generation and Distribution",
          "Electricity Generation and Distribution",
          "Electricity Generation and Distribution",
          "Electricity Generation and Distribution",
          "Electricity Generation and Distribution",
          "Electricity Generation and Distribution",
          "Electricity Generation and Distribution",
          "Electricity Generation and Distribution",
          "Electricity Generation and Distribution",
          "Electricity Generation and Distribution",
          "Electricity Generation and Distribution",
          "Electricity Generation and Distribution",
          "Electricity Generation and Distribution",
          "Electricity Generation and Distribution",
          "Electricity Generation and Distribution",
          "Electricity Generation and Distribution",
          "Electricity Generation and Distribution",
          "Electricity Generation and Distribution",
          "Electricity Generation and Distribution",
          "Electricity Generation and Distribution",
          "Electricity Generation and Distribution",
          "Electricity Generation and Distribution",
          "Electricity Generation and Distribution",
          "Electricity Generation and Distribution",
          "Electricity Generation and Distribution",
          "Electricity Generation and Distribution",
          "Electricity Generation and Distribution",
          "Electricity Generation and Distribution",
          "Electricity Generation and Distribution",
          "Electricity Generation and Distribution",
          "Electricity Generation and Distribution",
          "Electricity Generation and Distribution",
          "Electricity Generation and Distribution",
          "Electricity Generation and Distribution",
          "Electricity Generation and Distribution",
          "Electricity Generation and Distribution",
          "Electricity Generation and Distribution",
          "Electricity Generation and Distribution",
          "Electricity Generation and Distribution",
          "Electricity Generation and Distribution",
          "Electricity Generation and Distribution",
          "Electricity Generation and Distribution",
          "Electricity Generation and Distribution",
          "Electricity Generation and Distribution",
          "Electricity Generation and Distribution",
          "Electricity Generation and Distribution",
          "Electricity Generation and Distribution",
          "Electricity Generation and Distribution",
          "Electricity Generation and Distribution",
          "Electricity Generation and Distribution",
          "Electricity Generation and Distribution",
          "Electricity Generation and Distribution",
          "Electricity Generation and Distribution",
          "Electricity Generation and Distribution",
          "Electricity Generation and Distribution",
          "Electricity Generation and Distribution",
          "Electricity Generation and Distribution",
          "Electricity Generation and Distribution",
          "Electricity Generation and Distribution",
          "Electricity Generation and Distribution",
          "Electricity Generation and Distribution",
          "Electricity Generation and Distribution",
          "Electricity Generation and Distribution",
          "Electricity Generation and Distribution",
          "Electricity Generation and Distribution",
          "Electricity Generation and Distribution",
          "Electricity Generation and Distribution",
          "Electricity Generation and Distribution",
          "Electricity Generation and Distribution",
          "Electricity Generation and Distribution",
          "Electricity Generation and Distribution",
          "Electricity Generation and Distribution",
          "Electricity Generation and Distribution",
          "Electricity Generation and Distribution",
          "Electricity Generation and Distribution",
          "Electricity Generation and Distribution",
          "Electricity Generation and Distribution",
          "Electricity Generation and Distribution",
          "Electricity Generation and Distribution",
          "Electricity Generation and Distribution",
          "Electricity Generation and Distribution",
          "Electricity Generation and Distribution",
          "Electricity Generation and Distribution",
          "Electricity Generation and Distribution",
          "Electricity Generation and Distribution",
          "Electricity Generation and Distribution",
          "Electricity Generation and Distribution",
          "Electricity Generation and Distribution",
          "Electricity Generation and Distribution",
          "Electricity Generation and Distribution",
          "Electricity Generation and Distribution",
          "Electricity Generation and Distribution",
          "Electricity Generation and Distribution",
          "Electricity Generation and Distribution",
          "Electricity Generation and Distribution",
          "Electricity Generation and Distribution",
          "Electricity Generation and Distribution",
          "Electricity Generation and Distribution",
          "Electricity Generation and Distribution",
          "Electricity Generation and Distribution",
          "Electricity Generation and Distribution",
          "Electricity Generation and Distribution",
          "Electricity Generation and Distribution",
          "Electricity Generation and Distribution",
          "Electricity Generation and Distribution",
          "Electricity Generation and Distribution",
          "Electricity Generation and Distribution",
          "Electricity Generation and Distribution",
          "Electricity Generation and Distribution",
          "Electricity Generation and Distribution",
          "Electricity Generation and Distribution",
          "Electricity Generation and Distribution",
          "Electricity Generation and Distribution",
          "Electricity Generation and Distribution",
          "Electricity Generation and Distribution",
          "Electricity Generation and Distribution",
          "Electricity Generation and Distribution",
          "Electricity Generation and Distribution",
          "Electricity Generation and Distribution",
          "Electricity Generation and Distribution",
          "Electricity Generation and Distribution",
          "Electricity Generation and Distribution",
          "Electricity Generation and Distribution",
          "Electricity Generation and Distribution",
          "Electricity Generation and Distribution",
          "Electricity Generation and Distribution",
          "Electricity Generation and Distribution",
          "Electricity Generation and Distribution",
          "Electricity Generation and Distribution",
          "Electricity Generation and Distribution",
          "Electricity Generation and Distribution",
          "Electricity Generation and Distribution",
          "Electricity Generation and Distribution",
          "Electricity Generation and Distribution",
          "Electricity Generation and Distribution",
          "Electricity Generation and Distribution",
          "Electricity Generation and Distribution",
          "Electricity Generation and Distribution",
          "Electricity Generation and Distribution",
          "Electricity Generation and Distribution",
          "Electricity Generation and Distribution",
          "Electricity Generation and Distribution",
          "Electricity Generation and Distribution",
          "Electricity Generation and Distribution",
          "Electricity Generation and Distribution",
          "Electricity Generation and Distribution",
          "Electricity Generation and Distribution",
          "Electricity Generation and Distribution",
          "Electricity Generation and Distribution",
          "Electricity Generation and Distribution",
          "Electricity Generation and Distribution",
          "Electricity Generation and Distribution",
          "Electricity Generation and Distribution",
          "Electricity Generation and Distribution",
          "Electricity Generation and Distribution",
          "Electricity Generation and Distribution",
          "Electricity Generation and Distribution",
          "Electricity Generation and Distribution",
          "Home Ownership Transfer, Tenancy Management and Staff Housing",
          "Home Ownership Transfer, Tenancy Management and Staff Housing",
          "Home Ownership Transfer, Tenancy Management and Staff Housing",
          "Home Ownership Transfer, Tenancy Management and Staff Housing",
          "Home Ownership Transfer, Tenancy Management and Staff Housing",
          "Home Ownership Transfer, Tenancy Management and Staff Housing",
          "Home Ownership Transfer, Tenancy Management and Staff Housing",
          "Home Ownership Transfer, Tenancy Management and Staff Housing",
          "Home Ownership Transfer, Tenancy Management and Staff Housing",
          "Home Ownership Transfer, Tenancy Management and Staff Housing",
          "Home Ownership Transfer, Tenancy Management and Staff Housing",
          "Home Ownership Transfer, Tenancy Management and Staff Housing",
          "Home Ownership Transfer, Tenancy Management and Staff Housing",
          "Home Ownership Transfer, Tenancy Management and Staff Housing",
          "Home Ownership Transfer, Tenancy Management and Staff Housing",
          "Home Ownership Transfer, Tenancy Management and Staff Housing",
          "Home Ownership Transfer, Tenancy Management and Staff Housing",
          "Home Ownership Transfer, Tenancy Management and Staff Housing",
          "Home Ownership Transfer, Tenancy Management and Staff Housing",
          "Home Ownership Transfer, Tenancy Management and Staff Housing",
          "Home Ownership Transfer, Tenancy Management and Staff Housing",
          "Home Ownership Transfer, Tenancy Management and Staff Housing",
          "Home Ownership Transfer, Tenancy Management and Staff Housing",
          "Home Ownership Transfer, Tenancy Management and Staff Housing",
          "Home Ownership Transfer, Tenancy Management and Staff Housing",
          "Home Ownership Transfer, Tenancy Management and Staff Housing",
          "Home Ownership Transfer, Tenancy Management and Staff Housing",
          "Home Ownership Transfer, Tenancy Management and Staff Housing",
          "Home Ownership Transfer, Tenancy Management and Staff Housing",
          "Home Ownership Transfer, Tenancy Management and Staff Housing",
          "Home Ownership Transfer, Tenancy Management and Staff Housing",
          "Home Ownership Transfer, Tenancy Management and Staff Housing",
          "Home Ownership Transfer, Tenancy Management and Staff Housing",
          "Home Ownership Transfer, Tenancy Management and Staff Housing",
          "Home Ownership Transfer, Tenancy Management and Staff Housing",
          "Home Ownership Transfer, Tenancy Management and Staff Housing",
          "Home Ownership Transfer, Tenancy Management and Staff Housing",
          "Home Ownership Transfer, Tenancy Management and Staff Housing",
          "Home Ownership Transfer, Tenancy Management and Staff Housing",
          "Home Ownership Transfer, Tenancy Management and Staff Housing",
          "Home Ownership Transfer, Tenancy Management and Staff Housing",
          "Home Ownership Transfer, Tenancy Management and Staff Housing",
          "Home Ownership Transfer, Tenancy Management and Staff Housing",
          "Home Ownership Transfer, Tenancy Management and Staff Housing",
          "Home Ownership Transfer, Tenancy Management and Staff Housing",
          "Home Ownership Transfer, Tenancy Management and Staff Housing",
          "Home Ownership Transfer, Tenancy Management and Staff Housing",
          "Home Ownership Transfer, Tenancy Management and Staff Housing",
          "Home Ownership Transfer, Tenancy Management and Staff Housing",
          "Home Ownership Transfer, Tenancy Management and Staff Housing",
          "Home Ownership Transfer, Tenancy Management and Staff Housing",
          "Home Ownership Transfer, Tenancy Management and Staff Housing",
          "Home Ownership Transfer, Tenancy Management and Staff Housing",
          "Home Ownership Transfer, Tenancy Management and Staff Housing",
          "Home Ownership Transfer, Tenancy Management and Staff Housing",
          "Home Ownership Transfer, Tenancy Management and Staff Housing",
          "Home Ownership Transfer, Tenancy Management and Staff Housing",
          "Home Ownership Transfer, Tenancy Management and Staff Housing",
          "Home Ownership Transfer, Tenancy Management and Staff Housing",
          "Home Ownership Transfer, Tenancy Management and Staff Housing",
          "Home Ownership Transfer, Tenancy Management and Staff Housing",
          "Home Ownership Transfer, Tenancy Management and Staff Housing",
          "Home Ownership Transfer, Tenancy Management and Staff Housing",
          "Home Ownership Transfer, Tenancy Management and Staff Housing",
          "Home Ownership Transfer, Tenancy Management and Staff Housing",
          "Home Ownership Transfer, Tenancy Management and Staff Housing",
          "Home Ownership Transfer, Tenancy Management and Staff Housing",
          "Home Ownership Transfer, Tenancy Management and Staff Housing",
          "Home Ownership Transfer, Tenancy Management and Staff Housing",
          "Home Ownership Transfer, Tenancy Management and Staff Housing",
          "Home Ownership Transfer, Tenancy Management and Staff Housing",
          "Home Ownership Transfer, Tenancy Management and Staff Housing",
          "Home Ownership Transfer, Tenancy Management and Staff Housing",
          "Home Ownership Transfer, Tenancy Management and Staff Housing",
          "Home Ownership Transfer, Tenancy Management and Staff Housing",
          "Home Ownership Transfer, Tenancy Management and Staff Housing",
          "Home Ownership Transfer, Tenancy Management and Staff Housing",
          "Home Ownership Transfer, Tenancy Management and Staff Housing",
          "Home Ownership Transfer, Tenancy Management and Staff Housing",
          "Home Ownership Transfer, Tenancy Management and Staff Housing",
          "Home Ownership Transfer, Tenancy Management and Staff Housing",
          "Home Ownership Transfer, Tenancy Management and Staff Housing",
          "Home Ownership Transfer, Tenancy Management and Staff Housing",
          "Home Ownership Transfer, Tenancy Management and Staff Housing",
          "Home Ownership Transfer, Tenancy Management and Staff Housing",
          "Home Ownership Transfer, Tenancy Management and Staff Housing",
          "Home Ownership Transfer, Tenancy Management and Staff Housing",
          "Home Ownership Transfer, Tenancy Management and Staff Housing",
          "Home Ownership Transfer, Tenancy Management and Staff Housing",
          "Home Ownership Transfer, Tenancy Management and Staff Housing",
          "Home Ownership Transfer, Tenancy Management and Staff Housing",
          "Home Ownership Transfer, Tenancy Management and Staff Housing",
          "Home Ownership Transfer, Tenancy Management and Staff Housing",
          "Home Ownership Transfer, Tenancy Management and Staff Housing",
          "Home Ownership Transfer, Tenancy Management and Staff Housing",
          "Home Ownership Transfer, Tenancy Management and Staff Housing",
          "Home Ownership Transfer, Tenancy Management and Staff Housing",
          "Home Ownership Transfer, Tenancy Management and Staff Housing",
          "Home Ownership Transfer, Tenancy Management and Staff Housing",
          "Home Ownership Transfer, Tenancy Management and Staff Housing",
          "Home Ownership Transfer, Tenancy Management and Staff Housing",
          "Home Ownership Transfer, Tenancy Management and Staff Housing",
          "Home Ownership Transfer, Tenancy Management and Staff Housing",
          "Home Ownership Transfer, Tenancy Management and Staff Housing",
          "Home Ownership Transfer, Tenancy Management and Staff Housing",
          "Home Ownership Transfer, Tenancy Management and Staff Housing",
          "Home Ownership Transfer, Tenancy Management and Staff Housing",
          "Home Ownership Transfer, Tenancy Management and Staff Housing",
          "Home Ownership Transfer, Tenancy Management and Staff Housing",
          "Home Ownership Transfer, Tenancy Management and Staff Housing",
          "Home Ownership Transfer, Tenancy Management and Staff Housing",
          "Home Ownership Transfer, Tenancy Management and Staff Housing",
          "Home Ownership Transfer, Tenancy Management and Staff Housing",
          "Home Ownership Transfer, Tenancy Management and Staff Housing",
          "Home Ownership Transfer, Tenancy Management and Staff Housing",
          "Home Ownership Transfer, Tenancy Management and Staff Housing",
          "Home Ownership Transfer, Tenancy Management and Staff Housing",
          "Home Ownership Transfer, Tenancy Management and Staff Housing",
          "Home Ownership Transfer, Tenancy Management and Staff Housing",
          "Home Ownership Transfer, Tenancy Management and Staff Housing",
          "Home Ownership Transfer, Tenancy Management and Staff Housing",
          "Home Ownership Transfer, Tenancy Management and Staff Housing",
          "Home Ownership Transfer, Tenancy Management and Staff Housing",
          "Home Ownership Transfer, Tenancy Management and Staff Housing",
          "Home Ownership Transfer, Tenancy Management and Staff Housing",
          "Home Ownership Transfer, Tenancy Management and Staff Housing",
          "Home Ownership Transfer, Tenancy Management and Staff Housing",
          "Home Ownership Transfer, Tenancy Management and Staff Housing",
          "Home Ownership Transfer, Tenancy Management and Staff Housing",
          "Home Ownership Transfer, Tenancy Management and Staff Housing",
          "Home Ownership Transfer, Tenancy Management and Staff Housing",
          "Home Ownership Transfer, Tenancy Management and Staff Housing",
          "Home Ownership Transfer, Tenancy Management and Staff Housing",
          "Home Ownership Transfer, Tenancy Management and Staff Housing",
          "Home Ownership Transfer, Tenancy Management and Staff Housing",
          "Home Ownership Transfer, Tenancy Management and Staff Housing",
          "Home Ownership Transfer, Tenancy Management and Staff Housing",
          "Home Ownership Transfer, Tenancy Management and Staff Housing",
          "Home Ownership Transfer, Tenancy Management and Staff Housing",
          "Home Ownership Transfer, Tenancy Management and Staff Housing",
          "Home Ownership Transfer, Tenancy Management and Staff Housing",
          "Home Ownership Transfer, Tenancy Management and Staff Housing",
          "Home Ownership Transfer, Tenancy Management and Staff Housing",
          "Home Ownership Transfer, Tenancy Management and Staff Housing",
          "Home Ownership Transfer, Tenancy Management and Staff Housing",
          "Home Ownership Transfer, Tenancy Management and Staff Housing",
          "Home Ownership Transfer, Tenancy Management and Staff Housing",
          "Home Ownership Transfer, Tenancy Management and Staff Housing",
          "Home Ownership Transfer, Tenancy Management and Staff Housing",
          "Home Ownership Transfer, Tenancy Management and Staff Housing",
          "Home Ownership Transfer, Tenancy Management and Staff Housing",
          "Home Ownership Transfer, Tenancy Management and Staff Housing",
          "Home Ownership Transfer, Tenancy Management and Staff Housing",
          "Home Ownership Transfer, Tenancy Management and Staff Housing",
          "Home Ownership Transfer, Tenancy Management and Staff Housing",
          "Home Ownership Transfer, Tenancy Management and Staff Housing",
          "Home Ownership Transfer, Tenancy Management and Staff Housing",
          "Home Ownership Transfer, Tenancy Management and Staff Housing",
          "Home Ownership Transfer, Tenancy Management and Staff Housing",
          "Home Ownership Transfer, Tenancy Management and Staff Housing",
          "Home Ownership Transfer, Tenancy Management and Staff Housing",
          "Home Ownership Transfer, Tenancy Management and Staff Housing",
          "Home Ownership Transfer, Tenancy Management and Staff Housing",
          "Home Ownership Transfer, Tenancy Management and Staff Housing",
          "Home Ownership Transfer, Tenancy Management and Staff Housing",
          "Home Ownership Transfer, Tenancy Management and Staff Housing",
          "Home Ownership Transfer, Tenancy Management and Staff Housing",
          "Home Ownership Transfer, Tenancy Management and Staff Housing",
          "Home Ownership Transfer, Tenancy Management and Staff Housing",
          "Home Ownership Transfer, Tenancy Management and Staff Housing",
          "Home Ownership Transfer, Tenancy Management and Staff Housing",
          "Home Ownership Transfer, Tenancy Management and Staff Housing",
          "Home Ownership Transfer, Tenancy Management and Staff Housing",
          "Legal Services",
          "Operational Coordination",
          "Operational Coordination",
          "Operational Coordination",
          "Operational Coordination",
          "Operational Coordination",
          "Operational Coordination",
          "Operational Coordination",
          "Operational Coordination",
          "Operational Coordination",
          "Operational Coordination",
          "Operational Coordination",
          "Operational Coordination",
          "Operational Coordination",
          "Operational Coordination",
          "Operational Coordination",
          "Operational Coordination",
          "Operational Coordination",
          "Operational Coordination",
          "Operational Coordination",
          "Operational Coordination",
          "Operational Coordination",
          "Operational Coordination",
          "Operational Coordination",
          "Operational Coordination",
          "Operational Coordination",
          "Operational Coordination",
          "Operational Coordination",
          "Operational Coordination",
          "Operational Coordination",
          "Operational Coordination",
          "Operational Coordination",
          "Operational Coordination",
          "Operational Coordination",
          "Operational Coordination",
          "Operational Coordination",
          "Operational Coordination",
          "Operational Coordination",
          "Operational Coordination",
          "Operational Coordination",
          "Operational Coordination",
          "Operational Coordination",
          "Operational Coordination",
          "Operational Coordination",
          "Operational Coordination",
          "Operational Coordination",
          "Operational Coordination",
          "Operational Coordination",
          "Operational Coordination",
          "Operational Coordination",
          "Operational Coordination",
          "Operational Coordination",
          "Operational Coordination",
          "Operational Coordination",
          "Operational Coordination",
          "Operational Coordination",
          "Operational Coordination",
          "Operational Coordination",
          "Operational Coordination",
          "Operational Coordination",
          "Operational Coordination",
          "Operational Coordination",
          "Operational Coordination",
          "Operational Coordination",
          "Operational Coordination",
          "Operational Coordination",
          "Operational Coordination",
          "Operational Coordination",
          "Operational Coordination",
          "Operational Coordination",
          "Operational Coordination",
          "Operational Coordination",
          "Operational Coordination",
          "Operational Coordination",
          "Operational Coordination",
          "Operational Coordination",
          "Operational Coordination",
          "Operational Coordination",
          "Operational Coordination",
          "Operational Coordination",
          "Operational Coordination",
          "Operational Coordination",
          "Operational Coordination",
          "Operational Coordination",
          "Operational Coordination",
          "Operational Coordination",
          "Operational Coordination",
          "Operational Coordination",
          "Operational Coordination",
          "Operational Coordination",
          "Operational Coordination",
          "Operational Coordination",
          "Operational Coordination",
          "Operational Coordination",
          "Operational Coordination",
          "Operational Coordination",
          "Operational Coordination",
          "Operational Coordination",
          "Operational Coordination",
          "Operational Coordination",
          "Operational Coordination",
          "Operational Coordination",
          "Operational Coordination",
          "Operational Coordination",
          "Operational Coordination",
          "Operational Coordination",
          "Operational Coordination",
          "Operational Coordination",
          "Operational Coordination",
          "Operational Coordination",
          "Operational Coordination",
          "Operational Coordination",
          "Operational Coordination",
          "Operational Coordination",
          "Operational Coordination",
          "Operational Coordination",
          "Operational Coordination",
          "Operational Coordination",
          "Operational Coordination",
          "Operational Coordination",
          "Operational Coordination",
          "Operational Coordination",
          "Operational Coordination",
          "Operational Coordination",
          "Operational Coordination",
          "Operational Coordination",
          "Operational Coordination",
          "Operational Coordination",
          "Operational Coordination",
          "Operational Coordination",
          "Operational Coordination",
          "Operational Coordination",
          "Operational Coordination",
          "Operational Coordination",
          "Operational Coordination",
          "Operational Coordination",
          "Operational Coordination",
          "Operational Coordination",
          "Operational Coordination",
          "Operational Coordination",
          "Operational Coordination",
          "Operational Coordination",
          "Operational Coordination",
          "Property Management",
          "Property Management",
          "Property Management",
          "Property Management",
          "Property Management",
          "Property Management",
          "Property Management",
          "Property Management",
          "Property Management",
          "Property Management",
          "Property Management",
          "Property Management",
          "Property Management",
          "Property Management",
          "Property Management",
          "Property Management",
          "Property Management",
          "Property Management",
          "Property Management",
          "Property Management",
          "Property Management",
          "Property Management",
          "Property Management",
          "Property Management",
          "Property Management",
          "Property Management",
          "Property Management",
          "Property Management",
          "Property Management",
          "Property Management",
          "Property Management",
          "Property Management",
          "Property Management",
          "Property Management",
          "Property Management",
          "Property Management",
          "Property Management",
          "Property Management",
          "Property Management",
          "Property Management",
          "Property Management",
          "Property Management",
          "Property Management",
          "Property Management",
          "Property Management",
          "Property Management",
          "Property Management",
          "Property Management",
          "Property Management",
          "Property Management",
          "Property Management",
          "Property Management",
          "Property Management",
          "Property Management",
          "Property Management",
          "Property Management",
          "Property Management",
          "Property Management",
          "Property Management",
          "Property Management",
          "Property Management",
          "Property Management",
          "Property Management",
          "Property Management",
          "Property Management",
          "Property Management",
          "Property Management",
          "Property Management",
          "Property Management",
          "Property Management",
          "Property Management",
          "Property Management",
          "Property Management",
          "Property Management",
          "Property Management",
          "Property Management",
          "Property Management",
          "Property Management",
          "Property Management",
          "Property Management",
          "Property Management",
          "Property Management",
          "Property Management",
          "Property Management",
          "Property Management",
          "Property Management",
          "Property Management",
          "Property Management",
          "Property Management",
          "Property Management",
          "Property Management",
          "Property Management",
          "Recreation and Parks",
          "Recreation and Parks",
          "Recreation and Parks",
          "Recreation and Parks",
          "Recreation and Parks",
          "Recreation and Parks",
          "Recreation and Parks",
          "Recreation and Parks",
          "Recreation and Parks",
          "Recreation and Parks",
          "Recreation and Parks",
          "Recreation and Parks",
          "Recreation and Parks",
          "Recreation and Parks",
          "Recreation and Parks",
          "Recreation and Parks",
          "Recreation and Parks",
          "Recreation and Parks",
          "Recreation and Parks",
          "Recreation and Parks",
          "Recreation and Parks",
          "Recreation and Parks",
          "Recreation and Parks",
          "Recreation and Parks",
          "Recreation and Parks",
          "Recreation and Parks",
          "Recreation and Parks",
          "Recreation and Parks",
          "Recreation and Parks",
          "Recreation and Parks",
          "Recreation and Parks",
          "Recreation and Parks",
          "Recreation and Parks",
          "Recreation and Parks",
          "Recreation and Parks",
          "Recreation and Parks",
          "Recreation and Parks",
          "Recreation and Parks",
          "Recreation and Parks",
          "Recreation and Parks",
          "Recreation and Parks",
          "Recreation and Parks",
          "Recreation and Parks",
          "Recreation and Parks",
          "Recreation and Parks",
          "Recreation and Parks",
          "Recreation and Parks",
          "Recreation and Parks",
          "Recreation and Parks",
          "Recreation and Parks",
          "Recreation and Parks",
          "Recreation and Parks",
          "Recreation and Parks",
          "Recreation and Parks",
          "Recreation and Parks",
          "Recreation and Parks",
          "Recreation and Parks",
          "Recreation and Parks",
          "Recreation and Parks",
          "Recreation and Parks",
          "Recreation and Parks",
          "Recreation and Parks",
          "Recreation and Parks",
          "Recreation and Parks",
          "Recreation and Parks",
          "Recreation and Parks",
          "Recreation and Parks",
          "Recreation and Parks",
          "Recreation and Parks",
          "Recreation and Parks",
          "Recreation and Parks",
          "Recreation and Parks",
          "Recreation and Parks",
          "Recreation and Parks",
          "Recreation and Parks",
          "Recreation and Parks",
          "Recreation and Parks",
          "Recreation and Parks",
          "Recreation and Parks",
          "Recreation and Parks",
          "Recreation and Parks",
          "Recreation and Parks",
          "Recreation and Parks",
          "Recreation and Parks",
          "Recreation and Parks",
          "Recreation and Parks",
          "Recreation and Parks",
          "Recreation and Parks",
          "Recreation and Parks",
          "Recreation and Parks",
          "Recreation and Parks",
          "Recreation and Parks",
          "Recreation and Parks",
          "Recreation and Parks",
          "Recreation and Parks",
          "Recreation and Parks",
          "Recreation and Parks",
          "Recreation and Parks",
          "Recreation and Parks",
          "Recreation and Parks",
          "Recreation and Parks",
          "Recreation and Parks",
          "Recreation and Parks",
          "Recreation and Parks",
          "Recreation and Parks",
          "Recreation and Parks",
          "Recreation and Parks",
          "Recreation and Parks",
          "Recreation and Parks",
          "Recreation and Parks",
          "Recreation and Parks",
          "Recreation and Parks",
          "Recreation and Parks",
          "Recreation and Parks",
          "Recreation and Parks",
          "Recreation and Parks",
          "Recreation and Parks",
          "Recreation and Parks",
          "Recreation and Parks",
          "Recreation and Parks",
          "Recreation and Parks",
          "Recreation and Parks",
          "Recreation and Parks",
          "Recreation and Parks",
          "Recreation and Parks",
          "Recreation and Parks",
          "Recreation and Parks",
          "Recreation and Parks",
          "Recreation and Parks",
          "Recreation and Parks",
          "Recreation and Parks",
          "Recreation and Parks",
          "Recreation and Parks",
          "Recreation and Parks",
          "Recreation and Parks",
          "Recreation and Parks",
          "Recreation and Parks",
          "Recreation and Parks",
          "Recreation and Parks",
          "Recreation and Parks",
          "Recreation and Parks",
          "Recreation and Parks",
          "Recreation and Parks",
          "Recreation and Parks",
          "Recreation and Parks",
          "Recreation and Parks",
          "Recreation and Parks",
          "Recreation and Parks",
          "Recreation and Parks",
          "Recreation and Parks",
          "Recreation and Parks",
          "Recreation and Parks",
          "Recreation and Parks",
          "Recreation and Parks",
          "Recreation and Parks",
          "Recreation and Parks",
          "Recreation and Parks",
          "Recreation and Parks",
          "Recreation and Parks",
          "Recreation and Parks",
          "Recreation and Parks",
          "Recreation and Parks",
          "Recreation and Parks",
          "Recreation and Parks",
          "Recreation and Parks",
          "Recreation and Parks",
          "Recreation and Parks",
          "Recreation and Parks",
          "Recreation and Parks",
          "Recreation and Parks",
          "Recreation and Parks",
          "Recreation and Parks",
          "Recreation and Parks",
          "Recreation and Parks",
          "Recreation and Parks",
          "Recreation and Parks",
          "Recreation and Parks",
          "Recreation and Parks",
          "Recreation and Parks",
          "Recreation and Parks",
          "Revenue",
          "Revenue",
          "Revenue",
          "Revenue",
          "Revenue",
          "Revenue",
          "Revenue",
          "Revenue",
          "Revenue",
          "Revenue",
          "Revenue",
          "Revenue",
          "Revenue",
          "Revenue",
          "Revenue",
          "Revenue",
          "Revenue",
          "Revenue",
          "Revenue",
          "Revenue",
          "Revenue",
          "Revenue",
          "Revenue",
          "Revenue",
          "Revenue",
          "Revenue",
          "Revenue",
          "Revenue",
          "Revenue",
          "Revenue",
          "Revenue",
          "Revenue",
          "Revenue",
          "Revenue",
          "Revenue",
          "Revenue",
          "Revenue",
          "Revenue",
          "Revenue",
          "Revenue",
          "Revenue",
          "Revenue",
          "Revenue",
          "Revenue",
          "Revenue",
          "Revenue",
          "Revenue",
          "Revenue",
          "Revenue",
          "Revenue",
          "Revenue",
          "Revenue",
          "Revenue",
          "Revenue",
          "Revenue",
          "Revenue",
          "Revenue",
          "Revenue",
          "Revenue",
          "Revenue",
          "Revenue",
          "Revenue",
          "Revenue",
          "Revenue",
          "Revenue",
          "Revenue",
          "Revenue",
          "Revenue",
          "Revenue",
          "Revenue",
          "Revenue",
          "Revenue",
          "Revenue",
          "Revenue",
          "Revenue",
          "Revenue",
          "Revenue",
          "Revenue",
          "Revenue",
          "Revenue",
          "Revenue",
          "Revenue",
          "Revenue",
          "Revenue",
          "Revenue",
          "Revenue",
          "Revenue",
          "Revenue",
          "Revenue",
          "Revenue",
          "Revenue",
          "Revenue",
          "Revenue",
          "Revenue",
          "Revenue",
          "Revenue",
          "Revenue",
          "Revenue",
          "Revenue",
          "Revenue",
          "Revenue",
          "Revenue",
          "Revenue",
          "Revenue",
          "Revenue",
          "Revenue",
          "Revenue",
          "Revenue",
          "Revenue",
          "Revenue",
          "Revenue",
          "Revenue",
          "Revenue",
          "Revenue",
          "Revenue",
          "Revenue",
          "Revenue",
          "Revenue",
          "Revenue",
          "Revenue",
          "Revenue",
          "Revenue",
          "Revenue",
          "Revenue",
          "Revenue",
          "Revenue",
          "Revenue",
          "Revenue",
          "Revenue",
          "Revenue",
          "Revenue",
          "Revenue",
          "Revenue",
          "Revenue",
          "Revenue",
          "Revenue",
          "Revenue",
          "Revenue",
          "Revenue",
          "Revenue",
          "Revenue",
          "Revenue",
          "Revenue",
          "Revenue",
          "Revenue",
          "Revenue",
          "Revenue",
          "Revenue",
          "Revenue",
          "Revenue",
          "Revenue",
          "Revenue",
          "Revenue",
          "Revenue",
          "Revenue",
          "Revenue",
          "Revenue",
          "Revenue",
          "Revenue",
          "Revenue",
          "Revenue",
          "Revenue",
          "Revenue",
          "Revenue",
          "Revenue",
          "Revenue",
          "Revenue",
          "Revenue",
          "Revenue",
          "Revenue",
          "Revenue",
          "Revenue",
          "Revenue",
          "Roads Infrastructure Management",
          "Roads Infrastructure Management",
          "Roads Infrastructure Management",
          "Roads Infrastructure Management",
          "Roads Infrastructure Management",
          "Roads Infrastructure Management",
          "Roads Infrastructure Management",
          "Roads Infrastructure Management",
          "Roads Infrastructure Management",
          "Roads Infrastructure Management",
          "Roads Infrastructure Management",
          "Roads Infrastructure Management",
          "Roads Infrastructure Management",
          "Roads Infrastructure Management",
          "Roads Infrastructure Management",
          "Roads Infrastructure Management",
          "Roads Infrastructure Management",
          "Roads Infrastructure Management",
          "Roads Infrastructure Management",
          "Roads Infrastructure Management",
          "Roads Infrastructure Management",
          "Roads Infrastructure Management",
          "Roads Infrastructure Management",
          "Roads Infrastructure Management",
          "Roads Infrastructure Management",
          "Roads Infrastructure Management",
          "Roads Infrastructure Management",
          "Roads Infrastructure Management",
          "Roads Infrastructure Management",
          "Roads Infrastructure Management",
          "Roads Infrastructure Management",
          "Roads Infrastructure Management",
          "Roads Infrastructure Management",
          "Roads Infrastructure Management",
          "Roads Infrastructure Management",
          "Roads Infrastructure Management",
          "Roads Infrastructure Management",
          "Roads Infrastructure Management",
          "Roads Infrastructure Management",
          "Roads Infrastructure Management",
          "Roads Infrastructure Management",
          "Roads Infrastructure Management",
          "Roads Infrastructure Management",
          "Roads Infrastructure Management",
          "Roads Infrastructure Management",
          "Roads Infrastructure Management",
          "Roads Infrastructure Management",
          "Roads Infrastructure Management",
          "Roads Infrastructure Management",
          "Roads Infrastructure Management",
          "Roads Infrastructure Management",
          "Roads Infrastructure Management",
          "Roads Infrastructure Management",
          "Roads Infrastructure Management",
          "Roads Infrastructure Management",
          "Roads Infrastructure Management",
          "Roads Infrastructure Management",
          "Roads Infrastructure Management",
          "Roads Infrastructure Management",
          "Roads Infrastructure Management",
          "Roads Infrastructure Management",
          "Roads Infrastructure Management",
          "Roads Infrastructure Management",
          "Roads Infrastructure Management",
          "Roads Infrastructure Management",
          "Roads Infrastructure Management",
          "Roads Infrastructure Management",
          "Roads Infrastructure Management",
          "Roads Infrastructure Management",
          "Roads Infrastructure Management",
          "Roads Infrastructure Management",
          "Roads Infrastructure Management",
          "Roads Infrastructure Management",
          "Roads Infrastructure Management",
          "Roads Infrastructure Management",
          "Roads Infrastructure Management",
          "Roads Infrastructure Management",
          "Roads Infrastructure Management",
          "Roads Infrastructure Management",
          "Roads Infrastructure Management",
          "Roads Infrastructure Management",
          "Roads Infrastructure Management",
          "Roads Infrastructure Management",
          "Roads Infrastructure Management",
          "Roads Infrastructure Management",
          "Roads Infrastructure Management",
          "Roads Infrastructure Management",
          "Roads Infrastructure Management",
          "Roads Infrastructure Management",
          "Roads Infrastructure Management",
          "Roads Infrastructure Management",
          "Roads Infrastructure Management",
          "Roads Infrastructure Management",
          "Roads Infrastructure Management",
          "Roads Infrastructure Management",
          "Roads Infrastructure Management",
          "Roads Infrastructure Management",
          "Roads Infrastructure Management",
          "Roads Infrastructure Management",
          "Roads Infrastructure Management",
          "Roads Infrastructure Management",
          "Roads Infrastructure Management",
          "Roads Infrastructure Management",
          "Roads Infrastructure Management",
          "Roads Infrastructure Management",
          "Roads Infrastructure Management",
          "Roads Infrastructure Management",
          "Roads Infrastructure Management",
          "Roads Infrastructure Management",
          "Roads Infrastructure Management",
          "Roads Infrastructure Management",
          "Roads Infrastructure Management",
          "Roads Infrastructure Management",
          "Roads Infrastructure Management",
          "Roads Infrastructure Management",
          "Roads Infrastructure Management",
          "Roads Infrastructure Management",
          "Roads Infrastructure Management",
          "Roads Infrastructure Management",
          "Roads Infrastructure Management",
          "Roads Infrastructure Management",
          "Roads Infrastructure Management",
          "Roads Infrastructure Management",
          "Roads Infrastructure Management",
          "Roads Infrastructure Management",
          "Roads Infrastructure Management",
          "Roads Infrastructure Management",
          "Roads Infrastructure Management",
          "Roads Infrastructure Management",
          "Roads Infrastructure Management",
          "Roads Infrastructure Management",
          "Roads Infrastructure Management",
          "Roads Infrastructure Management",
          "Roads Infrastructure Management",
          "Roads Infrastructure Management",
          "Roads Infrastructure Management",
          "Roads Infrastructure Management",
          "Roads Infrastructure Management",
          "Roads Infrastructure Management",
          "Roads Infrastructure Management",
          "Roads Infrastructure Management",
          "Roads Infrastructure Management",
          "Roads Infrastructure Management",
          "Roads Infrastructure Management",
          "Roads Infrastructure Management",
          "Roads Infrastructure Management",
          "Social Development & Early Childhood Development",
          "Social Development & Early Childhood Development",
          "Social Development & Early Childhood Development",
          "Social Development & Early Childhood Development",
          "Social Development & Early Childhood Development",
          "Social Development & Early Childhood Development",
          "Social Development & Early Childhood Development",
          "Social Development & Early Childhood Development",
          "Social Development & Early Childhood Development",
          "Social Development & Early Childhood Development",
          "Social Development & Early Childhood Development",
          "Social Development & Early Childhood Development",
          "Social Development & Early Childhood Development",
          "Social Development & Early Childhood Development",
          "Social Development & Early Childhood Development",
          "Social Development & Early Childhood Development",
          "Social Development & Early Childhood Development",
          "Social Development & Early Childhood Development",
          "Social Development & Early Childhood Development",
          "Social Development & Early Childhood Development",
          "Social Development & Early Childhood Development",
          "Social Development & Early Childhood Development",
          "Social Development & Early Childhood Development",
          "Social Development & Early Childhood Development",
          "Social Development & Early Childhood Development",
          "Social Development & Early Childhood Development",
          "Social Development & Early Childhood Development",
          "Social Development & Early Childhood Development",
          "Social Development & Early Childhood Development",
          "Social Development & Early Childhood Development",
          "Social Development & Early Childhood Development",
          "Social Development & Early Childhood Development",
          "Social Development & Early Childhood Development",
          "Social Development & Early Childhood Development",
          "Social Development & Early Childhood Development",
          "Social Development & Early Childhood Development",
          "Social Development & Early Childhood Development",
          "Social Development & Early Childhood Development",
          "Social Development & Early Childhood Development",
          "Social Development & Early Childhood Development",
          "Social Development & Early Childhood Development",
          "Social Development & Early Childhood Development",
          "Social Development & Early Childhood Development",
          "Social Development & Early Childhood Development",
          "Social Development & Early Childhood Development",
          "Social Development & Early Childhood Development",
          "Social Development & Early Childhood Development",
          "Social Development & Early Childhood Development",
          "Social Development & Early Childhood Development",
          "Social Development & Early Childhood Development",
          "Social Development & Early Childhood Development",
          "Social Development & Early Childhood Development",
          "Social Development & Early Childhood Development",
          "Social Development & Early Childhood Development",
          "Social Development & Early Childhood Development",
          "Social Development & Early Childhood Development",
          "Social Development & Early Childhood Development",
          "Social Development & Early Childhood Development",
          "Social Development & Early Childhood Development",
          "Social Development & Early Childhood Development",
          "Social Development & Early Childhood Development",
          "Social Development & Early Childhood Development",
          "Social Development & Early Childhood Development",
          "Social Development & Early Childhood Development",
          "Social Development & Early Childhood Development",
          "Social Development & Early Childhood Development",
          "Social Development & Early Childhood Development",
          "Social Development & Early Childhood Development",
          "Social Development & Early Childhood Development",
          "Social Development & Early Childhood Development",
          "Social Development & Early Childhood Development",
          "Social Development & Early Childhood Development",
          "Social Development & Early Childhood Development",
          "Social Development & Early Childhood Development",
          "Social Development & Early Childhood Development",
          "Social Development & Early Childhood Development",
          "Social Development & Early Childhood Development",
          "Social Development & Early Childhood Development",
          "Social Development & Early Childhood Development",
          "Social Development & Early Childhood Development",
          "Social Development & Early Childhood Development",
          "Social Development & Early Childhood Development",
          "Social Development & Early Childhood Development",
          "Social Development & Early Childhood Development",
          "Social Development & Early Childhood Development",
          "Social Development & Early Childhood Development",
          "Social Development & Early Childhood Development",
          "Social Development & Early Childhood Development",
          "Social Development & Early Childhood Development",
          "Social Development & Early Childhood Development",
          "Social Development & Early Childhood Development",
          "Social Development & Early Childhood Development",
          "Social Development & Early Childhood Development",
          "Social Development & Early Childhood Development",
          "Social Development & Early Childhood Development",
          "Social Development & Early Childhood Development",
          "Social Development & Early Childhood Development",
          "Social Development & Early Childhood Development",
          "Social Development & Early Childhood Development",
          "Social Development & Early Childhood Development",
          "Social Development & Early Childhood Development",
          "Social Development & Early Childhood Development",
          "Social Development & Early Childhood Development",
          "Social Development & Early Childhood Development",
          "Social Development & Early Childhood Development",
          "Social Development & Early Childhood Development",
          "Social Development & Early Childhood Development",
          "Social Development & Early Childhood Development",
          "Social Development & Early Childhood Development",
          "Social Development & Early Childhood Development",
          "Social Development & Early Childhood Development",
          "Social Development & Early Childhood Development",
          "Social Development & Early Childhood Development",
          "Social Development & Early Childhood Development",
          "Social Development & Early Childhood Development",
          "Social Development & Early Childhood Development",
          "Social Development & Early Childhood Development",
          "Social Development & Early Childhood Development",
          "Social Development & Early Childhood Development",
          "Social Development & Early Childhood Development",
          "Social Development & Early Childhood Development",
          "Social Development & Early Childhood Development",
          "Social Development & Early Childhood Development",
          "Social Development & Early Childhood Development",
          "Social Development & Early Childhood Development",
          "Social Development & Early Childhood Development",
          "Social Development & Early Childhood Development",
          "Social Development & Early Childhood Development",
          "Social Development & Early Childhood Development",
          "Social Development & Early Childhood Development",
          "Social Development & Early Childhood Development",
          "Social Development & Early Childhood Development",
          "Social Development & Early Childhood Development",
          "Social Development & Early Childhood Development",
          "Social Development & Early Childhood Development",
          "Social Development & Early Childhood Development",
          "Social Development & Early Childhood Development",
          "Social Development & Early Childhood Development",
          "Social Development & Early Childhood Development",
          "Solid Waste Management",
          "Solid Waste Management",
          "Solid Waste Management",
          "Solid Waste Management",
          "Solid Waste Management",
          "Solid Waste Management",
          "Solid Waste Management",
          "Solid Waste Management",
          "Solid Waste Management",
          "Solid Waste Management",
          "Solid Waste Management",
          "Solid Waste Management",
          "Solid Waste Management",
          "Solid Waste Management",
          "Solid Waste Management",
          "Solid Waste Management",
          "Solid Waste Management",
          "Solid Waste Management",
          "Solid Waste Management",
          "Solid Waste Management",
          "Solid Waste Management",
          "Solid Waste Management",
          "Solid Waste Management",
          "Solid Waste Management",
          "Solid Waste Management",
          "Solid Waste Management",
          "Solid Waste Management",
          "Solid Waste Management",
          "Solid Waste Management",
          "Solid Waste Management",
          "Solid Waste Management",
          "Solid Waste Management",
          "Solid Waste Management",
          "Solid Waste Management",
          "Solid Waste Management",
          "Solid Waste Management",
          "Solid Waste Management",
          "Solid Waste Management",
          "Solid Waste Management",
          "Solid Waste Management",
          "Solid Waste Management",
          "Solid Waste Management",
          "Solid Waste Management",
          "Solid Waste Management",
          "Solid Waste Management",
          "Solid Waste Management",
          "Solid Waste Management",
          "Solid Waste Management",
          "Solid Waste Management",
          "Solid Waste Management",
          "Solid Waste Management",
          "Solid Waste Management",
          "Solid Waste Management",
          "Solid Waste Management",
          "Solid Waste Management",
          "Solid Waste Management",
          "Solid Waste Management",
          "Solid Waste Management",
          "Solid Waste Management",
          "Solid Waste Management",
          "Solid Waste Management",
          "Solid Waste Management",
          "Solid Waste Management",
          "Solid Waste Management",
          "Solid Waste Management",
          "Solid Waste Management",
          "Solid Waste Management",
          "Solid Waste Management",
          "Solid Waste Management",
          "Solid Waste Management",
          "Solid Waste Management",
          "Solid Waste Management",
          "Solid Waste Management",
          "Solid Waste Management",
          "Solid Waste Management",
          "Solid Waste Management",
          "Solid Waste Management",
          "Solid Waste Management",
          "Solid Waste Management",
          "Solid Waste Management",
          "Solid Waste Management",
          "Solid Waste Management",
          "Solid Waste Management",
          "Solid Waste Management",
          "Solid Waste Management",
          "Solid Waste Management",
          "Solid Waste Management",
          "Solid Waste Management",
          "Solid Waste Management",
          "Solid Waste Management",
          "Solid Waste Management",
          "Solid Waste Management",
          "Solid Waste Management",
          "Solid Waste Management",
          "Solid Waste Management",
          "Solid Waste Management",
          "Solid Waste Management",
          "Solid Waste Management",
          "Solid Waste Management",
          "Solid Waste Management",
          "Solid Waste Management",
          "Solid Waste Management",
          "Solid Waste Management",
          "Solid Waste Management",
          "Solid Waste Management",
          "Solid Waste Management",
          "Solid Waste Management",
          "Solid Waste Management",
          "Solid Waste Management",
          "Solid Waste Management",
          "Solid Waste Management",
          "Solid Waste Management",
          "Solid Waste Management",
          "Solid Waste Management",
          "Solid Waste Management",
          "Solid Waste Management",
          "Solid Waste Management",
          "Solid Waste Management",
          "Solid Waste Management",
          "Solid Waste Management",
          "Solid Waste Management",
          "Solid Waste Management",
          "Solid Waste Management",
          "Solid Waste Management",
          "Solid Waste Management",
          "Solid Waste Management",
          "Solid Waste Management",
          "Solid Waste Management",
          "Solid Waste Management",
          "Solid Waste Management",
          "Solid Waste Management",
          "Solid Waste Management",
          "Solid Waste Management",
          "Solid Waste Management",
          "Solid Waste Management",
          "Solid Waste Management",
          "Solid Waste Management",
          "Solid Waste Management",
          "Solid Waste Management",
          "Solid Waste Management",
          "Solid Waste Management",
          "Solid Waste Management",
          "Solid Waste Management",
          "Solid Waste Management",
          "Solid Waste Management",
          "Solid Waste Management",
          "Solid Waste Management",
          "Solid Waste Management",
          "Solid Waste Management",
          "Solid Waste Management",
          "Solid Waste Management",
          "Solid Waste Management",
          "Solid Waste Management",
          "Solid Waste Management",
          "Solid Waste Management",
          "Solid Waste Management",
          "Solid Waste Management",
          "Solid Waste Management",
          "Solid Waste Management",
          "Solid Waste Management",
          "Solid Waste Management",
          "Solid Waste Management",
          "Solid Waste Management",
          "Solid Waste Management",
          "Solid Waste Management",
          "Solid Waste Management",
          "Solid Waste Management",
          "Solid Waste Management",
          "Solid Waste Management",
          "Solid Waste Management",
          "Solid Waste Management",
          "Solid Waste Management",
          "Solid Waste Management",
          "Solid Waste Management",
          "Solid Waste Management",
          "Solid Waste Management",
          "Solid Waste Management",
          "Solid Waste Management",
          "Solid Waste Management",
          "Solid Waste Management",
          "Solid Waste Management",
          "Solid Waste Management",
          "Technical Services",
          "Technical Services",
          "Technical Services",
          "Technical Services",
          "Technical Services",
          "Technical Services",
          "Technical Services",
          "Technical Services",
          "Technical Services",
          "Technical Services",
          "Technical Services",
          "Technical Services",
          "Technical Services",
          "Technical Services",
          "Technical Services",
          "Technical Services",
          "Technical Services",
          "Technical Services",
          "Technical Services",
          "Technical Services",
          "Technical Services",
          "Technical Services",
          "Technical Services",
          "Technical Services",
          "Technical Services",
          "Technical Services",
          "Technical Services",
          "Technical Services",
          "Technical Services",
          "Technical Services",
          "Technical Services",
          "Technical Services",
          "Technical Services",
          "Technical Services",
          "Technical Services",
          "Technical Services",
          "Technical Services",
          "Technical Services",
          "Technical Services",
          "Technical Services",
          "Technical Services",
          "Technical Services",
          "Technical Services",
          "Technical Services",
          "Technical Services",
          "Technical Services",
          "Technical Services",
          "Technical Services",
          "Technical Services",
          "Technical Services",
          "Technical Services",
          "Technical Services",
          "Technical Services",
          "Technical Services",
          "Technical Services",
          "Technical Services",
          "Technical Services",
          "Technical Services",
          "Technical Services",
          "Technical Services",
          "Technical Services",
          "Technical Services",
          "Technical Services",
          "Technical Services",
          "Technical Services",
          "Technical Services",
          "Technical Services",
          "Technical Services",
          "Technical Services",
          "Technical Services",
          "Technical Services",
          "Technical Services",
          "Technical Services",
          "Technical Services",
          "Technical Services",
          "Technical Services",
          "Technical Services",
          "Technical Services",
          "Technical Services",
          "Technical Services",
          "Technical Services",
          "Technical Services",
          "Technical Services",
          "Technical Services",
          "Technical Services",
          "Technical Services",
          "Technical Services",
          "Technical Services",
          "Technical Services",
          "Technical Services",
          "Technical Services",
          "Technical Services",
          "Technical Services",
          "Technical Services",
          "Technical Services",
          "Technical Services",
          "Technical Services",
          "Technical Services",
          "Technical Services",
          "Technical Services",
          "Technical Services",
          "Technical Services",
          "Technical Services",
          "Technical Services",
          "Technical Services",
          "Technical Services",
          "Technical Services",
          "Technical Services",
          "Technical Services",
          "Technical Services",
          "Technical Services",
          "Technical Services",
          "Technical Services",
          "Technical Services",
          "Technical Services",
          "Technical Services",
          "Technical Services",
          "Technical Services",
          "Technical Services",
          "Technical Services",
          "Technical Services",
          "Technical Services",
          "Technical Services",
          "Technical Services",
          "Technical Services",
          "Technical Services",
          "Technical Services",
          "Technical Services",
          "Technical Services",
          "Technical Services",
          "Technical Services",
          "Technical Services",
          "Technical Services",
          "Technical Services",
          "Technical Services",
          "Technical Services",
          "Technical Services",
          "Technical Services",
          "Technical Services",
          "Technical Services",
          "Technical Services",
          "Technical Services",
          "Technical Services",
          "Technical Services",
          "Technical Services",
          "Technical Services",
          "Technical Services",
          "Technical Services",
          "Technical Services",
          "Technical Services",
          "Technical Services",
          "Technical Services",
          "Technical Services",
          "Technical Services",
          "Technical Services",
          "Technical Services",
          "Technical Services",
          "Technical Services",
          "Technical Services",
          "Technical Services",
          "Technical Services",
          "Technical Services",
          "Technical Services",
          "Technical Services",
          "Technical Services",
          "Technical Services",
          "Transport Planning & Network Management",
          "Transport Planning & Network Management",
          "Transport Planning & Network Management",
          "Transport Planning & Network Management",
          "Transport Planning & Network Management",
          "Transport Planning & Network Management",
          "Transport Planning & Network Management",
          "Transport Planning & Network Management",
          "Transport Planning & Network Management",
          "Transport Planning & Network Management",
          "Transport Planning & Network Management",
          "Transport Planning & Network Management",
          "Transport Planning & Network Management",
          "Transport Planning & Network Management",
          "Transport Planning & Network Management",
          "Transport Planning & Network Management",
          "Transport Planning & Network Management",
          "Transport Planning & Network Management",
          "Transport Planning & Network Management",
          "Transport Planning & Network Management",
          "Transport Planning & Network Management",
          "Transport Planning & Network Management",
          "Transport Planning & Network Management",
          "Transport Planning & Network Management",
          "Transport Planning & Network Management",
          "Transport Planning & Network Management",
          "Transport Planning & Network Management",
          "Transport Planning & Network Management",
          "Transport Planning & Network Management",
          "Transport Planning & Network Management",
          "Transport Planning & Network Management",
          "Transport Planning & Network Management",
          "Transport Planning & Network Management",
          "Transport Planning & Network Management",
          "Transport Planning & Network Management",
          "Transport Planning & Network Management",
          "Transport Planning & Network Management",
          "Transport Planning & Network Management",
          "Transport Planning & Network Management",
          "Transport Planning & Network Management",
          "Transport Planning & Network Management",
          "Transport Planning & Network Management",
          "Transport Planning & Network Management",
          "Transport Planning & Network Management",
          "Transport Planning & Network Management",
          "Transport Planning & Network Management",
          "Transport Planning & Network Management",
          "Transport Planning & Network Management",
          "Transport Planning & Network Management",
          "Transport Planning & Network Management",
          "Transport Planning & Network Management",
          "Transport Planning & Network Management",
          "Transport Planning & Network Management",
          "Transport Planning & Network Management",
          "Transport Planning & Network Management",
          "Transport Planning & Network Management",
          "Transport Planning & Network Management",
          "Transport Planning & Network Management",
          "Transport Planning & Network Management",
          "Transport Planning & Network Management",
          "Transport Planning & Network Management",
          "Transport Planning & Network Management",
          "Transport Planning & Network Management",
          "Transport Planning & Network Management",
          "Transport Planning & Network Management",
          "Transport Planning & Network Management",
          "Transport Planning & Network Management",
          "Transport Planning & Network Management",
          "Transport Planning & Network Management",
          "Transport Planning & Network Management",
          "Transport Planning & Network Management",
          "Transport Planning & Network Management",
          "Transport Planning & Network Management",
          "Transport Planning & Network Management",
          "Transport Planning & Network Management",
          "Transport Planning & Network Management",
          "Transport Planning & Network Management",
          "Transport Planning & Network Management",
          "Transport Planning & Network Management",
          "Transport Planning & Network Management",
          "Transport Planning & Network Management",
          "Transport Planning & Network Management",
          "Transport Planning & Network Management",
          "Transport Planning & Network Management",
          "Transport Planning & Network Management",
          "Transport Planning & Network Management",
          "Transport Planning & Network Management",
          "Transport Planning & Network Management",
          "Transport Planning & Network Management",
          "Transport Planning & Network Management",
          "Transport Planning & Network Management",
          "Transport Planning & Network Management",
          "Transport Planning & Network Management",
          "Transport Planning & Network Management",
          "Transport Planning & Network Management",
          "Transport Planning & Network Management",
          "Transport Planning & Network Management",
          "Transport Planning & Network Management",
          "Transport Planning & Network Management",
          "Transport Planning & Network Management",
          "Transport Planning & Network Management",
          "Transport Planning & Network Management",
          "Transport Planning & Network Management",
          "Transport Planning & Network Management",
          "Transport Planning & Network Management",
          "Transport Planning & Network Management",
          "Transport Planning & Network Management",
          "Transport Planning & Network Management",
          "Transport Planning & Network Management",
          "Transport Planning & Network Management",
          "Transport Planning & Network Management",
          "Transport Planning & Network Management",
          "Transport Planning & Network Management",
          "Transport Planning & Network Management",
          "Transport Planning & Network Management",
          "Transport Planning & Network Management",
          "Transport Planning & Network Management",
          "Transport Planning & Network Management",
          "Transport Planning & Network Management",
          "Transport Planning & Network Management",
          "Transport Planning & Network Management",
          "Transport Planning & Network Management",
          "Transport Planning & Network Management",
          "Transport Planning & Network Management",
          "Transport Planning & Network Management",
          "Transport Planning & Network Management",
          "Transport Planning & Network Management",
          "Transport Planning & Network Management",
          "Transport Planning & Network Management",
          "Transport Planning & Network Management",
          "Transport Planning & Network Management",
          "Transport Planning & Network Management",
          "Transport Planning & Network Management",
          "Transport Planning & Network Management",
          "Transport Planning & Network Management",
          "Transport Planning & Network Management",
          "Transport Planning & Network Management",
          "Transport Planning & Network Management",
          "Transport Planning & Network Management",
          "Transport Planning & Network Management",
          "Transport Planning & Network Management",
          "Transport Planning & Network Management",
          "Transport Planning & Network Management",
          "Transport Planning & Network Management",
          "Transport Planning & Network Management",
          "Transport Planning & Network Management",
          "Transport Planning & Network Management",
          "Transport Planning & Network Management",
          "Transport Planning & Network Management",
          "Transport Planning & Network Management",
          "Transport Planning & Network Management",
          "Transport Planning & Network Management",
          "Transport Planning & Network Management",
          "Transport Planning & Network Management",
          "Transport Planning & Network Management",
          "Transport Planning & Network Management",
          "Transport Planning & Network Management",
          "Transport Planning & Network Management",
          "Transport Planning & Network Management",
          "Transport Planning & Network Management",
          "Transport Planning & Network Management",
          "Transport Planning & Network Management",
          "Transport Planning & Network Management",
          "Transport Planning & Network Management",
          "Transport Planning & Network Management",
          "Transport Planning & Network Management",
          "Transport Planning & Network Management",
          "Transport Planning & Network Management",
          "Transport Planning & Network Management",
          "Transport Planning & Network Management",
          "Transport Planning & Network Management",
          "Transport Planning & Network Management",
          "Transport Planning & Network Management",
          "Valuations",
          "Valuations",
          "Valuations",
          "Valuations",
          "Valuations",
          "Valuations",
          "Valuations",
          "Valuations",
          "Valuations",
          "Valuations",
          "Valuations",
          "Valuations",
          "Valuations",
          "Valuations",
          "Valuations",
          "Valuations",
          "Valuations",
          "Valuations",
          "Valuations",
          "Valuations",
          "Valuations",
          "Valuations",
          "Valuations",
          "Valuations",
          "Valuations",
          "Valuations",
          "Valuations",
          "Valuations",
          "Valuations",
          "Valuations",
          "Valuations",
          "Valuations",
          "Valuations",
          "Valuations",
          "Valuations",
          "Valuations",
          "Valuations",
          "Valuations",
          "Valuations",
          "Valuations",
          "Valuations",
          "Valuations",
          "Valuations",
          "Valuations",
          "Valuations",
          "Valuations",
          "Valuations",
          "Valuations",
          "Valuations",
          "Valuations",
          "Valuations",
          "Valuations",
          "Valuations",
          "Valuations",
          "Valuations",
          "Valuations",
          "Valuations",
          "Valuations",
          "Valuations",
          "Valuations",
          "Valuations",
          "Valuations",
          "Valuations",
          "Valuations",
          "Valuations",
          "Valuations",
          "Valuations",
          "Valuations",
          "Valuations",
          "Valuations",
          "Valuations",
          "Valuations",
          "Valuations",
          "Valuations",
          "Valuations",
          "Valuations",
          "Valuations",
          "Valuations",
          "Valuations",
          "Valuations",
          "Valuations",
          "Valuations",
          "Valuations",
          "Valuations",
          "Valuations",
          "Valuations",
          "Valuations",
          "Valuations",
          "Valuations",
          "Valuations",
          "Valuations",
          "Valuations",
          "Valuations",
          "Valuations",
          "Valuations",
          "Valuations",
          "Valuations",
          "Valuations",
          "Valuations",
          "Valuations",
          "Valuations",
          "Valuations",
          "Valuations"
         ],
         "x0": " ",
         "xaxis": "x",
         "y": [
          1,
          1,
          1,
          1,
          2,
          1,
          23,
          10,
          2,
          3,
          35,
          15,
          12,
          25,
          36,
          1,
          2,
          38,
          36,
          33,
          30,
          35,
          1,
          4,
          24,
          22,
          36,
          30,
          41,
          4,
          38,
          34,
          44,
          57,
          48,
          1,
          5,
          34,
          29,
          37,
          24,
          17,
          5,
          6,
          48,
          29,
          47,
          55,
          40,
          4,
          25,
          32,
          33,
          21,
          72,
          3,
          2,
          30,
          17,
          25,
          32,
          34,
          1,
          2,
          18,
          24,
          17,
          25,
          21,
          62,
          26,
          26,
          26,
          24,
          6,
          4,
          33,
          19,
          23,
          15,
          27,
          1,
          1,
          23,
          44,
          15,
          2,
          16,
          1,
          1,
          10,
          28,
          6,
          9,
          23,
          3,
          2,
          12,
          21,
          19,
          22,
          2,
          2,
          5,
          3,
          5,
          15,
          16,
          26,
          2,
          7,
          20,
          15,
          15,
          15,
          16,
          1,
          2,
          2,
          5,
          14,
          32,
          1,
          17,
          12,
          13,
          25,
          13,
          4,
          2,
          13,
          9,
          16,
          12,
          39,
          7,
          13,
          30,
          34,
          15,
          13,
          1,
          1,
          6,
          32,
          5,
          2,
          6,
          1,
          3,
          11,
          14,
          9,
          17,
          31,
          5,
          2,
          18,
          19,
          40,
          25,
          12,
          42,
          4,
          10,
          14,
          21,
          2,
          1,
          12,
          18,
          31,
          12,
          11,
          1,
          8,
          8,
          256,
          877,
          871,
          240,
          122,
          944,
          746,
          622,
          713,
          640,
          177,
          109,
          713,
          673,
          762,
          724,
          748,
          196,
          101,
          859,
          783,
          743,
          674,
          851,
          242,
          125,
          797,
          917,
          724,
          726,
          627,
          431,
          285,
          1107,
          897,
          807,
          827,
          458,
          307,
          146,
          859,
          879,
          809,
          709,
          665,
          169,
          114,
          723,
          736,
          727,
          610,
          634,
          189,
          109,
          738,
          703,
          703,
          718,
          724,
          279,
          246,
          1011,
          975,
          978,
          895,
          769,
          311,
          115,
          826,
          661,
          607,
          632,
          674,
          224,
          109,
          820,
          705,
          651,
          691,
          582,
          126,
          116,
          698,
          640,
          668,
          282,
          222,
          164,
          125,
          208,
          222,
          440,
          413,
          371,
          202,
          105,
          259,
          202,
          233,
          262,
          141,
          101,
          94,
          108,
          207,
          212,
          188,
          182,
          99,
          90,
          176,
          160,
          169,
          136,
          121,
          96,
          85,
          109,
          136,
          162,
          134,
          205,
          168,
          94,
          179,
          266,
          232,
          184,
          222,
          116,
          82,
          190,
          208,
          193,
          185,
          171,
          113,
          91,
          227,
          219,
          221,
          193,
          185,
          92,
          81,
          155,
          192,
          171,
          209,
          221,
          91,
          83,
          337,
          379,
          349,
          336,
          340,
          159,
          123,
          384,
          364,
          337,
          279,
          304,
          117,
          59,
          311,
          137,
          336,
          315,
          341,
          122,
          21,
          320,
          353,
          354,
          352,
          289,
          91,
          72,
          286,
          326,
          4,
          26,
          45,
          51,
          41,
          63,
          62,
          37,
          3,
          3,
          63,
          62,
          71,
          58,
          50,
          4,
          64,
          67,
          54,
          55,
          45,
          6,
          63,
          63,
          56,
          53,
          30,
          4,
          1,
          73,
          56,
          90,
          62,
          36,
          1,
          5,
          60,
          69,
          54,
          52,
          49,
          3,
          2,
          70,
          44,
          64,
          53,
          53,
          7,
          1,
          58,
          58,
          49,
          74,
          53,
          3,
          2,
          49,
          71,
          42,
          66,
          54,
          10,
          1,
          75,
          67,
          55,
          55,
          35,
          10,
          2,
          62,
          63,
          53,
          57,
          59,
          3,
          60,
          40,
          35,
          12,
          1,
          4,
          4,
          8,
          4,
          4,
          2,
          2,
          11,
          4,
          8,
          4,
          1,
          5,
          1,
          3,
          4,
          11,
          5,
          3,
          1,
          1,
          7,
          8,
          4,
          7,
          9,
          4,
          9,
          13,
          14,
          9,
          6,
          2,
          13,
          14,
          10,
          5,
          9,
          1,
          10,
          14,
          12,
          9,
          11,
          4,
          8,
          6,
          8,
          3,
          14,
          15,
          11,
          16,
          8,
          2,
          15,
          18,
          16,
          13,
          18,
          2,
          19,
          1,
          16,
          9,
          10,
          1,
          27,
          33,
          19,
          25,
          19,
          4,
          1,
          26,
          15,
          358,
          867,
          971,
          453,
          376,
          1090,
          1087,
          868,
          806,
          895,
          426,
          412,
          1018,
          993,
          926,
          848,
          944,
          461,
          285,
          1087,
          942,
          1007,
          930,
          957,
          522,
          421,
          945,
          972,
          1034,
          972,
          842,
          526,
          412,
          966,
          1022,
          921,
          828,
          679,
          547,
          404,
          1071,
          1091,
          951,
          862,
          844,
          472,
          370,
          893,
          917,
          855,
          823,
          897,
          457,
          438,
          996,
          887,
          873,
          792,
          810,
          541,
          358,
          922,
          1010,
          899,
          994,
          842,
          526,
          429,
          929,
          840,
          775,
          861,
          838,
          449,
          319,
          932,
          838,
          955,
          898,
          762,
          470,
          441,
          962,
          754,
          697,
          553,
          480,
          432,
          406,
          598,
          570,
          609,
          669,
          650,
          408,
          314,
          462,
          489,
          598,
          655,
          378,
          343,
          424,
          502,
          693,
          517,
          490,
          618,
          452,
          321,
          485,
          587,
          561,
          510,
          430,
          508,
          377,
          406,
          592,
          571,
          450,
          444,
          390,
          323,
          560,
          621,
          651,
          466,
          589,
          450,
          303,
          610,
          565,
          557,
          687,
          557,
          436,
          373,
          678,
          574,
          582,
          538,
          552,
          486,
          363,
          427,
          467,
          473,
          442,
          536,
          562,
          445,
          639,
          695,
          602,
          673,
          739,
          534,
          455,
          678,
          630,
          637,
          531,
          552,
          556,
          390,
          744,
          672,
          778,
          753,
          841,
          478,
          88,
          797,
          947,
          767,
          718,
          665,
          600,
          392,
          617,
          801,
          328,
          609,
          521,
          283,
          357,
          913,
          655,
          691,
          832,
          799,
          308,
          259,
          804,
          982,
          848,
          969,
          1145,
          1214,
          833,
          1346,
          1013,
          904,
          888,
          886,
          429,
          387,
          806,
          772,
          756,
          766,
          829,
          505,
          418,
          1094,
          1073,
          856,
          945,
          594,
          440,
          487,
          877,
          894,
          823,
          894,
          722,
          408,
          515,
          1130,
          974,
          900,
          782,
          817,
          868,
          382,
          966,
          926,
          919,
          909,
          769,
          419,
          366,
          950,
          1008,
          903,
          903,
          681,
          396,
          342,
          901,
          1049,
          1015,
          1045,
          896,
          706,
          476,
          938,
          770,
          856,
          857,
          738,
          369,
          281,
          724,
          761,
          884,
          617,
          267,
          231,
          256,
          334,
          350,
          354,
          281,
          269,
          364,
          377,
          630,
          430,
          446,
          370,
          259,
          371,
          733,
          576,
          410,
          506,
          564,
          474,
          318,
          269,
          490,
          487,
          455,
          435,
          419,
          328,
          241,
          351,
          410,
          411,
          374,
          357,
          367,
          542,
          593,
          501,
          484,
          536,
          449,
          291,
          366,
          599,
          563,
          504,
          538,
          528,
          358,
          348,
          613,
          600,
          615,
          530,
          406,
          385,
          349,
          1229,
          1008,
          1119,
          1003,
          987,
          661,
          591,
          943,
          906,
          839,
          792,
          650,
          409,
          409,
          921,
          824,
          1330,
          1321,
          1064,
          895,
          636,
          1033,
          902,
          995,
          1054,
          800,
          620,
          146,
          1038,
          1032,
          817,
          912,
          745,
          1253,
          778,
          1260,
          1078,
          1,
          73,
          124,
          1,
          221,
          179,
          157,
          142,
          125,
          164,
          170,
          182,
          198,
          133,
          3,
          178,
          182,
          163,
          143,
          167,
          2,
          161,
          156,
          168,
          152,
          121,
          2,
          177,
          163,
          157,
          196,
          142,
          4,
          3,
          208,
          200,
          190,
          154,
          113,
          2,
          1,
          177,
          154,
          155,
          109,
          132,
          5,
          2,
          192,
          169,
          183,
          132,
          141,
          1,
          1,
          171,
          215,
          181,
          145,
          94,
          1,
          1,
          165,
          142,
          140,
          116,
          136,
          4,
          1,
          151,
          188,
          164,
          130,
          101,
          3,
          2,
          106,
          99,
          33,
          27,
          2,
          3,
          12,
          9,
          5,
          8,
          3,
          6,
          2,
          5,
          6,
          13,
          2,
          3,
          5,
          2,
          5,
          16,
          3,
          7,
          12,
          6,
          3,
          12,
          4,
          3,
          5,
          5,
          16,
          1,
          2,
          8,
          6,
          1,
          6,
          1,
          4,
          7,
          13,
          39,
          21,
          27,
          2,
          5,
          33,
          35,
          22,
          19,
          18,
          5,
          3,
          36,
          23,
          30,
          19,
          32,
          2,
          3,
          13,
          24,
          28,
          29,
          6,
          2,
          2,
          29,
          36,
          43,
          40,
          29,
          4,
          4,
          25,
          32,
          47,
          39,
          51,
          4,
          2,
          31,
          8,
          44,
          35,
          30,
          2,
          25,
          51,
          31,
          31,
          26,
          4,
          91,
          45,
          1,
          1,
          2,
          2,
          1,
          2,
          7,
          2,
          5,
          9,
          4,
          1,
          2,
          6,
          6,
          6,
          10,
          4,
          1,
          12,
          11,
          10,
          5,
          1,
          3,
          3,
          6,
          9,
          11,
          8,
          4,
          3,
          11,
          8,
          9,
          6,
          7,
          1,
          9,
          6,
          8,
          14,
          2,
          4,
          8,
          3,
          5,
          2,
          4,
          3,
          4,
          3,
          5,
          12,
          4,
          5,
          7,
          11,
          8,
          3,
          4,
          3,
          3,
          6,
          2,
          3,
          9,
          2,
          2,
          3,
          9,
          5,
          2,
          6,
          3,
          3,
          1,
          1,
          1,
          2,
          1,
          1,
          1,
          1,
          1,
          1,
          1,
          1,
          1,
          2,
          1,
          1,
          1,
          1,
          1,
          1,
          1,
          1,
          1,
          1,
          2,
          1,
          4,
          5,
          3,
          1,
          4,
          4,
          2,
          2,
          1,
          1,
          3,
          3,
          1,
          2,
          2,
          2,
          1,
          2,
          4,
          1,
          6,
          1,
          2,
          1,
          2,
          2,
          1,
          1,
          3,
          1,
          1,
          2,
          1,
          3,
          4,
          5,
          1,
          3,
          2,
          3,
          4,
          1,
          3,
          4,
          1,
          2,
          6,
          2,
          8,
          2,
          4,
          3,
          1,
          5,
          4,
          9,
          6,
          4,
          59,
          4,
          1,
          2,
          2,
          6,
          1,
          4,
          5,
          3,
          4,
          2,
          5,
          2,
          5,
          5,
          10,
          34,
          42,
          1,
          10,
          6,
          7,
          6,
          7,
          4,
          3,
          2,
          6,
          1,
          2,
          9,
          1,
          1,
          3,
          2,
          23,
          31,
          2,
          1,
          1,
          7,
          4,
          2,
          9,
          1,
          1,
          1,
          2,
          3,
          1,
          6,
          1,
          5,
          1,
          2,
          3,
          5,
          1,
          1,
          1,
          3,
          2,
          4,
          1,
          1,
          5,
          12,
          3,
          1,
          2,
          3,
          27,
          4,
          1,
          8,
          45,
          52,
          11,
          14,
          93,
          66,
          87,
          61,
          63,
          15,
          18,
          89,
          101,
          85,
          86,
          139,
          64,
          68,
          118,
          109,
          109,
          108,
          99,
          24,
          15,
          91,
          104,
          85,
          106,
          104,
          19,
          15,
          79,
          100,
          122,
          72,
          40,
          13,
          19,
          97,
          105,
          95,
          87,
          100,
          8,
          40,
          81,
          81,
          86,
          80,
          68,
          9,
          13,
          106,
          74,
          95,
          77,
          69,
          14,
          13,
          77,
          81,
          88,
          87,
          56,
          25,
          13,
          87,
          69,
          68,
          60,
          68,
          5,
          16,
          89,
          81,
          54,
          87,
          76,
          16,
          11,
          61,
          25,
          33,
          14,
          6,
          2,
          4,
          54,
          31,
          14,
          4,
          9,
          2,
          73,
          12,
          12,
          11,
          3,
          7,
          14,
          4,
          15,
          12,
          13,
          3,
          3,
          2,
          7,
          19,
          8,
          10,
          11,
          5,
          9,
          3,
          14,
          14,
          6,
          8,
          8,
          2,
          14,
          11,
          19,
          6,
          14,
          11,
          6,
          22,
          17,
          27,
          28,
          16,
          9,
          7,
          25,
          26,
          25,
          12,
          5,
          4,
          7,
          59,
          27,
          18,
          15,
          15,
          17,
          7,
          26,
          25,
          50,
          44,
          29,
          20,
          12,
          43,
          44,
          80,
          61,
          39,
          9,
          8,
          43,
          36,
          45,
          125,
          56,
          9,
          61,
          85,
          83,
          48,
          35,
          110,
          36,
          65,
          45,
          2,
          124,
          178,
          13,
          248,
          253,
          261,
          239,
          210,
          35,
          1,
          240,
          236,
          246,
          236,
          242,
          13,
          228,
          230,
          221,
          218,
          227,
          47,
          7,
          244,
          229,
          247,
          229,
          219,
          47,
          1,
          226,
          207,
          239,
          228,
          126,
          22,
          2,
          233,
          235,
          235,
          223,
          199,
          18,
          227,
          207,
          194,
          207,
          232,
          20,
          3,
          243,
          254,
          270,
          275,
          247,
          34,
          2,
          236,
          266,
          240,
          220,
          228,
          60,
          4,
          224,
          181,
          192,
          174,
          213,
          26,
          1,
          238,
          222,
          182,
          220,
          227,
          1,
          2,
          203,
          198,
          163,
          57,
          15,
          4,
          5,
          20,
          37,
          36,
          42,
          53,
          3,
          40,
          32,
          52,
          36,
          1,
          2,
          37,
          16,
          32,
          41,
          8,
          1,
          24,
          39,
          35,
          55,
          64,
          5,
          2,
          3,
          28,
          39,
          58,
          8,
          7,
          2,
          74,
          80,
          70,
          55,
          44,
          7,
          3,
          39,
          42,
          57,
          57,
          48,
          4,
          57,
          72,
          82,
          89,
          71,
          9,
          2,
          85,
          90,
          85,
          125,
          87,
          12,
          5,
          113,
          127,
          144,
          143,
          119,
          13,
          107,
          137,
          142,
          149,
          131,
          10,
          5,
          159,
          7,
          192,
          154,
          115,
          7,
          129,
          155,
          138,
          203,
          174,
          16,
          5,
          149,
          167,
          1,
          2,
          1,
          12,
          12,
          2,
          3,
          2,
          1,
          8,
          6,
          7,
          7,
          6,
          5,
          10,
          11,
          11,
          3,
          5,
          3,
          5,
          8,
          4,
          1,
          5,
          8,
          9,
          6,
          5,
          12,
          19,
          13,
          4,
          7,
          1,
          1,
          14,
          9,
          5,
          6,
          9,
          3,
          8,
          19,
          8,
          11,
          1,
          2,
          11,
          13,
          16,
          7,
          10,
          11,
          16,
          10,
          14,
          15,
          9,
          16,
          6,
          22,
          14,
          18,
          15,
          10,
          2,
          2,
          4,
          3,
          1,
          2,
          2,
          12,
          1,
          13,
          5,
          5,
          8,
          4,
          4,
          5,
          2,
          2,
          2,
          2,
          13,
          2,
          2,
          1,
          2,
          3,
          8,
          12,
          2,
          1,
          3,
          3,
          4,
          7,
          5,
          2,
          5,
          11,
          5,
          2,
          4,
          1,
          26,
          14,
          19,
          72,
          64,
          3,
          5,
          59,
          41,
          42,
          26,
          48,
          2,
          3,
          68,
          64,
          191,
          178,
          120,
          4,
          6,
          109,
          3,
          114,
          67,
          67,
          3,
          1,
          94,
          89,
          88,
          59,
          80,
          69,
          17,
          281,
          203,
          1,
          1,
          3,
          1,
          4,
          4,
          7,
          4,
          3,
          4,
          2,
          3,
          6,
          3,
          1,
          2,
          1,
          1,
          2,
          1,
          4,
          3,
          2,
          3,
          2,
          3,
          2,
          2,
          2,
          4,
          5,
          1,
          7,
          6,
          3,
          5,
          2,
          1,
          3,
          4,
          5,
          2,
          4,
          1,
          5,
          1,
          3,
          2,
          1,
          3,
          2,
          3,
          2,
          7,
          3,
          1,
          1,
          2,
          1,
          1,
          1,
          1,
          5,
          2,
          3,
          1,
          1,
          5,
          1,
          1,
          2,
          2,
          1,
          4,
          1,
          1,
          2,
          3,
          1,
          1,
          4,
          1,
          2,
          1,
          3,
          3,
          3,
          4,
          3,
          1,
          3,
          2,
          2,
          1,
          3,
          3,
          1,
          4,
          3,
          3,
          1,
          2,
          1,
          7,
          6,
          4,
          2,
          3,
          2,
          3,
          1,
          2,
          1,
          1,
          2,
          17,
          19,
          5,
          3,
          1,
          2,
          2,
          2,
          1,
          1,
          3,
          3,
          1,
          4,
          2,
          5,
          1,
          5,
          2,
          3,
          1,
          4,
          2,
          3,
          38,
          448,
          407,
          26,
          14,
          421,
          382,
          536,
          511,
          415,
          58,
          18,
          390,
          392,
          381,
          407,
          374,
          20,
          11,
          345,
          351,
          397,
          377,
          351,
          54,
          13,
          428,
          393,
          359,
          328,
          294,
          37,
          16,
          310,
          497,
          407,
          351,
          132,
          24,
          11,
          393,
          314,
          355,
          394,
          345,
          29,
          13,
          380,
          325,
          538,
          561,
          354,
          258,
          12,
          314,
          390,
          367,
          405,
          386,
          54,
          17,
          227,
          638,
          666,
          554,
          426,
          53,
          21,
          335,
          577,
          392,
          475,
          358,
          51,
          17,
          617,
          564,
          460,
          489,
          419,
          137,
          13,
          316,
          280,
          302,
          345,
          320,
          90,
          34,
          206,
          140,
          176,
          194,
          137,
          11,
          18,
          100,
          125,
          137,
          126,
          35,
          24,
          11,
          25,
          178,
          128,
          128,
          111,
          15,
          8,
          157,
          106,
          125,
          192,
          82,
          9,
          21,
          29,
          141,
          155,
          158,
          27,
          21,
          12,
          154,
          208,
          249,
          235,
          202,
          53,
          14,
          253,
          197,
          197,
          186,
          109,
          52,
          32,
          212,
          218,
          194,
          183,
          164,
          59,
          40,
          228,
          232,
          277,
          232,
          203,
          50,
          63,
          299,
          306,
          227,
          281,
          333,
          72,
          30,
          275,
          287,
          212,
          200,
          206,
          18,
          22,
          252,
          85,
          236,
          239,
          251,
          35,
          3,
          243,
          219,
          176,
          212,
          145,
          33,
          23,
          188,
          216,
          2,
          9,
          15,
          1,
          16,
          9,
          10,
          4,
          10,
          1,
          1,
          7,
          8,
          17,
          43,
          8,
          7,
          3,
          29,
          232,
          103,
          92,
          165,
          1,
          2,
          100,
          272,
          253,
          141,
          23,
          4,
          1,
          96,
          41,
          15,
          105,
          5,
          1,
          33,
          67,
          69,
          41,
          34,
          2,
          54,
          39,
          14,
          58,
          27,
          5,
          4,
          18,
          58,
          151,
          11,
          9,
          3,
          1,
          15,
          18,
          16,
          14,
          23,
          8,
          5,
          24,
          16,
          11,
          16,
          12,
          2,
          1,
          15,
          9,
          12,
          10,
          7,
          1,
          60,
          37,
          118,
          5,
          2,
          6,
          5,
          6,
          4,
          7,
          1,
          5,
          3,
          4,
          4,
          4,
          3,
          3,
          2,
          6,
          10,
          3,
          1,
          2,
          3,
          2,
          1,
          2,
          10,
          6,
          2,
          1,
          2,
          3,
          2,
          1,
          2,
          9,
          4,
          3,
          3,
          1,
          2,
          2,
          5,
          2,
          2,
          1,
          4,
          2,
          1,
          4,
          4,
          7,
          5,
          1,
          4,
          4,
          11,
          2,
          2,
          4,
          3,
          4,
          9,
          4,
          1,
          6,
          14,
          4,
          5,
          12,
          2,
          14,
          2,
          15,
          3,
          10,
          3,
          7,
          8,
          11,
          18,
          4,
          2,
          1,
          9,
          8,
          1,
          5,
          3,
          2,
          1,
          7,
          8,
          5,
          10,
          4,
          2,
          3,
          6,
          10,
          8,
          12,
          7,
          5,
          7,
          15,
          10,
          14,
          9,
          10,
          5,
          9,
          10,
          17,
          16,
          3,
          7,
          6,
          7,
          17,
          15,
          20,
          17,
          4,
          6,
          2,
          23,
          22,
          31,
          15,
          6,
          5,
          11,
          18,
          19,
          30,
          17,
          16,
          6,
          1,
          6,
          15,
          9,
          7,
          3,
          2,
          6,
          16,
          16,
          8,
          14,
          7,
          3,
          2,
          13,
          14,
          8,
          13,
          6,
          3,
          3,
          4,
          1,
          5,
          4,
          2,
          2,
          2,
          2,
          4,
          6,
          1,
          1,
          2,
          1,
          1,
          2,
          4,
          3,
          3,
          4,
          2,
          3,
          6,
          2,
          5,
          1,
          4,
          4,
          1,
          6,
          2,
          1,
          3,
          2,
          5,
          2,
          2,
          3,
          1,
          8,
          2,
          3,
          1,
          4,
          3,
          9,
          4,
          4,
          2,
          4,
          5,
          4,
          1,
          1,
          2,
          4,
          3,
          2,
          4,
          1,
          2,
          4,
          6,
          10,
          9,
          5,
          8,
          5,
          3,
          7,
          12,
          12,
          9,
          9,
          2,
          6,
          11,
          2,
          8,
          6,
          4,
          7,
          3,
          7,
          5,
          11,
          2,
          9,
          5,
          10,
          3,
          3,
          4,
          9,
          5,
          4,
          16,
          18,
          4,
          3,
          1,
          8,
          2,
          9,
          1,
          13,
          15,
          3,
          13,
          16,
          6,
          19,
          14,
          8,
          12,
          14,
          7,
          7,
          4,
          9,
          6,
          8,
          12,
          16,
          6,
          1,
          10,
          11,
          12,
          5,
          4,
          11,
          2,
          7,
          6,
          5,
          6,
          6,
          10,
          7,
          7,
          7,
          2,
          2,
          8,
          3,
          1,
          4,
          4,
          11,
          7,
          2,
          1,
          2,
          5,
          7,
          18,
          4,
          1,
          5,
          3,
          2,
          1,
          1,
          1,
          1,
          1,
          1,
          2,
          2,
          1,
          1,
          1,
          2,
          2,
          1,
          1,
          2,
          1,
          1,
          9,
          6,
          4,
          1,
          3,
          5,
          1,
          4,
          3,
          1,
          10,
          3,
          7,
          4,
          7,
          7,
          3,
          7,
          4,
          5,
          7
         ],
         "y0": " ",
         "yaxis": "y"
        }
       ],
       "layout": {
        "boxmode": "group",
        "height": 800,
        "legend": {
         "tracegroupgap": 0
        },
        "margin": {
         "t": 60
        },
        "template": {
         "data": {
          "bar": [
           {
            "error_x": {
             "color": "#2a3f5f"
            },
            "error_y": {
             "color": "#2a3f5f"
            },
            "marker": {
             "line": {
              "color": "#E5ECF6",
              "width": 0.5
             },
             "pattern": {
              "fillmode": "overlay",
              "size": 10,
              "solidity": 0.2
             }
            },
            "type": "bar"
           }
          ],
          "barpolar": [
           {
            "marker": {
             "line": {
              "color": "#E5ECF6",
              "width": 0.5
             },
             "pattern": {
              "fillmode": "overlay",
              "size": 10,
              "solidity": 0.2
             }
            },
            "type": "barpolar"
           }
          ],
          "carpet": [
           {
            "aaxis": {
             "endlinecolor": "#2a3f5f",
             "gridcolor": "white",
             "linecolor": "white",
             "minorgridcolor": "white",
             "startlinecolor": "#2a3f5f"
            },
            "baxis": {
             "endlinecolor": "#2a3f5f",
             "gridcolor": "white",
             "linecolor": "white",
             "minorgridcolor": "white",
             "startlinecolor": "#2a3f5f"
            },
            "type": "carpet"
           }
          ],
          "choropleth": [
           {
            "colorbar": {
             "outlinewidth": 0,
             "ticks": ""
            },
            "type": "choropleth"
           }
          ],
          "contour": [
           {
            "colorbar": {
             "outlinewidth": 0,
             "ticks": ""
            },
            "colorscale": [
             [
              0,
              "#0d0887"
             ],
             [
              0.1111111111111111,
              "#46039f"
             ],
             [
              0.2222222222222222,
              "#7201a8"
             ],
             [
              0.3333333333333333,
              "#9c179e"
             ],
             [
              0.4444444444444444,
              "#bd3786"
             ],
             [
              0.5555555555555556,
              "#d8576b"
             ],
             [
              0.6666666666666666,
              "#ed7953"
             ],
             [
              0.7777777777777778,
              "#fb9f3a"
             ],
             [
              0.8888888888888888,
              "#fdca26"
             ],
             [
              1,
              "#f0f921"
             ]
            ],
            "type": "contour"
           }
          ],
          "contourcarpet": [
           {
            "colorbar": {
             "outlinewidth": 0,
             "ticks": ""
            },
            "type": "contourcarpet"
           }
          ],
          "heatmap": [
           {
            "colorbar": {
             "outlinewidth": 0,
             "ticks": ""
            },
            "colorscale": [
             [
              0,
              "#0d0887"
             ],
             [
              0.1111111111111111,
              "#46039f"
             ],
             [
              0.2222222222222222,
              "#7201a8"
             ],
             [
              0.3333333333333333,
              "#9c179e"
             ],
             [
              0.4444444444444444,
              "#bd3786"
             ],
             [
              0.5555555555555556,
              "#d8576b"
             ],
             [
              0.6666666666666666,
              "#ed7953"
             ],
             [
              0.7777777777777778,
              "#fb9f3a"
             ],
             [
              0.8888888888888888,
              "#fdca26"
             ],
             [
              1,
              "#f0f921"
             ]
            ],
            "type": "heatmap"
           }
          ],
          "heatmapgl": [
           {
            "colorbar": {
             "outlinewidth": 0,
             "ticks": ""
            },
            "colorscale": [
             [
              0,
              "#0d0887"
             ],
             [
              0.1111111111111111,
              "#46039f"
             ],
             [
              0.2222222222222222,
              "#7201a8"
             ],
             [
              0.3333333333333333,
              "#9c179e"
             ],
             [
              0.4444444444444444,
              "#bd3786"
             ],
             [
              0.5555555555555556,
              "#d8576b"
             ],
             [
              0.6666666666666666,
              "#ed7953"
             ],
             [
              0.7777777777777778,
              "#fb9f3a"
             ],
             [
              0.8888888888888888,
              "#fdca26"
             ],
             [
              1,
              "#f0f921"
             ]
            ],
            "type": "heatmapgl"
           }
          ],
          "histogram": [
           {
            "marker": {
             "pattern": {
              "fillmode": "overlay",
              "size": 10,
              "solidity": 0.2
             }
            },
            "type": "histogram"
           }
          ],
          "histogram2d": [
           {
            "colorbar": {
             "outlinewidth": 0,
             "ticks": ""
            },
            "colorscale": [
             [
              0,
              "#0d0887"
             ],
             [
              0.1111111111111111,
              "#46039f"
             ],
             [
              0.2222222222222222,
              "#7201a8"
             ],
             [
              0.3333333333333333,
              "#9c179e"
             ],
             [
              0.4444444444444444,
              "#bd3786"
             ],
             [
              0.5555555555555556,
              "#d8576b"
             ],
             [
              0.6666666666666666,
              "#ed7953"
             ],
             [
              0.7777777777777778,
              "#fb9f3a"
             ],
             [
              0.8888888888888888,
              "#fdca26"
             ],
             [
              1,
              "#f0f921"
             ]
            ],
            "type": "histogram2d"
           }
          ],
          "histogram2dcontour": [
           {
            "colorbar": {
             "outlinewidth": 0,
             "ticks": ""
            },
            "colorscale": [
             [
              0,
              "#0d0887"
             ],
             [
              0.1111111111111111,
              "#46039f"
             ],
             [
              0.2222222222222222,
              "#7201a8"
             ],
             [
              0.3333333333333333,
              "#9c179e"
             ],
             [
              0.4444444444444444,
              "#bd3786"
             ],
             [
              0.5555555555555556,
              "#d8576b"
             ],
             [
              0.6666666666666666,
              "#ed7953"
             ],
             [
              0.7777777777777778,
              "#fb9f3a"
             ],
             [
              0.8888888888888888,
              "#fdca26"
             ],
             [
              1,
              "#f0f921"
             ]
            ],
            "type": "histogram2dcontour"
           }
          ],
          "mesh3d": [
           {
            "colorbar": {
             "outlinewidth": 0,
             "ticks": ""
            },
            "type": "mesh3d"
           }
          ],
          "parcoords": [
           {
            "line": {
             "colorbar": {
              "outlinewidth": 0,
              "ticks": ""
             }
            },
            "type": "parcoords"
           }
          ],
          "pie": [
           {
            "automargin": true,
            "type": "pie"
           }
          ],
          "scatter": [
           {
            "fillpattern": {
             "fillmode": "overlay",
             "size": 10,
             "solidity": 0.2
            },
            "type": "scatter"
           }
          ],
          "scatter3d": [
           {
            "line": {
             "colorbar": {
              "outlinewidth": 0,
              "ticks": ""
             }
            },
            "marker": {
             "colorbar": {
              "outlinewidth": 0,
              "ticks": ""
             }
            },
            "type": "scatter3d"
           }
          ],
          "scattercarpet": [
           {
            "marker": {
             "colorbar": {
              "outlinewidth": 0,
              "ticks": ""
             }
            },
            "type": "scattercarpet"
           }
          ],
          "scattergeo": [
           {
            "marker": {
             "colorbar": {
              "outlinewidth": 0,
              "ticks": ""
             }
            },
            "type": "scattergeo"
           }
          ],
          "scattergl": [
           {
            "marker": {
             "colorbar": {
              "outlinewidth": 0,
              "ticks": ""
             }
            },
            "type": "scattergl"
           }
          ],
          "scattermapbox": [
           {
            "marker": {
             "colorbar": {
              "outlinewidth": 0,
              "ticks": ""
             }
            },
            "type": "scattermapbox"
           }
          ],
          "scatterpolar": [
           {
            "marker": {
             "colorbar": {
              "outlinewidth": 0,
              "ticks": ""
             }
            },
            "type": "scatterpolar"
           }
          ],
          "scatterpolargl": [
           {
            "marker": {
             "colorbar": {
              "outlinewidth": 0,
              "ticks": ""
             }
            },
            "type": "scatterpolargl"
           }
          ],
          "scatterternary": [
           {
            "marker": {
             "colorbar": {
              "outlinewidth": 0,
              "ticks": ""
             }
            },
            "type": "scatterternary"
           }
          ],
          "surface": [
           {
            "colorbar": {
             "outlinewidth": 0,
             "ticks": ""
            },
            "colorscale": [
             [
              0,
              "#0d0887"
             ],
             [
              0.1111111111111111,
              "#46039f"
             ],
             [
              0.2222222222222222,
              "#7201a8"
             ],
             [
              0.3333333333333333,
              "#9c179e"
             ],
             [
              0.4444444444444444,
              "#bd3786"
             ],
             [
              0.5555555555555556,
              "#d8576b"
             ],
             [
              0.6666666666666666,
              "#ed7953"
             ],
             [
              0.7777777777777778,
              "#fb9f3a"
             ],
             [
              0.8888888888888888,
              "#fdca26"
             ],
             [
              1,
              "#f0f921"
             ]
            ],
            "type": "surface"
           }
          ],
          "table": [
           {
            "cells": {
             "fill": {
              "color": "#EBF0F8"
             },
             "line": {
              "color": "white"
             }
            },
            "header": {
             "fill": {
              "color": "#C8D4E3"
             },
             "line": {
              "color": "white"
             }
            },
            "type": "table"
           }
          ]
         },
         "layout": {
          "annotationdefaults": {
           "arrowcolor": "#2a3f5f",
           "arrowhead": 0,
           "arrowwidth": 1
          },
          "autotypenumbers": "strict",
          "coloraxis": {
           "colorbar": {
            "outlinewidth": 0,
            "ticks": ""
           }
          },
          "colorscale": {
           "diverging": [
            [
             0,
             "#8e0152"
            ],
            [
             0.1,
             "#c51b7d"
            ],
            [
             0.2,
             "#de77ae"
            ],
            [
             0.3,
             "#f1b6da"
            ],
            [
             0.4,
             "#fde0ef"
            ],
            [
             0.5,
             "#f7f7f7"
            ],
            [
             0.6,
             "#e6f5d0"
            ],
            [
             0.7,
             "#b8e186"
            ],
            [
             0.8,
             "#7fbc41"
            ],
            [
             0.9,
             "#4d9221"
            ],
            [
             1,
             "#276419"
            ]
           ],
           "sequential": [
            [
             0,
             "#0d0887"
            ],
            [
             0.1111111111111111,
             "#46039f"
            ],
            [
             0.2222222222222222,
             "#7201a8"
            ],
            [
             0.3333333333333333,
             "#9c179e"
            ],
            [
             0.4444444444444444,
             "#bd3786"
            ],
            [
             0.5555555555555556,
             "#d8576b"
            ],
            [
             0.6666666666666666,
             "#ed7953"
            ],
            [
             0.7777777777777778,
             "#fb9f3a"
            ],
            [
             0.8888888888888888,
             "#fdca26"
            ],
            [
             1,
             "#f0f921"
            ]
           ],
           "sequentialminus": [
            [
             0,
             "#0d0887"
            ],
            [
             0.1111111111111111,
             "#46039f"
            ],
            [
             0.2222222222222222,
             "#7201a8"
            ],
            [
             0.3333333333333333,
             "#9c179e"
            ],
            [
             0.4444444444444444,
             "#bd3786"
            ],
            [
             0.5555555555555556,
             "#d8576b"
            ],
            [
             0.6666666666666666,
             "#ed7953"
            ],
            [
             0.7777777777777778,
             "#fb9f3a"
            ],
            [
             0.8888888888888888,
             "#fdca26"
            ],
            [
             1,
             "#f0f921"
            ]
           ]
          },
          "colorway": [
           "#636efa",
           "#EF553B",
           "#00cc96",
           "#ab63fa",
           "#FFA15A",
           "#19d3f3",
           "#FF6692",
           "#B6E880",
           "#FF97FF",
           "#FECB52"
          ],
          "font": {
           "color": "#2a3f5f"
          },
          "geo": {
           "bgcolor": "white",
           "lakecolor": "white",
           "landcolor": "#E5ECF6",
           "showlakes": true,
           "showland": true,
           "subunitcolor": "white"
          },
          "hoverlabel": {
           "align": "left"
          },
          "hovermode": "closest",
          "mapbox": {
           "style": "light"
          },
          "paper_bgcolor": "white",
          "plot_bgcolor": "#E5ECF6",
          "polar": {
           "angularaxis": {
            "gridcolor": "white",
            "linecolor": "white",
            "ticks": ""
           },
           "bgcolor": "#E5ECF6",
           "radialaxis": {
            "gridcolor": "white",
            "linecolor": "white",
            "ticks": ""
           }
          },
          "scene": {
           "xaxis": {
            "backgroundcolor": "#E5ECF6",
            "gridcolor": "white",
            "gridwidth": 2,
            "linecolor": "white",
            "showbackground": true,
            "ticks": "",
            "zerolinecolor": "white"
           },
           "yaxis": {
            "backgroundcolor": "#E5ECF6",
            "gridcolor": "white",
            "gridwidth": 2,
            "linecolor": "white",
            "showbackground": true,
            "ticks": "",
            "zerolinecolor": "white"
           },
           "zaxis": {
            "backgroundcolor": "#E5ECF6",
            "gridcolor": "white",
            "gridwidth": 2,
            "linecolor": "white",
            "showbackground": true,
            "ticks": "",
            "zerolinecolor": "white"
           }
          },
          "shapedefaults": {
           "line": {
            "color": "#2a3f5f"
           }
          },
          "ternary": {
           "aaxis": {
            "gridcolor": "white",
            "linecolor": "white",
            "ticks": ""
           },
           "baxis": {
            "gridcolor": "white",
            "linecolor": "white",
            "ticks": ""
           },
           "bgcolor": "#E5ECF6",
           "caxis": {
            "gridcolor": "white",
            "linecolor": "white",
            "ticks": ""
           }
          },
          "title": {
           "x": 0.05
          },
          "xaxis": {
           "automargin": true,
           "gridcolor": "white",
           "linecolor": "white",
           "ticks": "",
           "title": {
            "standoff": 15
           },
           "zerolinecolor": "white",
           "zerolinewidth": 2
          },
          "yaxis": {
           "automargin": true,
           "gridcolor": "white",
           "linecolor": "white",
           "ticks": "",
           "title": {
            "standoff": 15
           },
           "zerolinecolor": "white",
           "zerolinewidth": 2
          }
         }
        },
        "width": 800,
        "xaxis": {
         "anchor": "y",
         "domain": [
          0,
          1
         ],
         "title": {
          "text": "department"
         }
        },
        "yaxis": {
         "anchor": "x",
         "domain": [
          0,
          1
         ],
         "title": {
          "text": "req"
         }
        }
       }
      }
     },
     "metadata": {},
     "output_type": "display_data"
    }
   ],
   "source": [
    "fig = px.box(df_test, x=\"department\", y=\"req\", log_y=False, width=800, height=800)\n",
    "fig.show()"
   ]
  },
  {
   "cell_type": "markdown",
   "metadata": {},
   "source": [
    "# Interpret\n",
    "The top for departments in terms of service requests is Electricity, Distribution, commercial and solid waste.\n"
   ]
  },
  {
   "cell_type": "code",
   "execution_count": 6,
   "metadata": {},
   "outputs": [],
   "source": [
    "from sklearn.ensemble import IsolationForest as IF\n",
    "\n",
    "res = []\n",
    "\n",
    "# We'll choose a 5% contamination, but this is a parameter we could play with\n",
    "g = df_test.groupby(['department'])\n",
    "for name, data in g:\n",
    "    if data.shape[0] > 5:\n",
    "        x = data[['req']]\n",
    "        clf = IF(n_estimators=100, max_samples='auto', contamination=float(.05), max_features=1.0, bootstrap=False, n_jobs=-1)\n",
    "        clf.fit(x.values)\n",
    "        x_dates = data[['date']]\n",
    "        pred = pd.DataFrame({'department':name,\n",
    "                            'date':x_dates['date'],\n",
    "                            'anomaly':clf.predict(x.values),\n",
    "                            'scores':clf.decision_function(x.values),\n",
    "                            'req':x['req']})\n",
    "        pred['request_cnt'] = x['req'].sum()\n",
    "        res.append(pred)\n"
   ]
  },
  {
   "cell_type": "code",
   "execution_count": 7,
   "metadata": {},
   "outputs": [],
   "source": [
    "res = pd.concat(res)"
   ]
  },
  {
   "cell_type": "markdown",
   "metadata": {},
   "source": [
    "# Let's see who had the most anomalies by department\n"
   ]
  },
  {
   "cell_type": "code",
   "execution_count": 8,
   "metadata": {},
   "outputs": [
    {
     "data": {
      "text/html": [
       "<div>\n",
       "<style scoped>\n",
       "    .dataframe tbody tr th:only-of-type {\n",
       "        vertical-align: middle;\n",
       "    }\n",
       "\n",
       "    .dataframe tbody tr th {\n",
       "        vertical-align: top;\n",
       "    }\n",
       "\n",
       "    .dataframe thead th {\n",
       "        text-align: right;\n",
       "    }\n",
       "</style>\n",
       "<table border=\"1\" class=\"dataframe\">\n",
       "  <thead>\n",
       "    <tr style=\"text-align: right;\">\n",
       "      <th></th>\n",
       "      <th>department</th>\n",
       "      <th>anom_cnt</th>\n",
       "      <th>cnt</th>\n",
       "      <th>anom_per</th>\n",
       "    </tr>\n",
       "  </thead>\n",
       "  <tbody>\n",
       "    <tr>\n",
       "      <th>11</th>\n",
       "      <td>Social Development &amp; Early Childhood Development</td>\n",
       "      <td>6.0</td>\n",
       "      <td>139</td>\n",
       "      <td>4.316547</td>\n",
       "    </tr>\n",
       "    <tr>\n",
       "      <th>14</th>\n",
       "      <td>Transport Planning &amp; Network Management</td>\n",
       "      <td>8.0</td>\n",
       "      <td>173</td>\n",
       "      <td>4.624277</td>\n",
       "    </tr>\n",
       "    <tr>\n",
       "      <th>15</th>\n",
       "      <td>Valuations</td>\n",
       "      <td>5.0</td>\n",
       "      <td>103</td>\n",
       "      <td>4.854369</td>\n",
       "    </tr>\n",
       "    <tr>\n",
       "      <th>8</th>\n",
       "      <td>Recreation and Parks</td>\n",
       "      <td>9.0</td>\n",
       "      <td>180</td>\n",
       "      <td>5.000000</td>\n",
       "    </tr>\n",
       "    <tr>\n",
       "      <th>2</th>\n",
       "      <td>Customer Relations</td>\n",
       "      <td>8.0</td>\n",
       "      <td>158</td>\n",
       "      <td>5.063291</td>\n",
       "    </tr>\n",
       "    <tr>\n",
       "      <th>5</th>\n",
       "      <td>Home Ownership Transfer, Tenancy Management an...</td>\n",
       "      <td>9.0</td>\n",
       "      <td>173</td>\n",
       "      <td>5.202312</td>\n",
       "    </tr>\n",
       "    <tr>\n",
       "      <th>9</th>\n",
       "      <td>Revenue</td>\n",
       "      <td>9.0</td>\n",
       "      <td>173</td>\n",
       "      <td>5.202312</td>\n",
       "    </tr>\n",
       "    <tr>\n",
       "      <th>0</th>\n",
       "      <td>City Health</td>\n",
       "      <td>9.0</td>\n",
       "      <td>172</td>\n",
       "      <td>5.232558</td>\n",
       "    </tr>\n",
       "    <tr>\n",
       "      <th>13</th>\n",
       "      <td>Technical Services</td>\n",
       "      <td>9.0</td>\n",
       "      <td>166</td>\n",
       "      <td>5.421687</td>\n",
       "    </tr>\n",
       "    <tr>\n",
       "      <th>7</th>\n",
       "      <td>Property Management</td>\n",
       "      <td>5.0</td>\n",
       "      <td>92</td>\n",
       "      <td>5.434783</td>\n",
       "    </tr>\n",
       "    <tr>\n",
       "      <th>10</th>\n",
       "      <td>Roads Infrastructure Management</td>\n",
       "      <td>8.0</td>\n",
       "      <td>146</td>\n",
       "      <td>5.479452</td>\n",
       "    </tr>\n",
       "    <tr>\n",
       "      <th>1</th>\n",
       "      <td>Commercial Services</td>\n",
       "      <td>10.0</td>\n",
       "      <td>182</td>\n",
       "      <td>5.494505</td>\n",
       "    </tr>\n",
       "    <tr>\n",
       "      <th>3</th>\n",
       "      <td>Distribution Services</td>\n",
       "      <td>10.0</td>\n",
       "      <td>182</td>\n",
       "      <td>5.494505</td>\n",
       "    </tr>\n",
       "    <tr>\n",
       "      <th>4</th>\n",
       "      <td>Electricity Generation and Distribution</td>\n",
       "      <td>10.0</td>\n",
       "      <td>182</td>\n",
       "      <td>5.494505</td>\n",
       "    </tr>\n",
       "    <tr>\n",
       "      <th>12</th>\n",
       "      <td>Solid Waste Management</td>\n",
       "      <td>10.0</td>\n",
       "      <td>182</td>\n",
       "      <td>5.494505</td>\n",
       "    </tr>\n",
       "    <tr>\n",
       "      <th>6</th>\n",
       "      <td>Operational Coordination</td>\n",
       "      <td>8.0</td>\n",
       "      <td>142</td>\n",
       "      <td>5.633803</td>\n",
       "    </tr>\n",
       "  </tbody>\n",
       "</table>\n",
       "</div>"
      ],
      "text/plain": [
       "                                           department  anom_cnt  cnt  anom_per\n",
       "11   Social Development & Early Childhood Development       6.0  139  4.316547\n",
       "14            Transport Planning & Network Management       8.0  173  4.624277\n",
       "15                                         Valuations       5.0  103  4.854369\n",
       "8                                Recreation and Parks       9.0  180  5.000000\n",
       "2                                  Customer Relations       8.0  158  5.063291\n",
       "5   Home Ownership Transfer, Tenancy Management an...       9.0  173  5.202312\n",
       "9                                             Revenue       9.0  173  5.202312\n",
       "0                                         City Health       9.0  172  5.232558\n",
       "13                                 Technical Services       9.0  166  5.421687\n",
       "7                                 Property Management       5.0   92  5.434783\n",
       "10                    Roads Infrastructure Management       8.0  146  5.479452\n",
       "1                                 Commercial Services      10.0  182  5.494505\n",
       "3                               Distribution Services      10.0  182  5.494505\n",
       "4             Electricity Generation and Distribution      10.0  182  5.494505\n",
       "12                             Solid Waste Management      10.0  182  5.494505\n",
       "6                            Operational Coordination       8.0  142  5.633803"
      ]
     },
     "execution_count": 8,
     "metadata": {},
     "output_type": "execute_result"
    }
   ],
   "source": [
    "query = '''\n",
    "select department,\n",
    "       case when anomaly = -1 then 1.0 else 0.0 end anom_cnt\n",
    "from res\n",
    "'''\n",
    "\n",
    "sum_df = sqldf.run(query)\n",
    "\n",
    "query = '''\n",
    "select department,\n",
    "       sum(anom_cnt) anom_cnt,\n",
    "       count(*) cnt,\n",
    "       sum(anom_cnt)/count(*)*100 anom_per\n",
    "from sum_df\n",
    "group by department\n",
    "'''\n",
    "\n",
    "sum_df = sqldf.run(query)\n",
    "sum_df.sort_values('anom_per')"
   ]
  },
  {
   "cell_type": "code",
   "execution_count": 9,
   "metadata": {},
   "outputs": [],
   "source": [
    "# We are looking for days which had really high service requests. \n",
    "query = '''\n",
    "select *\n",
    "from res\n",
    "where anomaly = -1 and req > 2\n",
    "'''\n",
    "\n",
    "anom_df = sqldf.run(query)"
   ]
  },
  {
   "cell_type": "code",
   "execution_count": 10,
   "metadata": {},
   "outputs": [],
   "source": [
    "query = '''\n",
    "select df.*\n",
    "from df\n",
    "inner join anom_df on anom_df.department = df.department and anom_df.date = df.date\n",
    "'''\n",
    "\n",
    "anom_line = sqldf.run(query)"
   ]
  },
  {
   "cell_type": "code",
   "execution_count": 11,
   "metadata": {},
   "outputs": [],
   "source": [
    "# Let's see why these days were picked up as anomalies\n",
    "query = '''\n",
    "select department,\n",
    "       cause_code,\n",
    "       count(distinct notification_number) cnt\n",
    "from anom_line\n",
    "group by department, cause_code\n",
    "'''\n",
    "\n",
    "sum_table = sqldf.run(query)\n",
    "sum_table['cause_code'] = sum_table['cause_code'].fillna('unknown')"
   ]
  },
  {
   "cell_type": "code",
   "execution_count": 12,
   "metadata": {},
   "outputs": [
    {
     "data": {
      "application/vnd.plotly.v1+json": {
       "config": {
        "plotlyServerURL": "https://plot.ly"
       },
       "data": [
        {
         "alignmentgroup": "True",
         "hovertemplate": "cause_code=unknown<br>department=%{x}<br>cnt=%{y}<extra></extra>",
         "legendgroup": "unknown",
         "marker": {
          "color": "#636efa",
          "pattern": {
           "shape": ""
          }
         },
         "name": "unknown",
         "offsetgroup": "unknown",
         "orientation": "v",
         "showlegend": true,
         "textposition": "auto",
         "type": "bar",
         "x": [
          "City Health",
          "Commercial Services",
          "Customer Relations",
          "Distribution Services",
          "Electricity Generation and Distribution",
          "Home Ownership Transfer, Tenancy Management and Staff Housing",
          "Operational Coordination",
          "Property Management",
          "Recreation and Parks",
          "Revenue",
          "Roads Infrastructure Management",
          "Social Development & Early Childhood Development",
          "Solid Waste Management",
          "Technical Services",
          "Transport Planning & Network Management",
          "Valuations"
         ],
         "xaxis": "x",
         "y": [
          476,
          7034,
          427,
          5742,
          8305,
          1495,
          79,
          185,
          614,
          1966,
          752,
          64,
          5137,
          1493,
          180,
          84
         ],
         "yaxis": "y"
        },
        {
         "alignmentgroup": "True",
         "hovertemplate": "cause_code=Plastic products failure<br>department=%{x}<br>cnt=%{y}<extra></extra>",
         "legendgroup": "Plastic products failure",
         "marker": {
          "color": "#EF553B",
          "pattern": {
           "shape": ""
          }
         },
         "name": "Plastic products failure",
         "offsetgroup": "Plastic products failure",
         "orientation": "v",
         "showlegend": true,
         "textposition": "auto",
         "type": "bar",
         "x": [
          "City Health",
          "Commercial Services",
          "Distribution Services"
         ],
         "xaxis": "x",
         "y": [
          1,
          2,
          89
         ],
         "yaxis": "y"
        },
        {
         "alignmentgroup": "True",
         "hovertemplate": "cause_code=Arson<br>department=%{x}<br>cnt=%{y}<extra></extra>",
         "legendgroup": "Arson",
         "marker": {
          "color": "#00cc96",
          "pattern": {
           "shape": ""
          }
         },
         "name": "Arson",
         "offsetgroup": "Arson",
         "orientation": "v",
         "showlegend": true,
         "textposition": "auto",
         "type": "bar",
         "x": [
          "Commercial Services",
          "Distribution Services"
         ],
         "xaxis": "x",
         "y": [
          1,
          1
         ],
         "yaxis": "y"
        },
        {
         "alignmentgroup": "True",
         "hovertemplate": "cause_code=Contractor Damage<br>department=%{x}<br>cnt=%{y}<extra></extra>",
         "legendgroup": "Contractor Damage",
         "marker": {
          "color": "#ab63fa",
          "pattern": {
           "shape": ""
          }
         },
         "name": "Contractor Damage",
         "offsetgroup": "Contractor Damage",
         "orientation": "v",
         "showlegend": true,
         "textposition": "auto",
         "type": "bar",
         "x": [
          "Commercial Services",
          "Distribution Services"
         ],
         "xaxis": "x",
         "y": [
          1,
          6
         ],
         "yaxis": "y"
        },
        {
         "alignmentgroup": "True",
         "hovertemplate": "cause_code=Electrical Failure<br>department=%{x}<br>cnt=%{y}<extra></extra>",
         "legendgroup": "Electrical Failure",
         "marker": {
          "color": "#FFA15A",
          "pattern": {
           "shape": ""
          }
         },
         "name": "Electrical Failure",
         "offsetgroup": "Electrical Failure",
         "orientation": "v",
         "showlegend": true,
         "textposition": "auto",
         "type": "bar",
         "x": [
          "Commercial Services",
          "Distribution Services"
         ],
         "xaxis": "x",
         "y": [
          1,
          1
         ],
         "yaxis": "y"
        },
        {
         "alignmentgroup": "True",
         "hovertemplate": "cause_code=Joint Failure<br>department=%{x}<br>cnt=%{y}<extra></extra>",
         "legendgroup": "Joint Failure",
         "marker": {
          "color": "#19d3f3",
          "pattern": {
           "shape": ""
          }
         },
         "name": "Joint Failure",
         "offsetgroup": "Joint Failure",
         "orientation": "v",
         "showlegend": true,
         "textposition": "auto",
         "type": "bar",
         "x": [
          "Commercial Services",
          "Distribution Services"
         ],
         "xaxis": "x",
         "y": [
          1,
          49
         ],
         "yaxis": "y"
        },
        {
         "alignmentgroup": "True",
         "hovertemplate": "cause_code=No Cause Found<br>department=%{x}<br>cnt=%{y}<extra></extra>",
         "legendgroup": "No Cause Found",
         "marker": {
          "color": "#FF6692",
          "pattern": {
           "shape": ""
          }
         },
         "name": "No Cause Found",
         "offsetgroup": "No Cause Found",
         "orientation": "v",
         "showlegend": true,
         "textposition": "auto",
         "type": "bar",
         "x": [
          "Commercial Services",
          "Distribution Services",
          "Roads Infrastructure Management"
         ],
         "xaxis": "x",
         "y": [
          5,
          270,
          1
         ],
         "yaxis": "y"
        },
        {
         "alignmentgroup": "True",
         "hovertemplate": "cause_code=No Cause Observed<br>department=%{x}<br>cnt=%{y}<extra></extra>",
         "legendgroup": "No Cause Observed",
         "marker": {
          "color": "#B6E880",
          "pattern": {
           "shape": ""
          }
         },
         "name": "No Cause Observed",
         "offsetgroup": "No Cause Observed",
         "orientation": "v",
         "showlegend": true,
         "textposition": "auto",
         "type": "bar",
         "x": [
          "Commercial Services",
          "Distribution Services",
          "Home Ownership Transfer, Tenancy Management and Staff Housing",
          "Roads Infrastructure Management"
         ],
         "xaxis": "x",
         "y": [
          3,
          46,
          1,
          2
         ],
         "yaxis": "y"
        },
        {
         "alignmentgroup": "True",
         "hovertemplate": "cause_code=Normal Wear and Tear<br>department=%{x}<br>cnt=%{y}<extra></extra>",
         "legendgroup": "Normal Wear and Tear",
         "marker": {
          "color": "#FF97FF",
          "pattern": {
           "shape": ""
          }
         },
         "name": "Normal Wear and Tear",
         "offsetgroup": "Normal Wear and Tear",
         "orientation": "v",
         "showlegend": true,
         "textposition": "auto",
         "type": "bar",
         "x": [
          "Commercial Services",
          "Distribution Services"
         ],
         "xaxis": "x",
         "y": [
          1,
          50
         ],
         "yaxis": "y"
        },
        {
         "alignmentgroup": "True",
         "hovertemplate": "cause_code=Stress<br>department=%{x}<br>cnt=%{y}<extra></extra>",
         "legendgroup": "Stress",
         "marker": {
          "color": "#FECB52",
          "pattern": {
           "shape": ""
          }
         },
         "name": "Stress",
         "offsetgroup": "Stress",
         "orientation": "v",
         "showlegend": true,
         "textposition": "auto",
         "type": "bar",
         "x": [
          "Commercial Services",
          "Distribution Services"
         ],
         "xaxis": "x",
         "y": [
          1,
          4
         ],
         "yaxis": "y"
        },
        {
         "alignmentgroup": "True",
         "hovertemplate": "cause_code=Theft<br>department=%{x}<br>cnt=%{y}<extra></extra>",
         "legendgroup": "Theft",
         "marker": {
          "color": "#636efa",
          "pattern": {
           "shape": ""
          }
         },
         "name": "Theft",
         "offsetgroup": "Theft",
         "orientation": "v",
         "showlegend": true,
         "textposition": "auto",
         "type": "bar",
         "x": [
          "Commercial Services",
          "Distribution Services",
          "Electricity Generation and Distribution"
         ],
         "xaxis": "x",
         "y": [
          1,
          17,
          7
         ],
         "yaxis": "y"
        },
        {
         "alignmentgroup": "True",
         "hovertemplate": "cause_code=Vandalism<br>department=%{x}<br>cnt=%{y}<extra></extra>",
         "legendgroup": "Vandalism",
         "marker": {
          "color": "#EF553B",
          "pattern": {
           "shape": ""
          }
         },
         "name": "Vandalism",
         "offsetgroup": "Vandalism",
         "orientation": "v",
         "showlegend": true,
         "textposition": "auto",
         "type": "bar",
         "x": [
          "Commercial Services",
          "Distribution Services",
          "Electricity Generation and Distribution",
          "Roads Infrastructure Management"
         ],
         "xaxis": "x",
         "y": [
          1,
          2,
          3,
          18
         ],
         "yaxis": "y"
        },
        {
         "alignmentgroup": "True",
         "hovertemplate": "cause_code=Acid / Alkali Reaction<br>department=%{x}<br>cnt=%{y}<extra></extra>",
         "legendgroup": "Acid / Alkali Reaction",
         "marker": {
          "color": "#00cc96",
          "pattern": {
           "shape": ""
          }
         },
         "name": "Acid / Alkali Reaction",
         "offsetgroup": "Acid / Alkali Reaction",
         "orientation": "v",
         "showlegend": true,
         "textposition": "auto",
         "type": "bar",
         "x": [
          "Distribution Services"
         ],
         "xaxis": "x",
         "y": [
          1
         ],
         "yaxis": "y"
        },
        {
         "alignmentgroup": "True",
         "hovertemplate": "cause_code=Bearing Failure<br>department=%{x}<br>cnt=%{y}<extra></extra>",
         "legendgroup": "Bearing Failure",
         "marker": {
          "color": "#ab63fa",
          "pattern": {
           "shape": ""
          }
         },
         "name": "Bearing Failure",
         "offsetgroup": "Bearing Failure",
         "orientation": "v",
         "showlegend": true,
         "textposition": "auto",
         "type": "bar",
         "x": [
          "Distribution Services"
         ],
         "xaxis": "x",
         "y": [
          1
         ],
         "yaxis": "y"
        },
        {
         "alignmentgroup": "True",
         "hovertemplate": "cause_code=Cement Layers<br>department=%{x}<br>cnt=%{y}<extra></extra>",
         "legendgroup": "Cement Layers",
         "marker": {
          "color": "#FFA15A",
          "pattern": {
           "shape": ""
          }
         },
         "name": "Cement Layers",
         "offsetgroup": "Cement Layers",
         "orientation": "v",
         "showlegend": true,
         "textposition": "auto",
         "type": "bar",
         "x": [
          "Distribution Services"
         ],
         "xaxis": "x",
         "y": [
          1
         ],
         "yaxis": "y"
        },
        {
         "alignmentgroup": "True",
         "hovertemplate": "cause_code=Collapse<br>department=%{x}<br>cnt=%{y}<extra></extra>",
         "legendgroup": "Collapse",
         "marker": {
          "color": "#19d3f3",
          "pattern": {
           "shape": ""
          }
         },
         "name": "Collapse",
         "offsetgroup": "Collapse",
         "orientation": "v",
         "showlegend": true,
         "textposition": "auto",
         "type": "bar",
         "x": [
          "Distribution Services"
         ],
         "xaxis": "x",
         "y": [
          18
         ],
         "yaxis": "y"
        },
        {
         "alignmentgroup": "True",
         "hovertemplate": "cause_code=Concrete Failure<br>department=%{x}<br>cnt=%{y}<extra></extra>",
         "legendgroup": "Concrete Failure",
         "marker": {
          "color": "#FF6692",
          "pattern": {
           "shape": ""
          }
         },
         "name": "Concrete Failure",
         "offsetgroup": "Concrete Failure",
         "orientation": "v",
         "showlegend": true,
         "textposition": "auto",
         "type": "bar",
         "x": [
          "Distribution Services"
         ],
         "xaxis": "x",
         "y": [
          1
         ],
         "yaxis": "y"
        },
        {
         "alignmentgroup": "True",
         "hovertemplate": "cause_code=Corrosion<br>department=%{x}<br>cnt=%{y}<extra></extra>",
         "legendgroup": "Corrosion",
         "marker": {
          "color": "#B6E880",
          "pattern": {
           "shape": ""
          }
         },
         "name": "Corrosion",
         "offsetgroup": "Corrosion",
         "orientation": "v",
         "showlegend": true,
         "textposition": "auto",
         "type": "bar",
         "x": [
          "Distribution Services",
          "Electricity Generation and Distribution"
         ],
         "xaxis": "x",
         "y": [
          17,
          7
         ],
         "yaxis": "y"
        },
        {
         "alignmentgroup": "True",
         "hovertemplate": "cause_code=Design Deficiencies<br>department=%{x}<br>cnt=%{y}<extra></extra>",
         "legendgroup": "Design Deficiencies",
         "marker": {
          "color": "#FF97FF",
          "pattern": {
           "shape": ""
          }
         },
         "name": "Design Deficiencies",
         "offsetgroup": "Design Deficiencies",
         "orientation": "v",
         "showlegend": true,
         "textposition": "auto",
         "type": "bar",
         "x": [
          "Distribution Services"
         ],
         "xaxis": "x",
         "y": [
          34
         ],
         "yaxis": "y"
        },
        {
         "alignmentgroup": "True",
         "hovertemplate": "cause_code=Excavation<br>department=%{x}<br>cnt=%{y}<extra></extra>",
         "legendgroup": "Excavation",
         "marker": {
          "color": "#FECB52",
          "pattern": {
           "shape": ""
          }
         },
         "name": "Excavation",
         "offsetgroup": "Excavation",
         "orientation": "v",
         "showlegend": true,
         "textposition": "auto",
         "type": "bar",
         "x": [
          "Distribution Services",
          "Electricity Generation and Distribution"
         ],
         "xaxis": "x",
         "y": [
          48,
          12
         ],
         "yaxis": "y"
        },
        {
         "alignmentgroup": "True",
         "hovertemplate": "cause_code=Fats<br>department=%{x}<br>cnt=%{y}<extra></extra>",
         "legendgroup": "Fats",
         "marker": {
          "color": "#636efa",
          "pattern": {
           "shape": ""
          }
         },
         "name": "Fats",
         "offsetgroup": "Fats",
         "orientation": "v",
         "showlegend": true,
         "textposition": "auto",
         "type": "bar",
         "x": [
          "Distribution Services"
         ],
         "xaxis": "x",
         "y": [
          235
         ],
         "yaxis": "y"
        },
        {
         "alignmentgroup": "True",
         "hovertemplate": "cause_code=Ferrule Failure<br>department=%{x}<br>cnt=%{y}<extra></extra>",
         "legendgroup": "Ferrule Failure",
         "marker": {
          "color": "#EF553B",
          "pattern": {
           "shape": ""
          }
         },
         "name": "Ferrule Failure",
         "offsetgroup": "Ferrule Failure",
         "orientation": "v",
         "showlegend": true,
         "textposition": "auto",
         "type": "bar",
         "x": [
          "Distribution Services"
         ],
         "xaxis": "x",
         "y": [
          3
         ],
         "yaxis": "y"
        },
        {
         "alignmentgroup": "True",
         "hovertemplate": "cause_code=Foreign Objects<br>department=%{x}<br>cnt=%{y}<extra></extra>",
         "legendgroup": "Foreign Objects",
         "marker": {
          "color": "#00cc96",
          "pattern": {
           "shape": ""
          }
         },
         "name": "Foreign Objects",
         "offsetgroup": "Foreign Objects",
         "orientation": "v",
         "showlegend": true,
         "textposition": "auto",
         "type": "bar",
         "x": [
          "Distribution Services"
         ],
         "xaxis": "x",
         "y": [
          665
         ],
         "yaxis": "y"
        },
        {
         "alignmentgroup": "True",
         "hovertemplate": "cause_code=Gasket Failure<br>department=%{x}<br>cnt=%{y}<extra></extra>",
         "legendgroup": "Gasket Failure",
         "marker": {
          "color": "#ab63fa",
          "pattern": {
           "shape": ""
          }
         },
         "name": "Gasket Failure",
         "offsetgroup": "Gasket Failure",
         "orientation": "v",
         "showlegend": true,
         "textposition": "auto",
         "type": "bar",
         "x": [
          "Distribution Services"
         ],
         "xaxis": "x",
         "y": [
          8
         ],
         "yaxis": "y"
        },
        {
         "alignmentgroup": "True",
         "hovertemplate": "cause_code=Heat<br>department=%{x}<br>cnt=%{y}<extra></extra>",
         "legendgroup": "Heat",
         "marker": {
          "color": "#FFA15A",
          "pattern": {
           "shape": ""
          }
         },
         "name": "Heat",
         "offsetgroup": "Heat",
         "orientation": "v",
         "showlegend": true,
         "textposition": "auto",
         "type": "bar",
         "x": [
          "Distribution Services"
         ],
         "xaxis": "x",
         "y": [
          4
         ],
         "yaxis": "y"
        },
        {
         "alignmentgroup": "True",
         "hovertemplate": "cause_code=Impact / Shock<br>department=%{x}<br>cnt=%{y}<extra></extra>",
         "legendgroup": "Impact / Shock",
         "marker": {
          "color": "#19d3f3",
          "pattern": {
           "shape": ""
          }
         },
         "name": "Impact / Shock",
         "offsetgroup": "Impact / Shock",
         "orientation": "v",
         "showlegend": true,
         "textposition": "auto",
         "type": "bar",
         "x": [
          "Distribution Services"
         ],
         "xaxis": "x",
         "y": [
          6
         ],
         "yaxis": "y"
        },
        {
         "alignmentgroup": "True",
         "hovertemplate": "cause_code=Insect Infestation<br>department=%{x}<br>cnt=%{y}<extra></extra>",
         "legendgroup": "Insect Infestation",
         "marker": {
          "color": "#FF6692",
          "pattern": {
           "shape": ""
          }
         },
         "name": "Insect Infestation",
         "offsetgroup": "Insect Infestation",
         "orientation": "v",
         "showlegend": true,
         "textposition": "auto",
         "type": "bar",
         "x": [
          "Distribution Services"
         ],
         "xaxis": "x",
         "y": [
          19
         ],
         "yaxis": "y"
        },
        {
         "alignmentgroup": "True",
         "hovertemplate": "cause_code=Insulation Failure<br>department=%{x}<br>cnt=%{y}<extra></extra>",
         "legendgroup": "Insulation Failure",
         "marker": {
          "color": "#B6E880",
          "pattern": {
           "shape": ""
          }
         },
         "name": "Insulation Failure",
         "offsetgroup": "Insulation Failure",
         "orientation": "v",
         "showlegend": true,
         "textposition": "auto",
         "type": "bar",
         "x": [
          "Distribution Services"
         ],
         "xaxis": "x",
         "y": [
          2
         ],
         "yaxis": "y"
        },
        {
         "alignmentgroup": "True",
         "hovertemplate": "cause_code=Lack of Maintenance<br>department=%{x}<br>cnt=%{y}<extra></extra>",
         "legendgroup": "Lack of Maintenance",
         "marker": {
          "color": "#FF97FF",
          "pattern": {
           "shape": ""
          }
         },
         "name": "Lack of Maintenance",
         "offsetgroup": "Lack of Maintenance",
         "orientation": "v",
         "showlegend": true,
         "textposition": "auto",
         "type": "bar",
         "x": [
          "Distribution Services"
         ],
         "xaxis": "x",
         "y": [
          5
         ],
         "yaxis": "y"
        },
        {
         "alignmentgroup": "True",
         "hovertemplate": "cause_code=Long Term Weathering<br>department=%{x}<br>cnt=%{y}<extra></extra>",
         "legendgroup": "Long Term Weathering",
         "marker": {
          "color": "#FECB52",
          "pattern": {
           "shape": ""
          }
         },
         "name": "Long Term Weathering",
         "offsetgroup": "Long Term Weathering",
         "orientation": "v",
         "showlegend": true,
         "textposition": "auto",
         "type": "bar",
         "x": [
          "Distribution Services"
         ],
         "xaxis": "x",
         "y": [
          2
         ],
         "yaxis": "y"
        },
        {
         "alignmentgroup": "True",
         "hovertemplate": "cause_code=Loose Connection<br>department=%{x}<br>cnt=%{y}<extra></extra>",
         "legendgroup": "Loose Connection",
         "marker": {
          "color": "#636efa",
          "pattern": {
           "shape": ""
          }
         },
         "name": "Loose Connection",
         "offsetgroup": "Loose Connection",
         "orientation": "v",
         "showlegend": true,
         "textposition": "auto",
         "type": "bar",
         "x": [
          "Distribution Services",
          "Electricity Generation and Distribution"
         ],
         "xaxis": "x",
         "y": [
          39,
          36
         ],
         "yaxis": "y"
        },
        {
         "alignmentgroup": "True",
         "hovertemplate": "cause_code=Malicious Damage<br>department=%{x}<br>cnt=%{y}<extra></extra>",
         "legendgroup": "Malicious Damage",
         "marker": {
          "color": "#EF553B",
          "pattern": {
           "shape": ""
          }
         },
         "name": "Malicious Damage",
         "offsetgroup": "Malicious Damage",
         "orientation": "v",
         "showlegend": true,
         "textposition": "auto",
         "type": "bar",
         "x": [
          "Distribution Services"
         ],
         "xaxis": "x",
         "y": [
          1
         ],
         "yaxis": "y"
        },
        {
         "alignmentgroup": "True",
         "hovertemplate": "cause_code=Metal Fatigue<br>department=%{x}<br>cnt=%{y}<extra></extra>",
         "legendgroup": "Metal Fatigue",
         "marker": {
          "color": "#00cc96",
          "pattern": {
           "shape": ""
          }
         },
         "name": "Metal Fatigue",
         "offsetgroup": "Metal Fatigue",
         "orientation": "v",
         "showlegend": true,
         "textposition": "auto",
         "type": "bar",
         "x": [
          "Distribution Services"
         ],
         "xaxis": "x",
         "y": [
          5
         ],
         "yaxis": "y"
        },
        {
         "alignmentgroup": "True",
         "hovertemplate": "cause_code=Negligence<br>department=%{x}<br>cnt=%{y}<extra></extra>",
         "legendgroup": "Negligence",
         "marker": {
          "color": "#ab63fa",
          "pattern": {
           "shape": ""
          }
         },
         "name": "Negligence",
         "offsetgroup": "Negligence",
         "orientation": "v",
         "showlegend": true,
         "textposition": "auto",
         "type": "bar",
         "x": [
          "Distribution Services"
         ],
         "xaxis": "x",
         "y": [
          2
         ],
         "yaxis": "y"
        },
        {
         "alignmentgroup": "True",
         "hovertemplate": "cause_code=Over-tightening<br>department=%{x}<br>cnt=%{y}<extra></extra>",
         "legendgroup": "Over-tightening",
         "marker": {
          "color": "#FFA15A",
          "pattern": {
           "shape": ""
          }
         },
         "name": "Over-tightening",
         "offsetgroup": "Over-tightening",
         "orientation": "v",
         "showlegend": true,
         "textposition": "auto",
         "type": "bar",
         "x": [
          "Distribution Services"
         ],
         "xaxis": "x",
         "y": [
          1
         ],
         "yaxis": "y"
        },
        {
         "alignmentgroup": "True",
         "hovertemplate": "cause_code=Oxidation<br>department=%{x}<br>cnt=%{y}<extra></extra>",
         "legendgroup": "Oxidation",
         "marker": {
          "color": "#19d3f3",
          "pattern": {
           "shape": ""
          }
         },
         "name": "Oxidation",
         "offsetgroup": "Oxidation",
         "orientation": "v",
         "showlegend": true,
         "textposition": "auto",
         "type": "bar",
         "x": [
          "Distribution Services"
         ],
         "xaxis": "x",
         "y": [
          2
         ],
         "yaxis": "y"
        },
        {
         "alignmentgroup": "True",
         "hovertemplate": "cause_code=Poor Protection<br>department=%{x}<br>cnt=%{y}<extra></extra>",
         "legendgroup": "Poor Protection",
         "marker": {
          "color": "#FF6692",
          "pattern": {
           "shape": ""
          }
         },
         "name": "Poor Protection",
         "offsetgroup": "Poor Protection",
         "orientation": "v",
         "showlegend": true,
         "textposition": "auto",
         "type": "bar",
         "x": [
          "Distribution Services"
         ],
         "xaxis": "x",
         "y": [
          3
         ],
         "yaxis": "y"
        },
        {
         "alignmentgroup": "True",
         "hovertemplate": "cause_code=Poor Workmanship<br>department=%{x}<br>cnt=%{y}<extra></extra>",
         "legendgroup": "Poor Workmanship",
         "marker": {
          "color": "#B6E880",
          "pattern": {
           "shape": ""
          }
         },
         "name": "Poor Workmanship",
         "offsetgroup": "Poor Workmanship",
         "orientation": "v",
         "showlegend": true,
         "textposition": "auto",
         "type": "bar",
         "x": [
          "Distribution Services"
         ],
         "xaxis": "x",
         "y": [
          5
         ],
         "yaxis": "y"
        },
        {
         "alignmentgroup": "True",
         "hovertemplate": "cause_code=Pump Failure<br>department=%{x}<br>cnt=%{y}<extra></extra>",
         "legendgroup": "Pump Failure",
         "marker": {
          "color": "#FF97FF",
          "pattern": {
           "shape": ""
          }
         },
         "name": "Pump Failure",
         "offsetgroup": "Pump Failure",
         "orientation": "v",
         "showlegend": true,
         "textposition": "auto",
         "type": "bar",
         "x": [
          "Distribution Services"
         ],
         "xaxis": "x",
         "y": [
          7
         ],
         "yaxis": "y"
        },
        {
         "alignmentgroup": "True",
         "hovertemplate": "cause_code=Rags<br>department=%{x}<br>cnt=%{y}<extra></extra>",
         "legendgroup": "Rags",
         "marker": {
          "color": "#FECB52",
          "pattern": {
           "shape": ""
          }
         },
         "name": "Rags",
         "offsetgroup": "Rags",
         "orientation": "v",
         "showlegend": true,
         "textposition": "auto",
         "type": "bar",
         "x": [
          "Distribution Services"
         ],
         "xaxis": "x",
         "y": [
          299
         ],
         "yaxis": "y"
        },
        {
         "alignmentgroup": "True",
         "hovertemplate": "cause_code=Rain<br>department=%{x}<br>cnt=%{y}<extra></extra>",
         "legendgroup": "Rain",
         "marker": {
          "color": "#636efa",
          "pattern": {
           "shape": ""
          }
         },
         "name": "Rain",
         "offsetgroup": "Rain",
         "orientation": "v",
         "showlegend": true,
         "textposition": "auto",
         "type": "bar",
         "x": [
          "Distribution Services"
         ],
         "xaxis": "x",
         "y": [
          1
         ],
         "yaxis": "y"
        },
        {
         "alignmentgroup": "True",
         "hovertemplate": "cause_code=Roots<br>department=%{x}<br>cnt=%{y}<extra></extra>",
         "legendgroup": "Roots",
         "marker": {
          "color": "#EF553B",
          "pattern": {
           "shape": ""
          }
         },
         "name": "Roots",
         "offsetgroup": "Roots",
         "orientation": "v",
         "showlegend": true,
         "textposition": "auto",
         "type": "bar",
         "x": [
          "Distribution Services",
          "Roads Infrastructure Management"
         ],
         "xaxis": "x",
         "y": [
          220,
          4
         ],
         "yaxis": "y"
        },
        {
         "alignmentgroup": "True",
         "hovertemplate": "cause_code=Saddle Failure<br>department=%{x}<br>cnt=%{y}<extra></extra>",
         "legendgroup": "Saddle Failure",
         "marker": {
          "color": "#00cc96",
          "pattern": {
           "shape": ""
          }
         },
         "name": "Saddle Failure",
         "offsetgroup": "Saddle Failure",
         "orientation": "v",
         "showlegend": true,
         "textposition": "auto",
         "type": "bar",
         "x": [
          "Distribution Services"
         ],
         "xaxis": "x",
         "y": [
          3
         ],
         "yaxis": "y"
        },
        {
         "alignmentgroup": "True",
         "hovertemplate": "cause_code=Sand<br>department=%{x}<br>cnt=%{y}<extra></extra>",
         "legendgroup": "Sand",
         "marker": {
          "color": "#ab63fa",
          "pattern": {
           "shape": ""
          }
         },
         "name": "Sand",
         "offsetgroup": "Sand",
         "orientation": "v",
         "showlegend": true,
         "textposition": "auto",
         "type": "bar",
         "x": [
          "Distribution Services"
         ],
         "xaxis": "x",
         "y": [
          158
         ],
         "yaxis": "y"
        },
        {
         "alignmentgroup": "True",
         "hovertemplate": "cause_code=Seal Failure<br>department=%{x}<br>cnt=%{y}<extra></extra>",
         "legendgroup": "Seal Failure",
         "marker": {
          "color": "#FFA15A",
          "pattern": {
           "shape": ""
          }
         },
         "name": "Seal Failure",
         "offsetgroup": "Seal Failure",
         "orientation": "v",
         "showlegend": true,
         "textposition": "auto",
         "type": "bar",
         "x": [
          "Distribution Services"
         ],
         "xaxis": "x",
         "y": [
          25
         ],
         "yaxis": "y"
        },
        {
         "alignmentgroup": "True",
         "hovertemplate": "cause_code=Sewage Ingress<br>department=%{x}<br>cnt=%{y}<extra></extra>",
         "legendgroup": "Sewage Ingress",
         "marker": {
          "color": "#19d3f3",
          "pattern": {
           "shape": ""
          }
         },
         "name": "Sewage Ingress",
         "offsetgroup": "Sewage Ingress",
         "orientation": "v",
         "showlegend": true,
         "textposition": "auto",
         "type": "bar",
         "x": [
          "Distribution Services"
         ],
         "xaxis": "x",
         "y": [
          3
         ],
         "yaxis": "y"
        },
        {
         "alignmentgroup": "True",
         "hovertemplate": "cause_code=Storm Water Ingress<br>department=%{x}<br>cnt=%{y}<extra></extra>",
         "legendgroup": "Storm Water Ingress",
         "marker": {
          "color": "#FF6692",
          "pattern": {
           "shape": ""
          }
         },
         "name": "Storm Water Ingress",
         "offsetgroup": "Storm Water Ingress",
         "orientation": "v",
         "showlegend": true,
         "textposition": "auto",
         "type": "bar",
         "x": [
          "Distribution Services"
         ],
         "xaxis": "x",
         "y": [
          6
         ],
         "yaxis": "y"
        },
        {
         "alignmentgroup": "True",
         "hovertemplate": "cause_code=Subsidence<br>department=%{x}<br>cnt=%{y}<extra></extra>",
         "legendgroup": "Subsidence",
         "marker": {
          "color": "#B6E880",
          "pattern": {
           "shape": ""
          }
         },
         "name": "Subsidence",
         "offsetgroup": "Subsidence",
         "orientation": "v",
         "showlegend": true,
         "textposition": "auto",
         "type": "bar",
         "x": [
          "Distribution Services"
         ],
         "xaxis": "x",
         "y": [
          22
         ],
         "yaxis": "y"
        },
        {
         "alignmentgroup": "True",
         "hovertemplate": "cause_code=Tampering<br>department=%{x}<br>cnt=%{y}<extra></extra>",
         "legendgroup": "Tampering",
         "marker": {
          "color": "#FF97FF",
          "pattern": {
           "shape": ""
          }
         },
         "name": "Tampering",
         "offsetgroup": "Tampering",
         "orientation": "v",
         "showlegend": true,
         "textposition": "auto",
         "type": "bar",
         "x": [
          "Distribution Services",
          "Electricity Generation and Distribution"
         ],
         "xaxis": "x",
         "y": [
          2,
          22
         ],
         "yaxis": "y"
        },
        {
         "alignmentgroup": "True",
         "hovertemplate": "cause_code=Thread Failure<br>department=%{x}<br>cnt=%{y}<extra></extra>",
         "legendgroup": "Thread Failure",
         "marker": {
          "color": "#FECB52",
          "pattern": {
           "shape": ""
          }
         },
         "name": "Thread Failure",
         "offsetgroup": "Thread Failure",
         "orientation": "v",
         "showlegend": true,
         "textposition": "auto",
         "type": "bar",
         "x": [
          "Distribution Services"
         ],
         "xaxis": "x",
         "y": [
          3
         ],
         "yaxis": "y"
        },
        {
         "alignmentgroup": "True",
         "hovertemplate": "cause_code=Vehicle Impact<br>department=%{x}<br>cnt=%{y}<extra></extra>",
         "legendgroup": "Vehicle Impact",
         "marker": {
          "color": "#636efa",
          "pattern": {
           "shape": ""
          }
         },
         "name": "Vehicle Impact",
         "offsetgroup": "Vehicle Impact",
         "orientation": "v",
         "showlegend": true,
         "textposition": "auto",
         "type": "bar",
         "x": [
          "Distribution Services"
         ],
         "xaxis": "x",
         "y": [
          4
         ],
         "yaxis": "y"
        },
        {
         "alignmentgroup": "True",
         "hovertemplate": "cause_code=2nd/3rd Tamper<br>department=%{x}<br>cnt=%{y}<extra></extra>",
         "legendgroup": "2nd/3rd Tamper",
         "marker": {
          "color": "#EF553B",
          "pattern": {
           "shape": ""
          }
         },
         "name": "2nd/3rd Tamper",
         "offsetgroup": "2nd/3rd Tamper",
         "orientation": "v",
         "showlegend": true,
         "textposition": "auto",
         "type": "bar",
         "x": [
          "Electricity Generation and Distribution"
         ],
         "xaxis": "x",
         "y": [
          1
         ],
         "yaxis": "y"
        },
        {
         "alignmentgroup": "True",
         "hovertemplate": "cause_code=By-passed<br>department=%{x}<br>cnt=%{y}<extra></extra>",
         "legendgroup": "By-passed",
         "marker": {
          "color": "#00cc96",
          "pattern": {
           "shape": ""
          }
         },
         "name": "By-passed",
         "offsetgroup": "By-passed",
         "orientation": "v",
         "showlegend": true,
         "textposition": "auto",
         "type": "bar",
         "x": [
          "Electricity Generation and Distribution"
         ],
         "xaxis": "x",
         "y": [
          3
         ],
         "yaxis": "y"
        },
        {
         "alignmentgroup": "True",
         "hovertemplate": "cause_code=Consumer Fault<br>department=%{x}<br>cnt=%{y}<extra></extra>",
         "legendgroup": "Consumer Fault",
         "marker": {
          "color": "#ab63fa",
          "pattern": {
           "shape": ""
          }
         },
         "name": "Consumer Fault",
         "offsetgroup": "Consumer Fault",
         "orientation": "v",
         "showlegend": true,
         "textposition": "auto",
         "type": "bar",
         "x": [
          "Electricity Generation and Distribution"
         ],
         "xaxis": "x",
         "y": [
          156
         ],
         "yaxis": "y"
        },
        {
         "alignmentgroup": "True",
         "hovertemplate": "cause_code=E/Leakage<br>department=%{x}<br>cnt=%{y}<extra></extra>",
         "legendgroup": "E/Leakage",
         "marker": {
          "color": "#FFA15A",
          "pattern": {
           "shape": ""
          }
         },
         "name": "E/Leakage",
         "offsetgroup": "E/Leakage",
         "orientation": "v",
         "showlegend": true,
         "textposition": "auto",
         "type": "bar",
         "x": [
          "Electricity Generation and Distribution"
         ],
         "xaxis": "x",
         "y": [
          4
         ],
         "yaxis": "y"
        },
        {
         "alignmentgroup": "True",
         "hovertemplate": "cause_code=Fatigue/Ageing<br>department=%{x}<br>cnt=%{y}<extra></extra>",
         "legendgroup": "Fatigue/Ageing",
         "marker": {
          "color": "#19d3f3",
          "pattern": {
           "shape": ""
          }
         },
         "name": "Fatigue/Ageing",
         "offsetgroup": "Fatigue/Ageing",
         "orientation": "v",
         "showlegend": true,
         "textposition": "auto",
         "type": "bar",
         "x": [
          "Electricity Generation and Distribution"
         ],
         "xaxis": "x",
         "y": [
          103
         ],
         "yaxis": "y"
        },
        {
         "alignmentgroup": "True",
         "hovertemplate": "cause_code=Faulty<br>department=%{x}<br>cnt=%{y}<extra></extra>",
         "legendgroup": "Faulty",
         "marker": {
          "color": "#FF6692",
          "pattern": {
           "shape": ""
          }
         },
         "name": "Faulty",
         "offsetgroup": "Faulty",
         "orientation": "v",
         "showlegend": true,
         "textposition": "auto",
         "type": "bar",
         "x": [
          "Electricity Generation and Distribution"
         ],
         "xaxis": "x",
         "y": [
          117
         ],
         "yaxis": "y"
        },
        {
         "alignmentgroup": "True",
         "hovertemplate": "cause_code=Fire<br>department=%{x}<br>cnt=%{y}<extra></extra>",
         "legendgroup": "Fire",
         "marker": {
          "color": "#B6E880",
          "pattern": {
           "shape": ""
          }
         },
         "name": "Fire",
         "offsetgroup": "Fire",
         "orientation": "v",
         "showlegend": true,
         "textposition": "auto",
         "type": "bar",
         "x": [
          "Electricity Generation and Distribution"
         ],
         "xaxis": "x",
         "y": [
          2
         ],
         "yaxis": "y"
        },
        {
         "alignmentgroup": "True",
         "hovertemplate": "cause_code=Flora/Trees<br>department=%{x}<br>cnt=%{y}<extra></extra>",
         "legendgroup": "Flora/Trees",
         "marker": {
          "color": "#FF97FF",
          "pattern": {
           "shape": ""
          }
         },
         "name": "Flora/Trees",
         "offsetgroup": "Flora/Trees",
         "orientation": "v",
         "showlegend": true,
         "textposition": "auto",
         "type": "bar",
         "x": [
          "Electricity Generation and Distribution"
         ],
         "xaxis": "x",
         "y": [
          19
         ],
         "yaxis": "y"
        },
        {
         "alignmentgroup": "True",
         "hovertemplate": "cause_code=Maintenance<br>department=%{x}<br>cnt=%{y}<extra></extra>",
         "legendgroup": "Maintenance",
         "marker": {
          "color": "#FECB52",
          "pattern": {
           "shape": ""
          }
         },
         "name": "Maintenance",
         "offsetgroup": "Maintenance",
         "orientation": "v",
         "showlegend": true,
         "textposition": "auto",
         "type": "bar",
         "x": [
          "Electricity Generation and Distribution"
         ],
         "xaxis": "x",
         "y": [
          11
         ],
         "yaxis": "y"
        },
        {
         "alignmentgroup": "True",
         "hovertemplate": "cause_code=Moisture<br>department=%{x}<br>cnt=%{y}<extra></extra>",
         "legendgroup": "Moisture",
         "marker": {
          "color": "#636efa",
          "pattern": {
           "shape": ""
          }
         },
         "name": "Moisture",
         "offsetgroup": "Moisture",
         "orientation": "v",
         "showlegend": true,
         "textposition": "auto",
         "type": "bar",
         "x": [
          "Electricity Generation and Distribution"
         ],
         "xaxis": "x",
         "y": [
          6
         ],
         "yaxis": "y"
        },
        {
         "alignmentgroup": "True",
         "hovertemplate": "cause_code=Negligent<br>department=%{x}<br>cnt=%{y}<extra></extra>",
         "legendgroup": "Negligent",
         "marker": {
          "color": "#EF553B",
          "pattern": {
           "shape": ""
          }
         },
         "name": "Negligent",
         "offsetgroup": "Negligent",
         "orientation": "v",
         "showlegend": true,
         "textposition": "auto",
         "type": "bar",
         "x": [
          "Electricity Generation and Distribution"
         ],
         "xaxis": "x",
         "y": [
          2
         ],
         "yaxis": "y"
        },
        {
         "alignmentgroup": "True",
         "hovertemplate": "cause_code=No Maintenance<br>department=%{x}<br>cnt=%{y}<extra></extra>",
         "legendgroup": "No Maintenance",
         "marker": {
          "color": "#00cc96",
          "pattern": {
           "shape": ""
          }
         },
         "name": "No Maintenance",
         "offsetgroup": "No Maintenance",
         "orientation": "v",
         "showlegend": true,
         "textposition": "auto",
         "type": "bar",
         "x": [
          "Electricity Generation and Distribution"
         ],
         "xaxis": "x",
         "y": [
          1
         ],
         "yaxis": "y"
        },
        {
         "alignmentgroup": "True",
         "hovertemplate": "cause_code=No Payment<br>department=%{x}<br>cnt=%{y}<extra></extra>",
         "legendgroup": "No Payment",
         "marker": {
          "color": "#ab63fa",
          "pattern": {
           "shape": ""
          }
         },
         "name": "No Payment",
         "offsetgroup": "No Payment",
         "orientation": "v",
         "showlegend": true,
         "textposition": "auto",
         "type": "bar",
         "x": [
          "Electricity Generation and Distribution"
         ],
         "xaxis": "x",
         "y": [
          1
         ],
         "yaxis": "y"
        },
        {
         "alignmentgroup": "True",
         "hovertemplate": "cause_code=No Sequence<br>department=%{x}<br>cnt=%{y}<extra></extra>",
         "legendgroup": "No Sequence",
         "marker": {
          "color": "#FFA15A",
          "pattern": {
           "shape": ""
          }
         },
         "name": "No Sequence",
         "offsetgroup": "No Sequence",
         "orientation": "v",
         "showlegend": true,
         "textposition": "auto",
         "type": "bar",
         "x": [
          "Electricity Generation and Distribution"
         ],
         "xaxis": "x",
         "y": [
          1
         ],
         "yaxis": "y"
        },
        {
         "alignmentgroup": "True",
         "hovertemplate": "cause_code=No Tampering Found<br>department=%{x}<br>cnt=%{y}<extra></extra>",
         "legendgroup": "No Tampering Found",
         "marker": {
          "color": "#19d3f3",
          "pattern": {
           "shape": ""
          }
         },
         "name": "No Tampering Found",
         "offsetgroup": "No Tampering Found",
         "orientation": "v",
         "showlegend": true,
         "textposition": "auto",
         "type": "bar",
         "x": [
          "Electricity Generation and Distribution"
         ],
         "xaxis": "x",
         "y": [
          32
         ],
         "yaxis": "y"
        },
        {
         "alignmentgroup": "True",
         "hovertemplate": "cause_code=No Units<br>department=%{x}<br>cnt=%{y}<extra></extra>",
         "legendgroup": "No Units",
         "marker": {
          "color": "#FF6692",
          "pattern": {
           "shape": ""
          }
         },
         "name": "No Units",
         "offsetgroup": "No Units",
         "orientation": "v",
         "showlegend": true,
         "textposition": "auto",
         "type": "bar",
         "x": [
          "Electricity Generation and Distribution"
         ],
         "xaxis": "x",
         "y": [
          13
         ],
         "yaxis": "y"
        },
        {
         "alignmentgroup": "True",
         "hovertemplate": "cause_code=None<br>department=%{x}<br>cnt=%{y}<extra></extra>",
         "legendgroup": "None",
         "marker": {
          "color": "#B6E880",
          "pattern": {
           "shape": ""
          }
         },
         "name": "None",
         "offsetgroup": "None",
         "orientation": "v",
         "showlegend": true,
         "textposition": "auto",
         "type": "bar",
         "x": [
          "Electricity Generation and Distribution"
         ],
         "xaxis": "x",
         "y": [
          30
         ],
         "yaxis": "y"
        },
        {
         "alignmentgroup": "True",
         "hovertemplate": "cause_code=None/Private<br>department=%{x}<br>cnt=%{y}<extra></extra>",
         "legendgroup": "None/Private",
         "marker": {
          "color": "#FF97FF",
          "pattern": {
           "shape": ""
          }
         },
         "name": "None/Private",
         "offsetgroup": "None/Private",
         "orientation": "v",
         "showlegend": true,
         "textposition": "auto",
         "type": "bar",
         "x": [
          "Electricity Generation and Distribution"
         ],
         "xaxis": "x",
         "y": [
          511
         ],
         "yaxis": "y"
        },
        {
         "alignmentgroup": "True",
         "hovertemplate": "cause_code=Overload<br>department=%{x}<br>cnt=%{y}<extra></extra>",
         "legendgroup": "Overload",
         "marker": {
          "color": "#FECB52",
          "pattern": {
           "shape": ""
          }
         },
         "name": "Overload",
         "offsetgroup": "Overload",
         "orientation": "v",
         "showlegend": true,
         "textposition": "auto",
         "type": "bar",
         "x": [
          "Electricity Generation and Distribution"
         ],
         "xaxis": "x",
         "y": [
          34
         ],
         "yaxis": "y"
        },
        {
         "alignmentgroup": "True",
         "hovertemplate": "cause_code=Short Circuit<br>department=%{x}<br>cnt=%{y}<extra></extra>",
         "legendgroup": "Short Circuit",
         "marker": {
          "color": "#636efa",
          "pattern": {
           "shape": ""
          }
         },
         "name": "Short Circuit",
         "offsetgroup": "Short Circuit",
         "orientation": "v",
         "showlegend": true,
         "textposition": "auto",
         "type": "bar",
         "x": [
          "Electricity Generation and Distribution"
         ],
         "xaxis": "x",
         "y": [
          67
         ],
         "yaxis": "y"
        },
        {
         "alignmentgroup": "True",
         "hovertemplate": "cause_code=Software Problem<br>department=%{x}<br>cnt=%{y}<extra></extra>",
         "legendgroup": "Software Problem",
         "marker": {
          "color": "#EF553B",
          "pattern": {
           "shape": ""
          }
         },
         "name": "Software Problem",
         "offsetgroup": "Software Problem",
         "orientation": "v",
         "showlegend": true,
         "textposition": "auto",
         "type": "bar",
         "x": [
          "Electricity Generation and Distribution"
         ],
         "xaxis": "x",
         "y": [
          15
         ],
         "yaxis": "y"
        },
        {
         "alignmentgroup": "True",
         "hovertemplate": "cause_code=Token not Accepting<br>department=%{x}<br>cnt=%{y}<extra></extra>",
         "legendgroup": "Token not Accepting",
         "marker": {
          "color": "#00cc96",
          "pattern": {
           "shape": ""
          }
         },
         "name": "Token not Accepting",
         "offsetgroup": "Token not Accepting",
         "orientation": "v",
         "showlegend": true,
         "textposition": "auto",
         "type": "bar",
         "x": [
          "Electricity Generation and Distribution"
         ],
         "xaxis": "x",
         "y": [
          22
         ],
         "yaxis": "y"
        },
        {
         "alignmentgroup": "True",
         "hovertemplate": "cause_code=Unknown<br>department=%{x}<br>cnt=%{y}<extra></extra>",
         "legendgroup": "Unknown",
         "marker": {
          "color": "#ab63fa",
          "pattern": {
           "shape": ""
          }
         },
         "name": "Unknown",
         "offsetgroup": "Unknown",
         "orientation": "v",
         "showlegend": true,
         "textposition": "auto",
         "type": "bar",
         "x": [
          "Electricity Generation and Distribution"
         ],
         "xaxis": "x",
         "y": [
          21
         ],
         "yaxis": "y"
        },
        {
         "alignmentgroup": "True",
         "hovertemplate": "cause_code=Vehicle Accident<br>department=%{x}<br>cnt=%{y}<extra></extra>",
         "legendgroup": "Vehicle Accident",
         "marker": {
          "color": "#FFA15A",
          "pattern": {
           "shape": ""
          }
         },
         "name": "Vehicle Accident",
         "offsetgroup": "Vehicle Accident",
         "orientation": "v",
         "showlegend": true,
         "textposition": "auto",
         "type": "bar",
         "x": [
          "Electricity Generation and Distribution"
         ],
         "xaxis": "x",
         "y": [
          4
         ],
         "yaxis": "y"
        },
        {
         "alignmentgroup": "True",
         "hovertemplate": "cause_code=Vehicle(Mechanical)<br>department=%{x}<br>cnt=%{y}<extra></extra>",
         "legendgroup": "Vehicle(Mechanical)",
         "marker": {
          "color": "#19d3f3",
          "pattern": {
           "shape": ""
          }
         },
         "name": "Vehicle(Mechanical)",
         "offsetgroup": "Vehicle(Mechanical)",
         "orientation": "v",
         "showlegend": true,
         "textposition": "auto",
         "type": "bar",
         "x": [
          "Electricity Generation and Distribution"
         ],
         "xaxis": "x",
         "y": [
          3
         ],
         "yaxis": "y"
        },
        {
         "alignmentgroup": "True",
         "hovertemplate": "cause_code=3rd party damage<br>department=%{x}<br>cnt=%{y}<extra></extra>",
         "legendgroup": "3rd party damage",
         "marker": {
          "color": "#FF6692",
          "pattern": {
           "shape": ""
          }
         },
         "name": "3rd party damage",
         "offsetgroup": "3rd party damage",
         "orientation": "v",
         "showlegend": true,
         "textposition": "auto",
         "type": "bar",
         "x": [
          "Roads Infrastructure Management"
         ],
         "xaxis": "x",
         "y": [
          1
         ],
         "yaxis": "y"
        },
        {
         "alignmentgroup": "True",
         "hovertemplate": "cause_code=Base failure<br>department=%{x}<br>cnt=%{y}<extra></extra>",
         "legendgroup": "Base failure",
         "marker": {
          "color": "#B6E880",
          "pattern": {
           "shape": ""
          }
         },
         "name": "Base failure",
         "offsetgroup": "Base failure",
         "orientation": "v",
         "showlegend": true,
         "textposition": "auto",
         "type": "bar",
         "x": [
          "Roads Infrastructure Management"
         ],
         "xaxis": "x",
         "y": [
          97
         ],
         "yaxis": "y"
        },
        {
         "alignmentgroup": "True",
         "hovertemplate": "cause_code=Bedding or soil support failure<br>department=%{x}<br>cnt=%{y}<extra></extra>",
         "legendgroup": "Bedding or soil support failure",
         "marker": {
          "color": "#FF97FF",
          "pattern": {
           "shape": ""
          }
         },
         "name": "Bedding or soil support failure",
         "offsetgroup": "Bedding or soil support failure",
         "orientation": "v",
         "showlegend": true,
         "textposition": "auto",
         "type": "bar",
         "x": [
          "Roads Infrastructure Management"
         ],
         "xaxis": "x",
         "y": [
          3
         ],
         "yaxis": "y"
        },
        {
         "alignmentgroup": "True",
         "hovertemplate": "cause_code=Blockage by Debris/Foreign Material<br>department=%{x}<br>cnt=%{y}<extra></extra>",
         "legendgroup": "Blockage by Debris/Foreign Material",
         "marker": {
          "color": "#FECB52",
          "pattern": {
           "shape": ""
          }
         },
         "name": "Blockage by Debris/Foreign Material",
         "offsetgroup": "Blockage by Debris/Foreign Material",
         "orientation": "v",
         "showlegend": true,
         "textposition": "auto",
         "type": "bar",
         "x": [
          "Roads Infrastructure Management"
         ],
         "xaxis": "x",
         "y": [
          8
         ],
         "yaxis": "y"
        },
        {
         "alignmentgroup": "True",
         "hovertemplate": "cause_code=Clay (wetting and drying)<br>department=%{x}<br>cnt=%{y}<extra></extra>",
         "legendgroup": "Clay (wetting and drying)",
         "marker": {
          "color": "#636efa",
          "pattern": {
           "shape": ""
          }
         },
         "name": "Clay (wetting and drying)",
         "offsetgroup": "Clay (wetting and drying)",
         "orientation": "v",
         "showlegend": true,
         "textposition": "auto",
         "type": "bar",
         "x": [
          "Roads Infrastructure Management"
         ],
         "xaxis": "x",
         "y": [
          1
         ],
         "yaxis": "y"
        },
        {
         "alignmentgroup": "True",
         "hovertemplate": "cause_code=Drainage Inadequate<br>department=%{x}<br>cnt=%{y}<extra></extra>",
         "legendgroup": "Drainage Inadequate",
         "marker": {
          "color": "#EF553B",
          "pattern": {
           "shape": ""
          }
         },
         "name": "Drainage Inadequate",
         "offsetgroup": "Drainage Inadequate",
         "orientation": "v",
         "showlegend": true,
         "textposition": "auto",
         "type": "bar",
         "x": [
          "Roads Infrastructure Management"
         ],
         "xaxis": "x",
         "y": [
          2
         ],
         "yaxis": "y"
        },
        {
         "alignmentgroup": "True",
         "hovertemplate": "cause_code=Erosion<br>department=%{x}<br>cnt=%{y}<extra></extra>",
         "legendgroup": "Erosion",
         "marker": {
          "color": "#00cc96",
          "pattern": {
           "shape": ""
          }
         },
         "name": "Erosion",
         "offsetgroup": "Erosion",
         "orientation": "v",
         "showlegend": true,
         "textposition": "auto",
         "type": "bar",
         "x": [
          "Roads Infrastructure Management"
         ],
         "xaxis": "x",
         "y": [
          2
         ],
         "yaxis": "y"
        },
        {
         "alignmentgroup": "True",
         "hovertemplate": "cause_code=Grey water<br>department=%{x}<br>cnt=%{y}<extra></extra>",
         "legendgroup": "Grey water",
         "marker": {
          "color": "#ab63fa",
          "pattern": {
           "shape": ""
          }
         },
         "name": "Grey water",
         "offsetgroup": "Grey water",
         "orientation": "v",
         "showlegend": true,
         "textposition": "auto",
         "type": "bar",
         "x": [
          "Roads Infrastructure Management"
         ],
         "xaxis": "x",
         "y": [
          1
         ],
         "yaxis": "y"
        },
        {
         "alignmentgroup": "True",
         "hovertemplate": "cause_code=Inappropriate<br>department=%{x}<br>cnt=%{y}<extra></extra>",
         "legendgroup": "Inappropriate",
         "marker": {
          "color": "#FFA15A",
          "pattern": {
           "shape": ""
          }
         },
         "name": "Inappropriate",
         "offsetgroup": "Inappropriate",
         "orientation": "v",
         "showlegend": true,
         "textposition": "auto",
         "type": "bar",
         "x": [
          "Roads Infrastructure Management"
         ],
         "xaxis": "x",
         "y": [
          2
         ],
         "yaxis": "y"
        },
        {
         "alignmentgroup": "True",
         "hovertemplate": "cause_code=Lack of capacity<br>department=%{x}<br>cnt=%{y}<extra></extra>",
         "legendgroup": "Lack of capacity",
         "marker": {
          "color": "#19d3f3",
          "pattern": {
           "shape": ""
          }
         },
         "name": "Lack of capacity",
         "offsetgroup": "Lack of capacity",
         "orientation": "v",
         "showlegend": true,
         "textposition": "auto",
         "type": "bar",
         "x": [
          "Roads Infrastructure Management"
         ],
         "xaxis": "x",
         "y": [
          2
         ],
         "yaxis": "y"
        },
        {
         "alignmentgroup": "True",
         "hovertemplate": "cause_code=Litter, silt or debris<br>department=%{x}<br>cnt=%{y}<extra></extra>",
         "legendgroup": "Litter, silt or debris",
         "marker": {
          "color": "#FF6692",
          "pattern": {
           "shape": ""
          }
         },
         "name": "Litter, silt or debris",
         "offsetgroup": "Litter, silt or debris",
         "orientation": "v",
         "showlegend": true,
         "textposition": "auto",
         "type": "bar",
         "x": [
          "Roads Infrastructure Management"
         ],
         "xaxis": "x",
         "y": [
          165
         ],
         "yaxis": "y"
        },
        {
         "alignmentgroup": "True",
         "hovertemplate": "cause_code=Load<br>department=%{x}<br>cnt=%{y}<extra></extra>",
         "legendgroup": "Load",
         "marker": {
          "color": "#B6E880",
          "pattern": {
           "shape": ""
          }
         },
         "name": "Load",
         "offsetgroup": "Load",
         "orientation": "v",
         "showlegend": true,
         "textposition": "auto",
         "type": "bar",
         "x": [
          "Roads Infrastructure Management"
         ],
         "xaxis": "x",
         "y": [
          4
         ],
         "yaxis": "y"
        },
        {
         "alignmentgroup": "True",
         "hovertemplate": "cause_code=Not Defined<br>department=%{x}<br>cnt=%{y}<extra></extra>",
         "legendgroup": "Not Defined",
         "marker": {
          "color": "#FF97FF",
          "pattern": {
           "shape": ""
          }
         },
         "name": "Not Defined",
         "offsetgroup": "Not Defined",
         "orientation": "v",
         "showlegend": true,
         "textposition": "auto",
         "type": "bar",
         "x": [
          "Roads Infrastructure Management"
         ],
         "xaxis": "x",
         "y": [
          9
         ],
         "yaxis": "y"
        },
        {
         "alignmentgroup": "True",
         "hovertemplate": "cause_code=Other<br>department=%{x}<br>cnt=%{y}<extra></extra>",
         "legendgroup": "Other",
         "marker": {
          "color": "#FECB52",
          "pattern": {
           "shape": ""
          }
         },
         "name": "Other",
         "offsetgroup": "Other",
         "orientation": "v",
         "showlegend": true,
         "textposition": "auto",
         "type": "bar",
         "x": [
          "Roads Infrastructure Management"
         ],
         "xaxis": "x",
         "y": [
          3
         ],
         "yaxis": "y"
        },
        {
         "alignmentgroup": "True",
         "hovertemplate": "cause_code=Over loading<br>department=%{x}<br>cnt=%{y}<extra></extra>",
         "legendgroup": "Over loading",
         "marker": {
          "color": "#636efa",
          "pattern": {
           "shape": ""
          }
         },
         "name": "Over loading",
         "offsetgroup": "Over loading",
         "orientation": "v",
         "showlegend": true,
         "textposition": "auto",
         "type": "bar",
         "x": [
          "Roads Infrastructure Management"
         ],
         "xaxis": "x",
         "y": [
          2
         ],
         "yaxis": "y"
        },
        {
         "alignmentgroup": "True",
         "hovertemplate": "cause_code=Poor cleaning methods<br>department=%{x}<br>cnt=%{y}<extra></extra>",
         "legendgroup": "Poor cleaning methods",
         "marker": {
          "color": "#EF553B",
          "pattern": {
           "shape": ""
          }
         },
         "name": "Poor cleaning methods",
         "offsetgroup": "Poor cleaning methods",
         "orientation": "v",
         "showlegend": true,
         "textposition": "auto",
         "type": "bar",
         "x": [
          "Roads Infrastructure Management"
         ],
         "xaxis": "x",
         "y": [
          1
         ],
         "yaxis": "y"
        },
        {
         "alignmentgroup": "True",
         "hovertemplate": "cause_code=Poor construction or materials<br>department=%{x}<br>cnt=%{y}<extra></extra>",
         "legendgroup": "Poor construction or materials",
         "marker": {
          "color": "#00cc96",
          "pattern": {
           "shape": ""
          }
         },
         "name": "Poor construction or materials",
         "offsetgroup": "Poor construction or materials",
         "orientation": "v",
         "showlegend": true,
         "textposition": "auto",
         "type": "bar",
         "x": [
          "Roads Infrastructure Management"
         ],
         "xaxis": "x",
         "y": [
          2
         ],
         "yaxis": "y"
        },
        {
         "alignmentgroup": "True",
         "hovertemplate": "cause_code=Poor workmanship<br>department=%{x}<br>cnt=%{y}<extra></extra>",
         "legendgroup": "Poor workmanship",
         "marker": {
          "color": "#ab63fa",
          "pattern": {
           "shape": ""
          }
         },
         "name": "Poor workmanship",
         "offsetgroup": "Poor workmanship",
         "orientation": "v",
         "showlegend": true,
         "textposition": "auto",
         "type": "bar",
         "x": [
          "Roads Infrastructure Management"
         ],
         "xaxis": "x",
         "y": [
          2
         ],
         "yaxis": "y"
        },
        {
         "alignmentgroup": "True",
         "hovertemplate": "cause_code=Protest<br>department=%{x}<br>cnt=%{y}<extra></extra>",
         "legendgroup": "Protest",
         "marker": {
          "color": "#FFA15A",
          "pattern": {
           "shape": ""
          }
         },
         "name": "Protest",
         "offsetgroup": "Protest",
         "orientation": "v",
         "showlegend": true,
         "textposition": "auto",
         "type": "bar",
         "x": [
          "Roads Infrastructure Management"
         ],
         "xaxis": "x",
         "y": [
          1
         ],
         "yaxis": "y"
        },
        {
         "alignmentgroup": "True",
         "hovertemplate": "cause_code=Settlement of fill materials<br>department=%{x}<br>cnt=%{y}<extra></extra>",
         "legendgroup": "Settlement of fill materials",
         "marker": {
          "color": "#19d3f3",
          "pattern": {
           "shape": ""
          }
         },
         "name": "Settlement of fill materials",
         "offsetgroup": "Settlement of fill materials",
         "orientation": "v",
         "showlegend": true,
         "textposition": "auto",
         "type": "bar",
         "x": [
          "Roads Infrastructure Management"
         ],
         "xaxis": "x",
         "y": [
          1
         ],
         "yaxis": "y"
        },
        {
         "alignmentgroup": "True",
         "hovertemplate": "cause_code=Sliding of side slopes<br>department=%{x}<br>cnt=%{y}<extra></extra>",
         "legendgroup": "Sliding of side slopes",
         "marker": {
          "color": "#FF6692",
          "pattern": {
           "shape": ""
          }
         },
         "name": "Sliding of side slopes",
         "offsetgroup": "Sliding of side slopes",
         "orientation": "v",
         "showlegend": true,
         "textposition": "auto",
         "type": "bar",
         "x": [
          "Roads Infrastructure Management"
         ],
         "xaxis": "x",
         "y": [
          3
         ],
         "yaxis": "y"
        },
        {
         "alignmentgroup": "True",
         "hovertemplate": "cause_code=Spillage<br>department=%{x}<br>cnt=%{y}<extra></extra>",
         "legendgroup": "Spillage",
         "marker": {
          "color": "#B6E880",
          "pattern": {
           "shape": ""
          }
         },
         "name": "Spillage",
         "offsetgroup": "Spillage",
         "orientation": "v",
         "showlegend": true,
         "textposition": "auto",
         "type": "bar",
         "x": [
          "Roads Infrastructure Management"
         ],
         "xaxis": "x",
         "y": [
          1
         ],
         "yaxis": "y"
        },
        {
         "alignmentgroup": "True",
         "hovertemplate": "cause_code=Surfacing failure<br>department=%{x}<br>cnt=%{y}<extra></extra>",
         "legendgroup": "Surfacing failure",
         "marker": {
          "color": "#FF97FF",
          "pattern": {
           "shape": ""
          }
         },
         "name": "Surfacing failure",
         "offsetgroup": "Surfacing failure",
         "orientation": "v",
         "showlegend": true,
         "textposition": "auto",
         "type": "bar",
         "x": [
          "Roads Infrastructure Management"
         ],
         "xaxis": "x",
         "y": [
          68
         ],
         "yaxis": "y"
        },
        {
         "alignmentgroup": "True",
         "hovertemplate": "cause_code=Tree roots<br>department=%{x}<br>cnt=%{y}<extra></extra>",
         "legendgroup": "Tree roots",
         "marker": {
          "color": "#FECB52",
          "pattern": {
           "shape": ""
          }
         },
         "name": "Tree roots",
         "offsetgroup": "Tree roots",
         "orientation": "v",
         "showlegend": true,
         "textposition": "auto",
         "type": "bar",
         "x": [
          "Roads Infrastructure Management"
         ],
         "xaxis": "x",
         "y": [
          23
         ],
         "yaxis": "y"
        },
        {
         "alignmentgroup": "True",
         "hovertemplate": "cause_code=Underground service failure<br>department=%{x}<br>cnt=%{y}<extra></extra>",
         "legendgroup": "Underground service failure",
         "marker": {
          "color": "#636efa",
          "pattern": {
           "shape": ""
          }
         },
         "name": "Underground service failure",
         "offsetgroup": "Underground service failure",
         "orientation": "v",
         "showlegend": true,
         "textposition": "auto",
         "type": "bar",
         "x": [
          "Roads Infrastructure Management"
         ],
         "xaxis": "x",
         "y": [
          24
         ],
         "yaxis": "y"
        },
        {
         "alignmentgroup": "True",
         "hovertemplate": "cause_code=Unpaved Roads-Poor road Shape<br>department=%{x}<br>cnt=%{y}<extra></extra>",
         "legendgroup": "Unpaved Roads-Poor road Shape",
         "marker": {
          "color": "#EF553B",
          "pattern": {
           "shape": ""
          }
         },
         "name": "Unpaved Roads-Poor road Shape",
         "offsetgroup": "Unpaved Roads-Poor road Shape",
         "orientation": "v",
         "showlegend": true,
         "textposition": "auto",
         "type": "bar",
         "x": [
          "Roads Infrastructure Management"
         ],
         "xaxis": "x",
         "y": [
          1
         ],
         "yaxis": "y"
        },
        {
         "alignmentgroup": "True",
         "hovertemplate": "cause_code=Unpaved Roads-Traffic<br>department=%{x}<br>cnt=%{y}<extra></extra>",
         "legendgroup": "Unpaved Roads-Traffic",
         "marker": {
          "color": "#00cc96",
          "pattern": {
           "shape": ""
          }
         },
         "name": "Unpaved Roads-Traffic",
         "offsetgroup": "Unpaved Roads-Traffic",
         "orientation": "v",
         "showlegend": true,
         "textposition": "auto",
         "type": "bar",
         "x": [
          "Roads Infrastructure Management"
         ],
         "xaxis": "x",
         "y": [
          1
         ],
         "yaxis": "y"
        },
        {
         "alignmentgroup": "True",
         "hovertemplate": "cause_code=Vandalism / Theft<br>department=%{x}<br>cnt=%{y}<extra></extra>",
         "legendgroup": "Vandalism / Theft",
         "marker": {
          "color": "#ab63fa",
          "pattern": {
           "shape": ""
          }
         },
         "name": "Vandalism / Theft",
         "offsetgroup": "Vandalism / Theft",
         "orientation": "v",
         "showlegend": true,
         "textposition": "auto",
         "type": "bar",
         "x": [
          "Roads Infrastructure Management"
         ],
         "xaxis": "x",
         "y": [
          13
         ],
         "yaxis": "y"
        },
        {
         "alignmentgroup": "True",
         "hovertemplate": "cause_code=Vegatation growth<br>department=%{x}<br>cnt=%{y}<extra></extra>",
         "legendgroup": "Vegatation growth",
         "marker": {
          "color": "#FFA15A",
          "pattern": {
           "shape": ""
          }
         },
         "name": "Vegatation growth",
         "offsetgroup": "Vegatation growth",
         "orientation": "v",
         "showlegend": true,
         "textposition": "auto",
         "type": "bar",
         "x": [
          "Roads Infrastructure Management"
         ],
         "xaxis": "x",
         "y": [
          29
         ],
         "yaxis": "y"
        },
        {
         "alignmentgroup": "True",
         "hovertemplate": "cause_code=Vegetation growth<br>department=%{x}<br>cnt=%{y}<extra></extra>",
         "legendgroup": "Vegetation growth",
         "marker": {
          "color": "#19d3f3",
          "pattern": {
           "shape": ""
          }
         },
         "name": "Vegetation growth",
         "offsetgroup": "Vegetation growth",
         "orientation": "v",
         "showlegend": true,
         "textposition": "auto",
         "type": "bar",
         "x": [
          "Roads Infrastructure Management"
         ],
         "xaxis": "x",
         "y": [
          1
         ],
         "yaxis": "y"
        },
        {
         "alignmentgroup": "True",
         "hovertemplate": "cause_code=Wear and Tear<br>department=%{x}<br>cnt=%{y}<extra></extra>",
         "legendgroup": "Wear and Tear",
         "marker": {
          "color": "#FF6692",
          "pattern": {
           "shape": ""
          }
         },
         "name": "Wear and Tear",
         "offsetgroup": "Wear and Tear",
         "orientation": "v",
         "showlegend": true,
         "textposition": "auto",
         "type": "bar",
         "x": [
          "Roads Infrastructure Management"
         ],
         "xaxis": "x",
         "y": [
          3
         ],
         "yaxis": "y"
        },
        {
         "alignmentgroup": "True",
         "hovertemplate": "cause_code=Wear and tear<br>department=%{x}<br>cnt=%{y}<extra></extra>",
         "legendgroup": "Wear and tear",
         "marker": {
          "color": "#B6E880",
          "pattern": {
           "shape": ""
          }
         },
         "name": "Wear and tear",
         "offsetgroup": "Wear and tear",
         "orientation": "v",
         "showlegend": true,
         "textposition": "auto",
         "type": "bar",
         "x": [
          "Roads Infrastructure Management"
         ],
         "xaxis": "x",
         "y": [
          35
         ],
         "yaxis": "y"
        },
        {
         "alignmentgroup": "True",
         "hovertemplate": "cause_code=Wet conditions<br>department=%{x}<br>cnt=%{y}<extra></extra>",
         "legendgroup": "Wet conditions",
         "marker": {
          "color": "#FF97FF",
          "pattern": {
           "shape": ""
          }
         },
         "name": "Wet conditions",
         "offsetgroup": "Wet conditions",
         "orientation": "v",
         "showlegend": true,
         "textposition": "auto",
         "type": "bar",
         "x": [
          "Roads Infrastructure Management"
         ],
         "xaxis": "x",
         "y": [
          2
         ],
         "yaxis": "y"
        },
        {
         "alignmentgroup": "True",
         "hovertemplate": "cause_code=Cable Core - Burnt<br>department=%{x}<br>cnt=%{y}<extra></extra>",
         "legendgroup": "Cable Core - Burnt",
         "marker": {
          "color": "#FECB52",
          "pattern": {
           "shape": ""
          }
         },
         "name": "Cable Core - Burnt",
         "offsetgroup": "Cable Core - Burnt",
         "orientation": "v",
         "showlegend": true,
         "textposition": "auto",
         "type": "bar",
         "x": [
          "Transport Planning & Network Management"
         ],
         "xaxis": "x",
         "y": [
          1
         ],
         "yaxis": "y"
        }
       ],
       "layout": {
        "barmode": "relative",
        "height": 800,
        "legend": {
         "title": {
          "text": "cause_code"
         },
         "tracegroupgap": 0
        },
        "template": {
         "data": {
          "bar": [
           {
            "error_x": {
             "color": "#2a3f5f"
            },
            "error_y": {
             "color": "#2a3f5f"
            },
            "marker": {
             "line": {
              "color": "#E5ECF6",
              "width": 0.5
             },
             "pattern": {
              "fillmode": "overlay",
              "size": 10,
              "solidity": 0.2
             }
            },
            "type": "bar"
           }
          ],
          "barpolar": [
           {
            "marker": {
             "line": {
              "color": "#E5ECF6",
              "width": 0.5
             },
             "pattern": {
              "fillmode": "overlay",
              "size": 10,
              "solidity": 0.2
             }
            },
            "type": "barpolar"
           }
          ],
          "carpet": [
           {
            "aaxis": {
             "endlinecolor": "#2a3f5f",
             "gridcolor": "white",
             "linecolor": "white",
             "minorgridcolor": "white",
             "startlinecolor": "#2a3f5f"
            },
            "baxis": {
             "endlinecolor": "#2a3f5f",
             "gridcolor": "white",
             "linecolor": "white",
             "minorgridcolor": "white",
             "startlinecolor": "#2a3f5f"
            },
            "type": "carpet"
           }
          ],
          "choropleth": [
           {
            "colorbar": {
             "outlinewidth": 0,
             "ticks": ""
            },
            "type": "choropleth"
           }
          ],
          "contour": [
           {
            "colorbar": {
             "outlinewidth": 0,
             "ticks": ""
            },
            "colorscale": [
             [
              0,
              "#0d0887"
             ],
             [
              0.1111111111111111,
              "#46039f"
             ],
             [
              0.2222222222222222,
              "#7201a8"
             ],
             [
              0.3333333333333333,
              "#9c179e"
             ],
             [
              0.4444444444444444,
              "#bd3786"
             ],
             [
              0.5555555555555556,
              "#d8576b"
             ],
             [
              0.6666666666666666,
              "#ed7953"
             ],
             [
              0.7777777777777778,
              "#fb9f3a"
             ],
             [
              0.8888888888888888,
              "#fdca26"
             ],
             [
              1,
              "#f0f921"
             ]
            ],
            "type": "contour"
           }
          ],
          "contourcarpet": [
           {
            "colorbar": {
             "outlinewidth": 0,
             "ticks": ""
            },
            "type": "contourcarpet"
           }
          ],
          "heatmap": [
           {
            "colorbar": {
             "outlinewidth": 0,
             "ticks": ""
            },
            "colorscale": [
             [
              0,
              "#0d0887"
             ],
             [
              0.1111111111111111,
              "#46039f"
             ],
             [
              0.2222222222222222,
              "#7201a8"
             ],
             [
              0.3333333333333333,
              "#9c179e"
             ],
             [
              0.4444444444444444,
              "#bd3786"
             ],
             [
              0.5555555555555556,
              "#d8576b"
             ],
             [
              0.6666666666666666,
              "#ed7953"
             ],
             [
              0.7777777777777778,
              "#fb9f3a"
             ],
             [
              0.8888888888888888,
              "#fdca26"
             ],
             [
              1,
              "#f0f921"
             ]
            ],
            "type": "heatmap"
           }
          ],
          "heatmapgl": [
           {
            "colorbar": {
             "outlinewidth": 0,
             "ticks": ""
            },
            "colorscale": [
             [
              0,
              "#0d0887"
             ],
             [
              0.1111111111111111,
              "#46039f"
             ],
             [
              0.2222222222222222,
              "#7201a8"
             ],
             [
              0.3333333333333333,
              "#9c179e"
             ],
             [
              0.4444444444444444,
              "#bd3786"
             ],
             [
              0.5555555555555556,
              "#d8576b"
             ],
             [
              0.6666666666666666,
              "#ed7953"
             ],
             [
              0.7777777777777778,
              "#fb9f3a"
             ],
             [
              0.8888888888888888,
              "#fdca26"
             ],
             [
              1,
              "#f0f921"
             ]
            ],
            "type": "heatmapgl"
           }
          ],
          "histogram": [
           {
            "marker": {
             "pattern": {
              "fillmode": "overlay",
              "size": 10,
              "solidity": 0.2
             }
            },
            "type": "histogram"
           }
          ],
          "histogram2d": [
           {
            "colorbar": {
             "outlinewidth": 0,
             "ticks": ""
            },
            "colorscale": [
             [
              0,
              "#0d0887"
             ],
             [
              0.1111111111111111,
              "#46039f"
             ],
             [
              0.2222222222222222,
              "#7201a8"
             ],
             [
              0.3333333333333333,
              "#9c179e"
             ],
             [
              0.4444444444444444,
              "#bd3786"
             ],
             [
              0.5555555555555556,
              "#d8576b"
             ],
             [
              0.6666666666666666,
              "#ed7953"
             ],
             [
              0.7777777777777778,
              "#fb9f3a"
             ],
             [
              0.8888888888888888,
              "#fdca26"
             ],
             [
              1,
              "#f0f921"
             ]
            ],
            "type": "histogram2d"
           }
          ],
          "histogram2dcontour": [
           {
            "colorbar": {
             "outlinewidth": 0,
             "ticks": ""
            },
            "colorscale": [
             [
              0,
              "#0d0887"
             ],
             [
              0.1111111111111111,
              "#46039f"
             ],
             [
              0.2222222222222222,
              "#7201a8"
             ],
             [
              0.3333333333333333,
              "#9c179e"
             ],
             [
              0.4444444444444444,
              "#bd3786"
             ],
             [
              0.5555555555555556,
              "#d8576b"
             ],
             [
              0.6666666666666666,
              "#ed7953"
             ],
             [
              0.7777777777777778,
              "#fb9f3a"
             ],
             [
              0.8888888888888888,
              "#fdca26"
             ],
             [
              1,
              "#f0f921"
             ]
            ],
            "type": "histogram2dcontour"
           }
          ],
          "mesh3d": [
           {
            "colorbar": {
             "outlinewidth": 0,
             "ticks": ""
            },
            "type": "mesh3d"
           }
          ],
          "parcoords": [
           {
            "line": {
             "colorbar": {
              "outlinewidth": 0,
              "ticks": ""
             }
            },
            "type": "parcoords"
           }
          ],
          "pie": [
           {
            "automargin": true,
            "type": "pie"
           }
          ],
          "scatter": [
           {
            "fillpattern": {
             "fillmode": "overlay",
             "size": 10,
             "solidity": 0.2
            },
            "type": "scatter"
           }
          ],
          "scatter3d": [
           {
            "line": {
             "colorbar": {
              "outlinewidth": 0,
              "ticks": ""
             }
            },
            "marker": {
             "colorbar": {
              "outlinewidth": 0,
              "ticks": ""
             }
            },
            "type": "scatter3d"
           }
          ],
          "scattercarpet": [
           {
            "marker": {
             "colorbar": {
              "outlinewidth": 0,
              "ticks": ""
             }
            },
            "type": "scattercarpet"
           }
          ],
          "scattergeo": [
           {
            "marker": {
             "colorbar": {
              "outlinewidth": 0,
              "ticks": ""
             }
            },
            "type": "scattergeo"
           }
          ],
          "scattergl": [
           {
            "marker": {
             "colorbar": {
              "outlinewidth": 0,
              "ticks": ""
             }
            },
            "type": "scattergl"
           }
          ],
          "scattermapbox": [
           {
            "marker": {
             "colorbar": {
              "outlinewidth": 0,
              "ticks": ""
             }
            },
            "type": "scattermapbox"
           }
          ],
          "scatterpolar": [
           {
            "marker": {
             "colorbar": {
              "outlinewidth": 0,
              "ticks": ""
             }
            },
            "type": "scatterpolar"
           }
          ],
          "scatterpolargl": [
           {
            "marker": {
             "colorbar": {
              "outlinewidth": 0,
              "ticks": ""
             }
            },
            "type": "scatterpolargl"
           }
          ],
          "scatterternary": [
           {
            "marker": {
             "colorbar": {
              "outlinewidth": 0,
              "ticks": ""
             }
            },
            "type": "scatterternary"
           }
          ],
          "surface": [
           {
            "colorbar": {
             "outlinewidth": 0,
             "ticks": ""
            },
            "colorscale": [
             [
              0,
              "#0d0887"
             ],
             [
              0.1111111111111111,
              "#46039f"
             ],
             [
              0.2222222222222222,
              "#7201a8"
             ],
             [
              0.3333333333333333,
              "#9c179e"
             ],
             [
              0.4444444444444444,
              "#bd3786"
             ],
             [
              0.5555555555555556,
              "#d8576b"
             ],
             [
              0.6666666666666666,
              "#ed7953"
             ],
             [
              0.7777777777777778,
              "#fb9f3a"
             ],
             [
              0.8888888888888888,
              "#fdca26"
             ],
             [
              1,
              "#f0f921"
             ]
            ],
            "type": "surface"
           }
          ],
          "table": [
           {
            "cells": {
             "fill": {
              "color": "#EBF0F8"
             },
             "line": {
              "color": "white"
             }
            },
            "header": {
             "fill": {
              "color": "#C8D4E3"
             },
             "line": {
              "color": "white"
             }
            },
            "type": "table"
           }
          ]
         },
         "layout": {
          "annotationdefaults": {
           "arrowcolor": "#2a3f5f",
           "arrowhead": 0,
           "arrowwidth": 1
          },
          "autotypenumbers": "strict",
          "coloraxis": {
           "colorbar": {
            "outlinewidth": 0,
            "ticks": ""
           }
          },
          "colorscale": {
           "diverging": [
            [
             0,
             "#8e0152"
            ],
            [
             0.1,
             "#c51b7d"
            ],
            [
             0.2,
             "#de77ae"
            ],
            [
             0.3,
             "#f1b6da"
            ],
            [
             0.4,
             "#fde0ef"
            ],
            [
             0.5,
             "#f7f7f7"
            ],
            [
             0.6,
             "#e6f5d0"
            ],
            [
             0.7,
             "#b8e186"
            ],
            [
             0.8,
             "#7fbc41"
            ],
            [
             0.9,
             "#4d9221"
            ],
            [
             1,
             "#276419"
            ]
           ],
           "sequential": [
            [
             0,
             "#0d0887"
            ],
            [
             0.1111111111111111,
             "#46039f"
            ],
            [
             0.2222222222222222,
             "#7201a8"
            ],
            [
             0.3333333333333333,
             "#9c179e"
            ],
            [
             0.4444444444444444,
             "#bd3786"
            ],
            [
             0.5555555555555556,
             "#d8576b"
            ],
            [
             0.6666666666666666,
             "#ed7953"
            ],
            [
             0.7777777777777778,
             "#fb9f3a"
            ],
            [
             0.8888888888888888,
             "#fdca26"
            ],
            [
             1,
             "#f0f921"
            ]
           ],
           "sequentialminus": [
            [
             0,
             "#0d0887"
            ],
            [
             0.1111111111111111,
             "#46039f"
            ],
            [
             0.2222222222222222,
             "#7201a8"
            ],
            [
             0.3333333333333333,
             "#9c179e"
            ],
            [
             0.4444444444444444,
             "#bd3786"
            ],
            [
             0.5555555555555556,
             "#d8576b"
            ],
            [
             0.6666666666666666,
             "#ed7953"
            ],
            [
             0.7777777777777778,
             "#fb9f3a"
            ],
            [
             0.8888888888888888,
             "#fdca26"
            ],
            [
             1,
             "#f0f921"
            ]
           ]
          },
          "colorway": [
           "#636efa",
           "#EF553B",
           "#00cc96",
           "#ab63fa",
           "#FFA15A",
           "#19d3f3",
           "#FF6692",
           "#B6E880",
           "#FF97FF",
           "#FECB52"
          ],
          "font": {
           "color": "#2a3f5f"
          },
          "geo": {
           "bgcolor": "white",
           "lakecolor": "white",
           "landcolor": "#E5ECF6",
           "showlakes": true,
           "showland": true,
           "subunitcolor": "white"
          },
          "hoverlabel": {
           "align": "left"
          },
          "hovermode": "closest",
          "mapbox": {
           "style": "light"
          },
          "paper_bgcolor": "white",
          "plot_bgcolor": "#E5ECF6",
          "polar": {
           "angularaxis": {
            "gridcolor": "white",
            "linecolor": "white",
            "ticks": ""
           },
           "bgcolor": "#E5ECF6",
           "radialaxis": {
            "gridcolor": "white",
            "linecolor": "white",
            "ticks": ""
           }
          },
          "scene": {
           "xaxis": {
            "backgroundcolor": "#E5ECF6",
            "gridcolor": "white",
            "gridwidth": 2,
            "linecolor": "white",
            "showbackground": true,
            "ticks": "",
            "zerolinecolor": "white"
           },
           "yaxis": {
            "backgroundcolor": "#E5ECF6",
            "gridcolor": "white",
            "gridwidth": 2,
            "linecolor": "white",
            "showbackground": true,
            "ticks": "",
            "zerolinecolor": "white"
           },
           "zaxis": {
            "backgroundcolor": "#E5ECF6",
            "gridcolor": "white",
            "gridwidth": 2,
            "linecolor": "white",
            "showbackground": true,
            "ticks": "",
            "zerolinecolor": "white"
           }
          },
          "shapedefaults": {
           "line": {
            "color": "#2a3f5f"
           }
          },
          "ternary": {
           "aaxis": {
            "gridcolor": "white",
            "linecolor": "white",
            "ticks": ""
           },
           "baxis": {
            "gridcolor": "white",
            "linecolor": "white",
            "ticks": ""
           },
           "bgcolor": "#E5ECF6",
           "caxis": {
            "gridcolor": "white",
            "linecolor": "white",
            "ticks": ""
           }
          },
          "title": {
           "x": 0.05
          },
          "xaxis": {
           "automargin": true,
           "gridcolor": "white",
           "linecolor": "white",
           "ticks": "",
           "title": {
            "standoff": 15
           },
           "zerolinecolor": "white",
           "zerolinewidth": 2
          },
          "yaxis": {
           "automargin": true,
           "gridcolor": "white",
           "linecolor": "white",
           "ticks": "",
           "title": {
            "standoff": 15
           },
           "zerolinecolor": "white",
           "zerolinewidth": 2
          }
         }
        },
        "title": {
         "text": "Causes for service: anomalous"
        },
        "width": 800,
        "xaxis": {
         "anchor": "y",
         "domain": [
          0,
          1
         ],
         "title": {
          "text": "department"
         }
        },
        "yaxis": {
         "anchor": "x",
         "domain": [
          0,
          1
         ],
         "title": {
          "text": "cnt"
         }
        }
       }
      }
     },
     "metadata": {},
     "output_type": "display_data"
    }
   ],
   "source": [
    "fig = px.bar(sum_table, x=\"department\", y=\"cnt\", color=\"cause_code\", title=\"Causes for service: anomalous\",\n",
    "                 width=800, height=800)\n",
    "fig.show()"
   ]
  },
  {
   "cell_type": "markdown",
   "metadata": {},
   "source": [
    "# Interpretations\n",
    "The top departments with the most anomalous services requests are in general the ones with the highest requests overall.\n",
    "* Electricity\n",
    "* Distribution\n",
    "* Commercial\n",
    "* Solid waste\n",
    "\n",
    "It would appear asif Distribution has to contend with some arson which may have caused a spike in the service requests.\n",
    "\n",
    "However, the majority of anomalous service requests have unknown (not assigned) causes.\n",
    "It's hard to make recommendations if the reasons for the request is unclear.\n",
    "\n",
    "cause_code_group could give insights as to what the service type was."
   ]
  },
  {
   "cell_type": "code",
   "execution_count": 13,
   "metadata": {},
   "outputs": [
    {
     "data": {
      "application/vnd.plotly.v1+json": {
       "config": {
        "plotlyServerURL": "https://plot.ly"
       },
       "data": [
        {
         "alignmentgroup": "True",
         "hovertemplate": "cause_code_group=unknown<br>department=%{x}<br>cnt=%{y}<extra></extra>",
         "legendgroup": "unknown",
         "marker": {
          "color": "#636efa",
          "pattern": {
           "shape": ""
          }
         },
         "name": "unknown",
         "offsetgroup": "unknown",
         "orientation": "v",
         "showlegend": true,
         "textposition": "auto",
         "type": "bar",
         "x": [
          "City Health",
          "Commercial Services",
          "Customer Relations",
          "Distribution Services",
          "Electricity Generation and Distribution",
          "Home Ownership Transfer, Tenancy Management and Staff Housing",
          "Operational Coordination",
          "Property Management",
          "Recreation and Parks",
          "Revenue",
          "Roads Infrastructure Management",
          "Social Development & Early Childhood Development",
          "Solid Waste Management",
          "Technical Services",
          "Transport Planning & Network Management",
          "Valuations"
         ],
         "xaxis": "x",
         "y": [
          476,
          7034,
          427,
          5742,
          8305,
          1495,
          79,
          185,
          614,
          1966,
          752,
          64,
          5137,
          1493,
          180,
          84
         ],
         "yaxis": "y"
        },
        {
         "alignmentgroup": "True",
         "hovertemplate": "cause_code_group=General<br>department=%{x}<br>cnt=%{y}<extra></extra>",
         "legendgroup": "General",
         "marker": {
          "color": "#EF553B",
          "pattern": {
           "shape": ""
          }
         },
         "name": "General",
         "offsetgroup": "General",
         "orientation": "v",
         "showlegend": true,
         "textposition": "auto",
         "type": "bar",
         "x": [
          "City Health",
          "Commercial Services",
          "Distribution Services",
          "Roads Infrastructure Management"
         ],
         "xaxis": "x",
         "y": [
          1,
          11,
          2332,
          1
         ],
         "yaxis": "y"
        },
        {
         "alignmentgroup": "True",
         "hovertemplate": "cause_code_group=Loss<br>department=%{x}<br>cnt=%{y}<extra></extra>",
         "legendgroup": "Loss",
         "marker": {
          "color": "#00cc96",
          "pattern": {
           "shape": ""
          }
         },
         "name": "Loss",
         "offsetgroup": "Loss",
         "orientation": "v",
         "showlegend": true,
         "textposition": "auto",
         "type": "bar",
         "x": [
          "Commercial Services",
          "Distribution Services",
          "Home Ownership Transfer, Tenancy Management and Staff Housing",
          "Roads Infrastructure Management"
         ],
         "xaxis": "x",
         "y": [
          7,
          81,
          1,
          2
         ],
         "yaxis": "y"
        },
        {
         "alignmentgroup": "True",
         "hovertemplate": "cause_code_group=Elements<br>department=%{x}<br>cnt=%{y}<extra></extra>",
         "legendgroup": "Elements",
         "marker": {
          "color": "#ab63fa",
          "pattern": {
           "shape": ""
          }
         },
         "name": "Elements",
         "offsetgroup": "Elements",
         "orientation": "v",
         "showlegend": true,
         "textposition": "auto",
         "type": "bar",
         "x": [
          "Distribution Services"
         ],
         "xaxis": "x",
         "y": [
          3
         ],
         "yaxis": "y"
        },
        {
         "alignmentgroup": "True",
         "hovertemplate": "cause_code_group=Electricity Revenue Protection<br>department=%{x}<br>cnt=%{y}<extra></extra>",
         "legendgroup": "Electricity Revenue Protection",
         "marker": {
          "color": "#FFA15A",
          "pattern": {
           "shape": ""
          }
         },
         "name": "Electricity Revenue Protection",
         "offsetgroup": "Electricity Revenue Protection",
         "orientation": "v",
         "showlegend": true,
         "textposition": "auto",
         "type": "bar",
         "x": [
          "Electricity Generation and Distribution"
         ],
         "xaxis": "x",
         "y": [
          70
         ],
         "yaxis": "y"
        },
        {
         "alignmentgroup": "True",
         "hovertemplate": "cause_code_group=Point of Supply<br>department=%{x}<br>cnt=%{y}<extra></extra>",
         "legendgroup": "Point of Supply",
         "marker": {
          "color": "#19d3f3",
          "pattern": {
           "shape": ""
          }
         },
         "name": "Point of Supply",
         "offsetgroup": "Point of Supply",
         "orientation": "v",
         "showlegend": true,
         "textposition": "auto",
         "type": "bar",
         "x": [
          "Electricity Generation and Distribution"
         ],
         "xaxis": "x",
         "y": [
          1005
         ],
         "yaxis": "y"
        },
        {
         "alignmentgroup": "True",
         "hovertemplate": "cause_code_group=Public Lighting<br>department=%{x}<br>cnt=%{y}<extra></extra>",
         "legendgroup": "Public Lighting",
         "marker": {
          "color": "#FF6692",
          "pattern": {
           "shape": ""
          }
         },
         "name": "Public Lighting",
         "offsetgroup": "Public Lighting",
         "orientation": "v",
         "showlegend": true,
         "textposition": "auto",
         "type": "bar",
         "x": [
          "Electricity Generation and Distribution"
         ],
         "xaxis": "x",
         "y": [
          191
         ],
         "yaxis": "y"
        },
        {
         "alignmentgroup": "True",
         "hovertemplate": "cause_code_group=Catchpits<br>department=%{x}<br>cnt=%{y}<extra></extra>",
         "legendgroup": "Catchpits",
         "marker": {
          "color": "#B6E880",
          "pattern": {
           "shape": ""
          }
         },
         "name": "Catchpits",
         "offsetgroup": "Catchpits",
         "orientation": "v",
         "showlegend": true,
         "textposition": "auto",
         "type": "bar",
         "x": [
          "Roads Infrastructure Management"
         ],
         "xaxis": "x",
         "y": [
          117
         ],
         "yaxis": "y"
        },
        {
         "alignmentgroup": "True",
         "hovertemplate": "cause_code_group=Channel<br>department=%{x}<br>cnt=%{y}<extra></extra>",
         "legendgroup": "Channel",
         "marker": {
          "color": "#FF97FF",
          "pattern": {
           "shape": ""
          }
         },
         "name": "Channel",
         "offsetgroup": "Channel",
         "orientation": "v",
         "showlegend": true,
         "textposition": "auto",
         "type": "bar",
         "x": [
          "Roads Infrastructure Management"
         ],
         "xaxis": "x",
         "y": [
          4
         ],
         "yaxis": "y"
        },
        {
         "alignmentgroup": "True",
         "hovertemplate": "cause_code_group=Headwall<br>department=%{x}<br>cnt=%{y}<extra></extra>",
         "legendgroup": "Headwall",
         "marker": {
          "color": "#FECB52",
          "pattern": {
           "shape": ""
          }
         },
         "name": "Headwall",
         "offsetgroup": "Headwall",
         "orientation": "v",
         "showlegend": true,
         "textposition": "auto",
         "type": "bar",
         "x": [
          "Roads Infrastructure Management"
         ],
         "xaxis": "x",
         "y": [
          1
         ],
         "yaxis": "y"
        },
        {
         "alignmentgroup": "True",
         "hovertemplate": "cause_code_group=Manholes<br>department=%{x}<br>cnt=%{y}<extra></extra>",
         "legendgroup": "Manholes",
         "marker": {
          "color": "#636efa",
          "pattern": {
           "shape": ""
          }
         },
         "name": "Manholes",
         "offsetgroup": "Manholes",
         "orientation": "v",
         "showlegend": true,
         "textposition": "auto",
         "type": "bar",
         "x": [
          "Roads Infrastructure Management"
         ],
         "xaxis": "x",
         "y": [
          54
         ],
         "yaxis": "y"
        },
        {
         "alignmentgroup": "True",
         "hovertemplate": "cause_code_group=Off-street parking<br>department=%{x}<br>cnt=%{y}<extra></extra>",
         "legendgroup": "Off-street parking",
         "marker": {
          "color": "#EF553B",
          "pattern": {
           "shape": ""
          }
         },
         "name": "Off-street parking",
         "offsetgroup": "Off-street parking",
         "orientation": "v",
         "showlegend": true,
         "textposition": "auto",
         "type": "bar",
         "x": [
          "Roads Infrastructure Management"
         ],
         "xaxis": "x",
         "y": [
          1
         ],
         "yaxis": "y"
        },
        {
         "alignmentgroup": "True",
         "hovertemplate": "cause_code_group=PM Stormwater Pipes & Culverts<br>department=%{x}<br>cnt=%{y}<extra></extra>",
         "legendgroup": "PM Stormwater Pipes & Culverts",
         "marker": {
          "color": "#00cc96",
          "pattern": {
           "shape": ""
          }
         },
         "name": "PM Stormwater Pipes & Culverts",
         "offsetgroup": "PM Stormwater Pipes & Culverts",
         "orientation": "v",
         "showlegend": true,
         "textposition": "auto",
         "type": "bar",
         "x": [
          "Roads Infrastructure Management"
         ],
         "xaxis": "x",
         "y": [
          10
         ],
         "yaxis": "y"
        },
        {
         "alignmentgroup": "True",
         "hovertemplate": "cause_code_group=Pedestrian Cros-Rais<br>department=%{x}<br>cnt=%{y}<extra></extra>",
         "legendgroup": "Pedestrian Cros-Rais",
         "marker": {
          "color": "#ab63fa",
          "pattern": {
           "shape": ""
          }
         },
         "name": "Pedestrian Cros-Rais",
         "offsetgroup": "Pedestrian Cros-Rais",
         "orientation": "v",
         "showlegend": true,
         "textposition": "auto",
         "type": "bar",
         "x": [
          "Roads Infrastructure Management"
         ],
         "xaxis": "x",
         "y": [
          2
         ],
         "yaxis": "y"
        },
        {
         "alignmentgroup": "True",
         "hovertemplate": "cause_code_group=Road (RCL)<br>department=%{x}<br>cnt=%{y}<extra></extra>",
         "legendgroup": "Road (RCL)",
         "marker": {
          "color": "#FFA15A",
          "pattern": {
           "shape": ""
          }
         },
         "name": "Road (RCL)",
         "offsetgroup": "Road (RCL)",
         "orientation": "v",
         "showlegend": true,
         "textposition": "auto",
         "type": "bar",
         "x": [
          "Roads Infrastructure Management"
         ],
         "xaxis": "x",
         "y": [
          279
         ],
         "yaxis": "y"
        },
        {
         "alignmentgroup": "True",
         "hovertemplate": "cause_code_group=Road Markings<br>department=%{x}<br>cnt=%{y}<extra></extra>",
         "legendgroup": "Road Markings",
         "marker": {
          "color": "#19d3f3",
          "pattern": {
           "shape": ""
          }
         },
         "name": "Road Markings",
         "offsetgroup": "Road Markings",
         "orientation": "v",
         "showlegend": true,
         "textposition": "auto",
         "type": "bar",
         "x": [
          "Roads Infrastructure Management"
         ],
         "xaxis": "x",
         "y": [
          9
         ],
         "yaxis": "y"
        },
        {
         "alignmentgroup": "True",
         "hovertemplate": "cause_code_group=Road reserves<br>department=%{x}<br>cnt=%{y}<extra></extra>",
         "legendgroup": "Road reserves",
         "marker": {
          "color": "#FF6692",
          "pattern": {
           "shape": ""
          }
         },
         "name": "Road reserves",
         "offsetgroup": "Road reserves",
         "orientation": "v",
         "showlegend": true,
         "textposition": "auto",
         "type": "bar",
         "x": [
          "Roads Infrastructure Management"
         ],
         "xaxis": "x",
         "y": [
          7
         ],
         "yaxis": "y"
        },
        {
         "alignmentgroup": "True",
         "hovertemplate": "cause_code_group=Sidewalk<br>department=%{x}<br>cnt=%{y}<extra></extra>",
         "legendgroup": "Sidewalk",
         "marker": {
          "color": "#B6E880",
          "pattern": {
           "shape": ""
          }
         },
         "name": "Sidewalk",
         "offsetgroup": "Sidewalk",
         "orientation": "v",
         "showlegend": true,
         "textposition": "auto",
         "type": "bar",
         "x": [
          "Roads Infrastructure Management"
         ],
         "xaxis": "x",
         "y": [
          11
         ],
         "yaxis": "y"
        },
        {
         "alignmentgroup": "True",
         "hovertemplate": "cause_code_group=Signs<br>department=%{x}<br>cnt=%{y}<extra></extra>",
         "legendgroup": "Signs",
         "marker": {
          "color": "#FF97FF",
          "pattern": {
           "shape": ""
          }
         },
         "name": "Signs",
         "offsetgroup": "Signs",
         "orientation": "v",
         "showlegend": true,
         "textposition": "auto",
         "type": "bar",
         "x": [
          "Roads Infrastructure Management"
         ],
         "xaxis": "x",
         "y": [
          6
         ],
         "yaxis": "y"
        },
        {
         "alignmentgroup": "True",
         "hovertemplate": "cause_code_group=Underground conduits<br>department=%{x}<br>cnt=%{y}<extra></extra>",
         "legendgroup": "Underground conduits",
         "marker": {
          "color": "#FECB52",
          "pattern": {
           "shape": ""
          }
         },
         "name": "Underground conduits",
         "offsetgroup": "Underground conduits",
         "orientation": "v",
         "showlegend": true,
         "textposition": "auto",
         "type": "bar",
         "x": [
          "Roads Infrastructure Management"
         ],
         "xaxis": "x",
         "y": [
          34
         ],
         "yaxis": "y"
        },
        {
         "alignmentgroup": "True",
         "hovertemplate": "cause_code_group=Intersections-Sign<br>department=%{x}<br>cnt=%{y}<extra></extra>",
         "legendgroup": "Intersections-Sign",
         "marker": {
          "color": "#636efa",
          "pattern": {
           "shape": ""
          }
         },
         "name": "Intersections-Sign",
         "offsetgroup": "Intersections-Sign",
         "orientation": "v",
         "showlegend": true,
         "textposition": "auto",
         "type": "bar",
         "x": [
          "Transport Planning & Network Management"
         ],
         "xaxis": "x",
         "y": [
          1
         ],
         "yaxis": "y"
        }
       ],
       "layout": {
        "barmode": "relative",
        "height": 800,
        "legend": {
         "title": {
          "text": "cause_code_group"
         },
         "tracegroupgap": 0
        },
        "template": {
         "data": {
          "bar": [
           {
            "error_x": {
             "color": "#2a3f5f"
            },
            "error_y": {
             "color": "#2a3f5f"
            },
            "marker": {
             "line": {
              "color": "#E5ECF6",
              "width": 0.5
             },
             "pattern": {
              "fillmode": "overlay",
              "size": 10,
              "solidity": 0.2
             }
            },
            "type": "bar"
           }
          ],
          "barpolar": [
           {
            "marker": {
             "line": {
              "color": "#E5ECF6",
              "width": 0.5
             },
             "pattern": {
              "fillmode": "overlay",
              "size": 10,
              "solidity": 0.2
             }
            },
            "type": "barpolar"
           }
          ],
          "carpet": [
           {
            "aaxis": {
             "endlinecolor": "#2a3f5f",
             "gridcolor": "white",
             "linecolor": "white",
             "minorgridcolor": "white",
             "startlinecolor": "#2a3f5f"
            },
            "baxis": {
             "endlinecolor": "#2a3f5f",
             "gridcolor": "white",
             "linecolor": "white",
             "minorgridcolor": "white",
             "startlinecolor": "#2a3f5f"
            },
            "type": "carpet"
           }
          ],
          "choropleth": [
           {
            "colorbar": {
             "outlinewidth": 0,
             "ticks": ""
            },
            "type": "choropleth"
           }
          ],
          "contour": [
           {
            "colorbar": {
             "outlinewidth": 0,
             "ticks": ""
            },
            "colorscale": [
             [
              0,
              "#0d0887"
             ],
             [
              0.1111111111111111,
              "#46039f"
             ],
             [
              0.2222222222222222,
              "#7201a8"
             ],
             [
              0.3333333333333333,
              "#9c179e"
             ],
             [
              0.4444444444444444,
              "#bd3786"
             ],
             [
              0.5555555555555556,
              "#d8576b"
             ],
             [
              0.6666666666666666,
              "#ed7953"
             ],
             [
              0.7777777777777778,
              "#fb9f3a"
             ],
             [
              0.8888888888888888,
              "#fdca26"
             ],
             [
              1,
              "#f0f921"
             ]
            ],
            "type": "contour"
           }
          ],
          "contourcarpet": [
           {
            "colorbar": {
             "outlinewidth": 0,
             "ticks": ""
            },
            "type": "contourcarpet"
           }
          ],
          "heatmap": [
           {
            "colorbar": {
             "outlinewidth": 0,
             "ticks": ""
            },
            "colorscale": [
             [
              0,
              "#0d0887"
             ],
             [
              0.1111111111111111,
              "#46039f"
             ],
             [
              0.2222222222222222,
              "#7201a8"
             ],
             [
              0.3333333333333333,
              "#9c179e"
             ],
             [
              0.4444444444444444,
              "#bd3786"
             ],
             [
              0.5555555555555556,
              "#d8576b"
             ],
             [
              0.6666666666666666,
              "#ed7953"
             ],
             [
              0.7777777777777778,
              "#fb9f3a"
             ],
             [
              0.8888888888888888,
              "#fdca26"
             ],
             [
              1,
              "#f0f921"
             ]
            ],
            "type": "heatmap"
           }
          ],
          "heatmapgl": [
           {
            "colorbar": {
             "outlinewidth": 0,
             "ticks": ""
            },
            "colorscale": [
             [
              0,
              "#0d0887"
             ],
             [
              0.1111111111111111,
              "#46039f"
             ],
             [
              0.2222222222222222,
              "#7201a8"
             ],
             [
              0.3333333333333333,
              "#9c179e"
             ],
             [
              0.4444444444444444,
              "#bd3786"
             ],
             [
              0.5555555555555556,
              "#d8576b"
             ],
             [
              0.6666666666666666,
              "#ed7953"
             ],
             [
              0.7777777777777778,
              "#fb9f3a"
             ],
             [
              0.8888888888888888,
              "#fdca26"
             ],
             [
              1,
              "#f0f921"
             ]
            ],
            "type": "heatmapgl"
           }
          ],
          "histogram": [
           {
            "marker": {
             "pattern": {
              "fillmode": "overlay",
              "size": 10,
              "solidity": 0.2
             }
            },
            "type": "histogram"
           }
          ],
          "histogram2d": [
           {
            "colorbar": {
             "outlinewidth": 0,
             "ticks": ""
            },
            "colorscale": [
             [
              0,
              "#0d0887"
             ],
             [
              0.1111111111111111,
              "#46039f"
             ],
             [
              0.2222222222222222,
              "#7201a8"
             ],
             [
              0.3333333333333333,
              "#9c179e"
             ],
             [
              0.4444444444444444,
              "#bd3786"
             ],
             [
              0.5555555555555556,
              "#d8576b"
             ],
             [
              0.6666666666666666,
              "#ed7953"
             ],
             [
              0.7777777777777778,
              "#fb9f3a"
             ],
             [
              0.8888888888888888,
              "#fdca26"
             ],
             [
              1,
              "#f0f921"
             ]
            ],
            "type": "histogram2d"
           }
          ],
          "histogram2dcontour": [
           {
            "colorbar": {
             "outlinewidth": 0,
             "ticks": ""
            },
            "colorscale": [
             [
              0,
              "#0d0887"
             ],
             [
              0.1111111111111111,
              "#46039f"
             ],
             [
              0.2222222222222222,
              "#7201a8"
             ],
             [
              0.3333333333333333,
              "#9c179e"
             ],
             [
              0.4444444444444444,
              "#bd3786"
             ],
             [
              0.5555555555555556,
              "#d8576b"
             ],
             [
              0.6666666666666666,
              "#ed7953"
             ],
             [
              0.7777777777777778,
              "#fb9f3a"
             ],
             [
              0.8888888888888888,
              "#fdca26"
             ],
             [
              1,
              "#f0f921"
             ]
            ],
            "type": "histogram2dcontour"
           }
          ],
          "mesh3d": [
           {
            "colorbar": {
             "outlinewidth": 0,
             "ticks": ""
            },
            "type": "mesh3d"
           }
          ],
          "parcoords": [
           {
            "line": {
             "colorbar": {
              "outlinewidth": 0,
              "ticks": ""
             }
            },
            "type": "parcoords"
           }
          ],
          "pie": [
           {
            "automargin": true,
            "type": "pie"
           }
          ],
          "scatter": [
           {
            "fillpattern": {
             "fillmode": "overlay",
             "size": 10,
             "solidity": 0.2
            },
            "type": "scatter"
           }
          ],
          "scatter3d": [
           {
            "line": {
             "colorbar": {
              "outlinewidth": 0,
              "ticks": ""
             }
            },
            "marker": {
             "colorbar": {
              "outlinewidth": 0,
              "ticks": ""
             }
            },
            "type": "scatter3d"
           }
          ],
          "scattercarpet": [
           {
            "marker": {
             "colorbar": {
              "outlinewidth": 0,
              "ticks": ""
             }
            },
            "type": "scattercarpet"
           }
          ],
          "scattergeo": [
           {
            "marker": {
             "colorbar": {
              "outlinewidth": 0,
              "ticks": ""
             }
            },
            "type": "scattergeo"
           }
          ],
          "scattergl": [
           {
            "marker": {
             "colorbar": {
              "outlinewidth": 0,
              "ticks": ""
             }
            },
            "type": "scattergl"
           }
          ],
          "scattermapbox": [
           {
            "marker": {
             "colorbar": {
              "outlinewidth": 0,
              "ticks": ""
             }
            },
            "type": "scattermapbox"
           }
          ],
          "scatterpolar": [
           {
            "marker": {
             "colorbar": {
              "outlinewidth": 0,
              "ticks": ""
             }
            },
            "type": "scatterpolar"
           }
          ],
          "scatterpolargl": [
           {
            "marker": {
             "colorbar": {
              "outlinewidth": 0,
              "ticks": ""
             }
            },
            "type": "scatterpolargl"
           }
          ],
          "scatterternary": [
           {
            "marker": {
             "colorbar": {
              "outlinewidth": 0,
              "ticks": ""
             }
            },
            "type": "scatterternary"
           }
          ],
          "surface": [
           {
            "colorbar": {
             "outlinewidth": 0,
             "ticks": ""
            },
            "colorscale": [
             [
              0,
              "#0d0887"
             ],
             [
              0.1111111111111111,
              "#46039f"
             ],
             [
              0.2222222222222222,
              "#7201a8"
             ],
             [
              0.3333333333333333,
              "#9c179e"
             ],
             [
              0.4444444444444444,
              "#bd3786"
             ],
             [
              0.5555555555555556,
              "#d8576b"
             ],
             [
              0.6666666666666666,
              "#ed7953"
             ],
             [
              0.7777777777777778,
              "#fb9f3a"
             ],
             [
              0.8888888888888888,
              "#fdca26"
             ],
             [
              1,
              "#f0f921"
             ]
            ],
            "type": "surface"
           }
          ],
          "table": [
           {
            "cells": {
             "fill": {
              "color": "#EBF0F8"
             },
             "line": {
              "color": "white"
             }
            },
            "header": {
             "fill": {
              "color": "#C8D4E3"
             },
             "line": {
              "color": "white"
             }
            },
            "type": "table"
           }
          ]
         },
         "layout": {
          "annotationdefaults": {
           "arrowcolor": "#2a3f5f",
           "arrowhead": 0,
           "arrowwidth": 1
          },
          "autotypenumbers": "strict",
          "coloraxis": {
           "colorbar": {
            "outlinewidth": 0,
            "ticks": ""
           }
          },
          "colorscale": {
           "diverging": [
            [
             0,
             "#8e0152"
            ],
            [
             0.1,
             "#c51b7d"
            ],
            [
             0.2,
             "#de77ae"
            ],
            [
             0.3,
             "#f1b6da"
            ],
            [
             0.4,
             "#fde0ef"
            ],
            [
             0.5,
             "#f7f7f7"
            ],
            [
             0.6,
             "#e6f5d0"
            ],
            [
             0.7,
             "#b8e186"
            ],
            [
             0.8,
             "#7fbc41"
            ],
            [
             0.9,
             "#4d9221"
            ],
            [
             1,
             "#276419"
            ]
           ],
           "sequential": [
            [
             0,
             "#0d0887"
            ],
            [
             0.1111111111111111,
             "#46039f"
            ],
            [
             0.2222222222222222,
             "#7201a8"
            ],
            [
             0.3333333333333333,
             "#9c179e"
            ],
            [
             0.4444444444444444,
             "#bd3786"
            ],
            [
             0.5555555555555556,
             "#d8576b"
            ],
            [
             0.6666666666666666,
             "#ed7953"
            ],
            [
             0.7777777777777778,
             "#fb9f3a"
            ],
            [
             0.8888888888888888,
             "#fdca26"
            ],
            [
             1,
             "#f0f921"
            ]
           ],
           "sequentialminus": [
            [
             0,
             "#0d0887"
            ],
            [
             0.1111111111111111,
             "#46039f"
            ],
            [
             0.2222222222222222,
             "#7201a8"
            ],
            [
             0.3333333333333333,
             "#9c179e"
            ],
            [
             0.4444444444444444,
             "#bd3786"
            ],
            [
             0.5555555555555556,
             "#d8576b"
            ],
            [
             0.6666666666666666,
             "#ed7953"
            ],
            [
             0.7777777777777778,
             "#fb9f3a"
            ],
            [
             0.8888888888888888,
             "#fdca26"
            ],
            [
             1,
             "#f0f921"
            ]
           ]
          },
          "colorway": [
           "#636efa",
           "#EF553B",
           "#00cc96",
           "#ab63fa",
           "#FFA15A",
           "#19d3f3",
           "#FF6692",
           "#B6E880",
           "#FF97FF",
           "#FECB52"
          ],
          "font": {
           "color": "#2a3f5f"
          },
          "geo": {
           "bgcolor": "white",
           "lakecolor": "white",
           "landcolor": "#E5ECF6",
           "showlakes": true,
           "showland": true,
           "subunitcolor": "white"
          },
          "hoverlabel": {
           "align": "left"
          },
          "hovermode": "closest",
          "mapbox": {
           "style": "light"
          },
          "paper_bgcolor": "white",
          "plot_bgcolor": "#E5ECF6",
          "polar": {
           "angularaxis": {
            "gridcolor": "white",
            "linecolor": "white",
            "ticks": ""
           },
           "bgcolor": "#E5ECF6",
           "radialaxis": {
            "gridcolor": "white",
            "linecolor": "white",
            "ticks": ""
           }
          },
          "scene": {
           "xaxis": {
            "backgroundcolor": "#E5ECF6",
            "gridcolor": "white",
            "gridwidth": 2,
            "linecolor": "white",
            "showbackground": true,
            "ticks": "",
            "zerolinecolor": "white"
           },
           "yaxis": {
            "backgroundcolor": "#E5ECF6",
            "gridcolor": "white",
            "gridwidth": 2,
            "linecolor": "white",
            "showbackground": true,
            "ticks": "",
            "zerolinecolor": "white"
           },
           "zaxis": {
            "backgroundcolor": "#E5ECF6",
            "gridcolor": "white",
            "gridwidth": 2,
            "linecolor": "white",
            "showbackground": true,
            "ticks": "",
            "zerolinecolor": "white"
           }
          },
          "shapedefaults": {
           "line": {
            "color": "#2a3f5f"
           }
          },
          "ternary": {
           "aaxis": {
            "gridcolor": "white",
            "linecolor": "white",
            "ticks": ""
           },
           "baxis": {
            "gridcolor": "white",
            "linecolor": "white",
            "ticks": ""
           },
           "bgcolor": "#E5ECF6",
           "caxis": {
            "gridcolor": "white",
            "linecolor": "white",
            "ticks": ""
           }
          },
          "title": {
           "x": 0.05
          },
          "xaxis": {
           "automargin": true,
           "gridcolor": "white",
           "linecolor": "white",
           "ticks": "",
           "title": {
            "standoff": 15
           },
           "zerolinecolor": "white",
           "zerolinewidth": 2
          },
          "yaxis": {
           "automargin": true,
           "gridcolor": "white",
           "linecolor": "white",
           "ticks": "",
           "title": {
            "standoff": 15
           },
           "zerolinecolor": "white",
           "zerolinewidth": 2
          }
         }
        },
        "title": {
         "text": "Cause group for service: anomalous"
        },
        "width": 800,
        "xaxis": {
         "anchor": "y",
         "domain": [
          0,
          1
         ],
         "title": {
          "text": "department"
         }
        },
        "yaxis": {
         "anchor": "x",
         "domain": [
          0,
          1
         ],
         "title": {
          "text": "cnt"
         }
        }
       }
      }
     },
     "metadata": {},
     "output_type": "display_data"
    }
   ],
   "source": [
    "# investigate cause_group\n",
    "query = '''\n",
    "select department,\n",
    "       cause_code_group,\n",
    "       count(distinct notification_number) cnt\n",
    "from anom_line\n",
    "group by department, cause_code_group\n",
    "'''\n",
    "cause_group = sqldf.run(query)\n",
    "\n",
    "cause_group['cause_code_group'] = cause_group['cause_code_group'].fillna('unknown')\n",
    "\n",
    "fig = px.bar(cause_group, x=\"department\", y=\"cnt\", color=\"cause_code_group\", title=\"Cause group for service: anomalous\",\n",
    "                 width=800, height=800)\n",
    "fig.show()"
   ]
  },
  {
   "cell_type": "markdown",
   "metadata": {},
   "source": [
    "This also falls in the unknown grouping mostly"
   ]
  }
 ],
 "metadata": {
  "kernelspec": {
   "display_name": "Python 3.9.12 ('venv': venv)",
   "language": "python",
   "name": "python3"
  },
  "language_info": {
   "codemirror_mode": {
    "name": "ipython",
    "version": 3
   },
   "file_extension": ".py",
   "mimetype": "text/x-python",
   "name": "python",
   "nbconvert_exporter": "python",
   "pygments_lexer": "ipython3",
   "version": "3.9.12"
  },
  "orig_nbformat": 4,
  "vscode": {
   "interpreter": {
    "hash": "9ce8fb71a79b41f8c541fde538ed2a6b64f67a34e45f24ea94ca1e23049d923f"
   }
  }
 },
 "nbformat": 4,
 "nbformat_minor": 2
}
