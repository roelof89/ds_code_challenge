{
 "cells": [
  {
   "cell_type": "markdown",
   "metadata": {},
   "source": [
    "# 4 Predictive Analytic tasks: Anomaly\n",
    "Perform anomaly detection for requests per department per day in the first 6 months\n"
   ]
  },
  {
   "cell_type": "code",
   "execution_count": null,
   "metadata": {},
   "outputs": [],
   "source": [
    "import sqldf\n",
    "import pandas as pd\n",
    "import geopandas as gpd\n",
    "import sklearn as sk\n",
    "import helper.functions as hf\n",
    "from datetime import datetime\n",
    "import holidays"
   ]
  },
  {
   "cell_type": "code",
   "execution_count": null,
   "metadata": {},
   "outputs": [],
   "source": [
    "# make logger\n",
    "start = datetime.now()\n",
    "logger = hf.make_logger('4-predictive_analytic_tasks_anomaly')"
   ]
  },
  {
   "cell_type": "code",
   "execution_count": null,
   "metadata": {},
   "outputs": [],
   "source": [
    "# load data\n",
    "col_types = {\n",
    "    'notification_number':str,\n",
    "    'reference_number':str\n",
    "    }\n",
    "date_cols = ['creation_timestamp','completion_timestamp']\n",
    "df = pd.read_csv('data/raw/sr_hex.csv', parse_dates=date_cols,dtype=col_types)\n",
    "df['date'] = pd.to_datetime(df['creation_timestamp'].dt.date)"
   ]
  },
  {
   "cell_type": "code",
   "execution_count": null,
   "metadata": {},
   "outputs": [],
   "source": [
    "query = '''\n",
    "select department,\n",
    "       date,\n",
    "       count(distinct notification_number) req\n",
    "from df\n",
    "group by department, date\n",
    "order by department, date\n",
    "having date < '2020-07-01'\n",
    "'''\n",
    "\n",
    "df_test = sqldf(query)"
   ]
  },
  {
   "cell_type": "code",
   "execution_count": null,
   "metadata": {},
   "outputs": [],
   "source": [
    "query = '''\n",
    "select department,\n",
    "       date,\n",
    "       count(distinct notification_number) req\n",
    "from df\n",
    "group by department, date\n",
    "order by department, date\n",
    "having date >= '2020-07-01'\n",
    "'''\n",
    "\n",
    "df_train = sqldf(query)"
   ]
  },
  {
   "cell_type": "code",
   "execution_count": null,
   "metadata": {},
   "outputs": [],
   "source": [
    "from sklearn.ensemble import IsolationForest as IF\n",
    "\n",
    "res = []\n",
    "\n",
    "g = df_train.groupby(['department'])\n",
    "for name, data in g:\n",
    "    x_train = data[['req']]\n",
    "    clf = IF(max_samples=100)\n",
    "    clf.fit(x_train)\n",
    "\n",
    "    x_test = df_test[df_test['department'] == name]\n",
    "    x_dates = x_test[['date']]\n",
    "    x_test = x_test[['req']]\n",
    "    pred = pd.DataFrame({'department':name,\n",
    "                         'date':x_dates,\n",
    "                         'pred':clf.predict(x_test),\n",
    "                         'decision_function':clf.decision_function(x_test),\n",
    "                         'score_samples':clf.score_samples(x_test)})\n",
    "    res.append(pred)"
   ]
  },
  {
   "cell_type": "code",
   "execution_count": null,
   "metadata": {},
   "outputs": [],
   "source": [
    "res = pd.concat(res,axis=1)"
   ]
  }
 ],
 "metadata": {
  "kernelspec": {
   "display_name": "Python 3.9.12 ('venv': venv)",
   "language": "python",
   "name": "python3"
  },
  "language_info": {
   "name": "python",
   "version": "3.9.12"
  },
  "orig_nbformat": 4,
  "vscode": {
   "interpreter": {
    "hash": "9ce8fb71a79b41f8c541fde538ed2a6b64f67a34e45f24ea94ca1e23049d923f"
   }
  }
 },
 "nbformat": 4,
 "nbformat_minor": 2
}
