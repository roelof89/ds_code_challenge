{
 "cells": [
  {
   "cell_type": "markdown",
   "metadata": {},
   "source": [
    "# 4 Predictive Analytic tasks: Anomaly\n",
    "Perform anomaly detection for requests per department per day in the first 6 months\n"
   ]
  },
  {
   "cell_type": "code",
   "execution_count": null,
   "metadata": {},
   "outputs": [],
   "source": [
    "import sqldf\n",
    "import pandas as pd\n",
    "import geopandas as gpd\n",
    "import sklearn as sk\n",
    "import helper.functions as hf\n",
    "from datetime import datetime\n",
    "import holidays"
   ]
  },
  {
   "cell_type": "code",
   "execution_count": null,
   "metadata": {},
   "outputs": [],
   "source": [
    "# make logger\n",
    "start = datetime.now()\n",
    "logger = hf.make_logger('4-predictive_analytic_tasks_anomaly')"
   ]
  },
  {
   "cell_type": "code",
   "execution_count": null,
   "metadata": {},
   "outputs": [],
   "source": [
    "# load data\n",
    "col_types = {\n",
    "    'notification_number':str,\n",
    "    'reference_number':str\n",
    "    }\n",
    "date_cols = ['creation_timestamp','completion_timestamp']\n",
    "df = pd.read_csv('data/raw/sr_hex.csv', parse_dates=date_cols,dtype=col_types)\n",
    "df['date'] = pd.to_datetime(df['creation_timestamp'].dt.date, format='%Y-%m-%d')"
   ]
  },
  {
   "cell_type": "code",
   "execution_count": null,
   "metadata": {},
   "outputs": [],
   "source": [
    "query = '''\n",
    "select department,\n",
    "       date,\n",
    "       count(distinct notification_number) req\n",
    "from df\n",
    "group by department, date\n",
    "having date < '2020-07-01' and department is not null\n",
    "order by department, date\n",
    "'''\n",
    "\n",
    "df_test = sqldf.run(query)"
   ]
  },
  {
   "cell_type": "code",
   "execution_count": null,
   "metadata": {},
   "outputs": [],
   "source": [
    "query = '''\n",
    "select department,\n",
    "       date,\n",
    "       count(distinct notification_number) req\n",
    "from df\n",
    "group by department, date\n",
    "having date >= '2020-07-01' and department is not null\n",
    "order by department, date\n",
    "'''\n",
    "\n",
    "df_train = sqldf.run(query)"
   ]
  },
  {
   "cell_type": "code",
   "execution_count": null,
   "metadata": {},
   "outputs": [],
   "source": [
    "from sklearn.ensemble import IsolationForest as IF\n",
    "\n",
    "res = []\n",
    "\n",
    "g = df_train.groupby(['department'])\n",
    "for name, data in g:\n",
    "    if data.shape[0] > 5:\n",
    "        x_train = data[['req']]\n",
    "        clf = IF(n_estimators=100, max_samples='auto', contamination=float(.12), max_features=1.0, bootstrap=False, n_jobs=-1)\n",
    "        clf.fit(x_train)\n",
    "\n",
    "        x_test = df_test[df_test['department'] == name]\n",
    "        if x_test.shape[0] > 0:\n",
    "            x_dates = x_test[['date']]\n",
    "            x_test = x_test[['req']]\n",
    "            pred = pd.DataFrame({'department':name,\n",
    "                                'date':x_dates['date'],\n",
    "                                'pred':clf.predict(x_test),\n",
    "                                'decision_function':clf.decision_function(x_test),\n",
    "                                'score_samples':clf.score_samples(x_test),\n",
    "                                'req':x_test['req']})\n",
    "            pred['request_cnt'] = x_test['req'].sum()\n",
    "            res.append(pred)\n"
   ]
  },
  {
   "cell_type": "code",
   "execution_count": null,
   "metadata": {},
   "outputs": [],
   "source": [
    "res = pd.concat(res)"
   ]
  },
  {
   "cell_type": "markdown",
   "metadata": {},
   "source": [
    "# Let's see who had the most anomalies by department\n"
   ]
  },
  {
   "cell_type": "code",
   "execution_count": null,
   "metadata": {},
   "outputs": [],
   "source": [
    "query = '''\n",
    "select department,\n",
    "       case when pred = -1 then 1.0 else 0.0 end anom_cnt\n",
    "from res\n",
    "'''\n",
    "\n",
    "sum_df = sqldf.run(query)\n",
    "\n",
    "query = '''\n",
    "select department,\n",
    "       sum(anom_cnt) anom_cnt,\n",
    "       count(*) cnt,\n",
    "       sum(anom_cnt)/count(*)*100 anom_per\n",
    "from sum_df\n",
    "group by department\n",
    "'''\n",
    "\n",
    "sum_df = sqldf.run(query)\n",
    "sum_df"
   ]
  },
  {
   "cell_type": "code",
   "execution_count": null,
   "metadata": {},
   "outputs": [],
   "source": [
    "# We are looking for days which had really high service requests. \n",
    "query = '''\n",
    "select *\n",
    "from res\n",
    "where pred = -1 and req > 2\n",
    "'''\n",
    "\n",
    "anom_df = sqldf.run(query)"
   ]
  },
  {
   "cell_type": "code",
   "execution_count": null,
   "metadata": {},
   "outputs": [],
   "source": [
    "query = '''\n",
    "select df.*\n",
    "from df\n",
    "inner join anom_df on anom_df.department = df.department and anom_df.date = df.date\n",
    "'''\n",
    "\n",
    "anom_line = sqldf.run(query)"
   ]
  },
  {
   "cell_type": "code",
   "execution_count": null,
   "metadata": {},
   "outputs": [],
   "source": [
    "# Let's see why these days were picked up as anomalies\n",
    "query = '''\n",
    "select department,\n",
    "       cause_code,\n",
    "       count(distinct notification_number) cnt\n",
    "from anom_line\n",
    "group by department, cause_code\n",
    "'''\n",
    "\n",
    "sum_table = sqldf.run(query)\n",
    "sum_table['cause_code'] = sum_table['cause_code'].fillna('unknown')"
   ]
  },
  {
   "cell_type": "code",
   "execution_count": null,
   "metadata": {},
   "outputs": [],
   "source": [
    "import plotly.express as px\n",
    "\n",
    "fig = px.bar(sum_table, x=\"department\", y=\"cnt\", color=\"cause_code\", title=\"Causes for service: anomalous\")\n",
    "fig.show()"
   ]
  },
  {
   "cell_type": "code",
   "execution_count": null,
   "metadata": {},
   "outputs": [],
   "source": [
    "causes = sum_table.groupby('cause_code').agg({'cnt':'sum'}).sort_values('cnt',ascending=False).reset_index()\n",
    "#causes.plot.bar(x='cause_code',y='cnt',figsize=(15,5))"
   ]
  }
 ],
 "metadata": {
  "kernelspec": {
   "display_name": "Python 3.9.12 ('venv': venv)",
   "language": "python",
   "name": "python3"
  },
  "language_info": {
   "codemirror_mode": {
    "name": "ipython",
    "version": 3
   },
   "file_extension": ".py",
   "mimetype": "text/x-python",
   "name": "python",
   "nbconvert_exporter": "python",
   "pygments_lexer": "ipython3",
   "version": "3.9.12"
  },
  "orig_nbformat": 4,
  "vscode": {
   "interpreter": {
    "hash": "9ce8fb71a79b41f8c541fde538ed2a6b64f67a34e45f24ea94ca1e23049d923f"
   }
  }
 },
 "nbformat": 4,
 "nbformat_minor": 2
}
