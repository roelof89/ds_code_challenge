{
 "cells": [
  {
   "cell_type": "markdown",
   "metadata": {},
   "source": [
    "# 2. Initial Data Transformation (if applying for a Data Engineering and/or Science Position)\n",
    "This notebook is intended to explore the data join process and determine the join threshold"
   ]
  },
  {
   "cell_type": "code",
   "execution_count": 1,
   "metadata": {},
   "outputs": [],
   "source": [
    "import pandas as pd\n",
    "import geopandas as gpd\n",
    "import helper.functions as hf\n",
    "from datetime import datetime"
   ]
  },
  {
   "cell_type": "code",
   "execution_count": 2,
   "metadata": {},
   "outputs": [],
   "source": [
    "# make logger\n",
    "start = datetime.now()\n",
    "logger = hf.make_logger('2-initial_data_transformation_explore')"
   ]
  },
  {
   "cell_type": "code",
   "execution_count": 3,
   "metadata": {},
   "outputs": [],
   "source": [
    "# read service data\n",
    "logger.info('Loading files')\n",
    "load_time = datetime.now()\n",
    "sr = hf.load_service_data('data/raw/sr.csv.gz')\n",
    "# read geojson\n",
    "geo = gpd.read_file('data/raw/city-hex-polygons-8.geojson')\n",
    "load_time = datetime.now() - load_time\n",
    "logger.info(f'Files loaded: {load_time}')"
   ]
  },
  {
   "cell_type": "code",
   "execution_count": 4,
   "metadata": {},
   "outputs": [],
   "source": [
    "# join using geospatial join\n",
    "logger.info(\"Joining files on geometry\")\n",
    "join_time = datetime.now()\n",
    "sr.crs = geo.crs\n",
    "sr['h3_level8_index'] = sr.sjoin(geo, how='left')['index'] # only want the index col\n",
    "join_time = datetime.now() - join_time\n",
    "logger.info(f\"Finished join: {join_time}\")\n",
    "sr = sr.drop(['geometry'], axis=1) # don't need to keep geometry data so dropping"
   ]
  },
  {
   "cell_type": "markdown",
   "metadata": {},
   "source": [
    "## What does the join data tell us about nulls\n",
    "There is about 23% of the records which can't join on geo data.\n",
    "There is also a number of records missing a reference_number which is odd."
   ]
  },
  {
   "cell_type": "code",
   "execution_count": 5,
   "metadata": {},
   "outputs": [
    {
     "name": "stdout",
     "output_type": "stream",
     "text": [
      "Records failed join: 212367\n",
      "Records total: 941634\n",
      "Join error: 23.0%\n"
     ]
    }
   ],
   "source": [
    "fails = hf.count_na(sr,'h3_level8_index')\n",
    "df_set = sr.shape[0]\n",
    "print(f\"Records failed join: {fails}\")\n",
    "print(f\"Records total: {df_set}\")\n",
    "print(f\"Join error: {round(fails/df_set, 2)*100}%\")"
   ]
  }
 ],
 "metadata": {
  "kernelspec": {
   "display_name": "Python 3.9.12 ('venv': venv)",
   "language": "python",
   "name": "python3"
  },
  "language_info": {
   "codemirror_mode": {
    "name": "ipython",
    "version": 3
   },
   "file_extension": ".py",
   "mimetype": "text/x-python",
   "name": "python",
   "nbconvert_exporter": "python",
   "pygments_lexer": "ipython3",
   "version": "3.9.12"
  },
  "orig_nbformat": 4,
  "vscode": {
   "interpreter": {
    "hash": "9ce8fb71a79b41f8c541fde538ed2a6b64f67a34e45f24ea94ca1e23049d923f"
   }
  }
 },
 "nbformat": 4,
 "nbformat_minor": 2
}
